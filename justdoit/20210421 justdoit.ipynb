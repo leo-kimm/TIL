{
 "cells": [
  {
   "cell_type": "code",
   "execution_count": 12,
   "metadata": {},
   "outputs": [
    {
     "data": {
      "text/plain": [
       "'김서방은 1에 있다'"
      ]
     },
     "execution_count": 12,
     "metadata": {},
     "output_type": "execute_result"
    }
   ],
   "source": [
    "# 김서방 찾기\n",
    "\n",
    "def solution(seoul):\n",
    "    answer = 0\n",
    "    n = 0\n",
    "    for i in seoul:\n",
    "        if i == 'Kim':\n",
    "            answer += n\n",
    "            return (f'김서방은 {answer}에 있다')\n",
    "        n += 1\n",
    "        \n",
    "solution([\"Jane\", \"Kim\"])"
   ]
  },
  {
   "cell_type": "code",
   "execution_count": 26,
   "metadata": {},
   "outputs": [
    {
     "data": {
      "text/plain": [
       "'김서방은 1에 있다'"
      ]
     },
     "execution_count": 26,
     "metadata": {},
     "output_type": "execute_result"
    }
   ],
   "source": [
    "# 김서방 찾기\n",
    "\n",
    "def solution2(seoul):\n",
    "    answer = seoul.index('Kim')\n",
    "    return f'김서방은 {answer}에 있다'\n",
    "        \n",
    "solution2([\"Jane\", \"Kim\"])"
   ]
  },
  {
   "cell_type": "code",
   "execution_count": 45,
   "metadata": {},
   "outputs": [
    {
     "data": {
      "text/plain": [
       "[5, 6, 3]"
      ]
     },
     "execution_count": 45,
     "metadata": {},
     "output_type": "execute_result"
    }
   ],
   "source": [
    "# K번째 수\n",
    "\n",
    "def solution(array, commands):\n",
    "    n = 0\n",
    "    result = []\n",
    "    while n < len(commands):\n",
    "        answer = array[commands[n][0]-1:commands[n][1]]\n",
    "        answer.sort()\n",
    "        answer = answer[commands[n][2]-1]\n",
    "        result.append(answer)\n",
    "        n += 1\n",
    "        if n == len(commands):\n",
    "            return result\n",
    "\n",
    "solution([1, 5, 2, 6, 3, 7, 4],[[2, 5, 3], [4, 4, 1], [1, 7, 3]])"
   ]
  }
 ],
 "metadata": {
  "kernelspec": {
   "display_name": "Python 3",
   "language": "python",
   "name": "python3"
  },
  "language_info": {
   "codemirror_mode": {
    "name": "ipython",
    "version": 3
   },
   "file_extension": ".py",
   "mimetype": "text/x-python",
   "name": "python",
   "nbconvert_exporter": "python",
   "pygments_lexer": "ipython3",
   "version": "3.8.5"
  }
 },
 "nbformat": 4,
 "nbformat_minor": 4
}
