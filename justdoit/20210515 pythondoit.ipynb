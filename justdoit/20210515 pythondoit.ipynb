{
 "cells": [
  {
   "cell_type": "markdown",
   "id": "e1b89bc2",
   "metadata": {},
   "source": [
    "## 나홀로 코딩"
   ]
  },
  {
   "cell_type": "code",
   "execution_count": 5,
   "id": "af3322e3",
   "metadata": {
    "scrolled": true
   },
   "outputs": [
    {
     "name": "stdout",
     "output_type": "stream",
     "text": [
      "<class 'float'>\n",
      "<class 'float'>\n",
      "기준 수: 2\n",
      "지수: 2\n"
     ]
    }
   ],
   "source": [
    "# 숫자 받아서 지수 구해주는 함수\n",
    "\n",
    "def get_exponent(x):\n",
    "    \n",
    "    try:\n",
    "        cnt = 0\n",
    "        for i in range(2,x+1):\n",
    "            if x%i == 0:\n",
    "                while True:\n",
    "                    x = int(x)\n",
    "                    \n",
    "                    x = x/i\n",
    "                    \n",
    "                    print(type(x))\n",
    "                    cnt += 1\n",
    "                    if x == 1:\n",
    "                        return print(f'기준 수: {i}\\n지수: {cnt}')\n",
    "                        break\n",
    "\n",
    "\n",
    "\n",
    "    except:\n",
    "        print('실패')\n",
    "                    \n",
    "\n",
    "    \n",
    "get_exponent(4)"
   ]
  },
  {
   "cell_type": "code",
   "execution_count": null,
   "id": "fbdf63eb",
   "metadata": {},
   "outputs": [],
   "source": [
    "def gangsan(n):\n",
    "    n = 3\n",
    "    return n**1000\n",
    "\n",
    "gangsan(n)"
   ]
  },
  {
   "cell_type": "code",
   "execution_count": null,
   "id": "dd750634",
   "metadata": {},
   "outputs": [],
   "source": [
    "def get_exponent(x):\n",
    "    \n",
    "    try:\n",
    "        while True:\n",
    "            for i in range(x+1):\n",
    "                if x/i\n",
    "\n",
    "\n",
    "\n",
    "    except:\n",
    "        print('실패')"
   ]
  },
  {
   "cell_type": "code",
   "execution_count": null,
   "id": "91802069",
   "metadata": {},
   "outputs": [],
   "source": [
    "1024\n",
    "\n",
    "def get_exponent(x):\n",
    "    for i in range(2,x):\n",
    "        if x%i ==0:\n",
    "            for j in range(x):\n",
    "                if x%i**j==0:\n",
    "                    return f'{x}는 {i}의 {j}승임'\n",
    "                    \n",
    "\n",
    "    \n",
    "get_exponent(10)"
   ]
  },
  {
   "cell_type": "code",
   "execution_count": 1,
   "id": "428665fd",
   "metadata": {},
   "outputs": [
    {
     "name": "stdout",
     "output_type": "stream",
     "text": [
      "0\n",
      "1\n"
     ]
    }
   ],
   "source": [
    "for i in range(2):\n",
    "    print(i)"
   ]
  },
  {
   "cell_type": "markdown",
   "id": "4a8aa1bc",
   "metadata": {},
   "source": [
    "## Azure Notebook 기후 변화 분석"
   ]
  },
  {
   "cell_type": "code",
   "execution_count": null,
   "id": "03b25d58",
   "metadata": {},
   "outputs": [],
   "source": [
    "import matplotlib.pyplot as plt\n",
    "import numpy as np\n",
    "from sklearn.linear_model import LinearRegression\n",
    "import seaborn as sns; sns.set()"
   ]
  },
  {
   "cell_type": "code",
   "execution_count": null,
   "id": "7cb3f95f",
   "metadata": {},
   "outputs": [],
   "source": [
    "yearsBase, meanBase = np.loadtxt('5-year-mean-1951-1980.csv', delimiter=',', usecols=(0, 1), unpack=True)\n",
    "years, mean = np.loadtxt('5-year-mean-1882-2014.csv', delimiter=',', usecols=(0, 1), unpack=True)"
   ]
  },
  {
   "cell_type": "code",
   "execution_count": null,
   "id": "8a3f9fa3",
   "metadata": {},
   "outputs": [],
   "source": [
    "plt.scatter(yearsBase, meanBase)\n",
    "plt.title('scatter plot of mean temp difference vs year')\n",
    "plt.xlabel('years', fontsize=12)\n",
    "plt.ylabel('mean temp difference', fontsize=12)\n",
    "plt.show()"
   ]
  },
  {
   "cell_type": "code",
   "execution_count": null,
   "id": "605edbd4",
   "metadata": {},
   "outputs": [],
   "source": [
    "# Creates a linear regression from the data points\n",
    "m,b = np.polyfit(yearsBase, meanBase, 1)\n",
    "\n",
    "# This is a simple y = mx + b line function\n",
    "def f(x):\n",
    "    return m*x + b\n",
    "\n",
    "# This generates the same scatter plot as before, but adds a line plot using the function above\n",
    "plt.scatter(yearsBase, meanBase)\n",
    "plt.plot(yearsBase, f(yearsBase))\n",
    "plt.title('scatter plot of mean temp difference vs year')\n",
    "plt.xlabel('years', fontsize=12)\n",
    "plt.ylabel('mean temp difference', fontsize=12)\n",
    "plt.show()\n",
    "\n",
    "# Prints text to the screen showing the computed values of m and b\n",
    "print(' y = {0} * x + {1}'.format(m, b))\n",
    "plt.show()"
   ]
  },
  {
   "cell_type": "markdown",
   "id": "30740377",
   "metadata": {},
   "source": [
    "### 회귀선을 보면 시간이 지날수록 30년 평균 온도와 5년 평균 온도의 차이가 점점 커지는 것을 알 수 있습니다. \n",
    "### 회귀선을 생성하는 데 필요한 대부분의 컴퓨팅 작업은 방정식 y = mx + b의 m 및 b 값을 컴퓨팅하는 NumPy의 polyfit 함수가 처리했습니다"
   ]
  },
  {
   "cell_type": "code",
   "execution_count": null,
   "id": "4828dee7",
   "metadata": {},
   "outputs": [],
   "source": [
    "# Pick the Linear Regression model and instantiate it\n",
    "model = LinearRegression(fit_intercept=True)\n",
    "\n",
    "# Fit/build the model\n",
    "model.fit(yearsBase[:, np.newaxis], meanBase)\n",
    "mean_predicted = model.predict(yearsBase[:, np.newaxis])\n",
    "\n",
    "# Generate a plot like the one in the previous exercise\n",
    "plt.scatter(yearsBase, meanBase)\n",
    "plt.plot(yearsBase, mean_predicted)\n",
    "plt.title('scatter plot of mean temp difference vs year')\n",
    "plt.xlabel('years', fontsize=12)\n",
    "plt.ylabel('mean temp difference', fontsize=12)\n",
    "plt.show()\n",
    "\n",
    "print(' y = {0} * x + {1}'.format(model.coef_[0], model.intercept_))"
   ]
  },
  {
   "cell_type": "markdown",
   "id": "36ad12aa",
   "metadata": {},
   "source": [
    "### scikit-learn이 자동으로 처리하는 작업이 더 많다는 차이점이 있습니다\n",
    "### 특히, scikit-learn의 LinearRegression 함수가 선 함수를 알아서 코딩하므로 NumPy에서 할 때처럼 직접 코딩할 필요가 없습니다."
   ]
  },
  {
   "cell_type": "code",
   "execution_count": null,
   "id": "51dc3937",
   "metadata": {},
   "outputs": [],
   "source": [
    "plt.scatter(years, mean)\n",
    "plt.title('scatter plot of mean temp difference vs year')\n",
    "plt.xlabel('years', fontsize=12)\n",
    "plt.ylabel('mean temp difference', fontsize=12)\n",
    "sns.regplot(yearsBase, meanBase)\n",
    "plt.show()"
   ]
  },
  {
   "cell_type": "markdown",
   "id": "46e4f635",
   "metadata": {},
   "source": [
    "## 프로그래머스 문제 풀이"
   ]
  },
  {
   "cell_type": "code",
   "execution_count": 46,
   "id": "f930a891",
   "metadata": {},
   "outputs": [
    {
     "data": {
      "text/plain": [
       "'e F d'"
      ]
     },
     "execution_count": 46,
     "metadata": {},
     "output_type": "execute_result"
    }
   ],
   "source": [
    "# 시저 암호\n",
    "\n",
    "def solution(s, n):\n",
    "    answer = []\n",
    "    al1 = 'abcdefghijklmnopqrstuvwxyz'\n",
    "    al2 = 'ABCDEFGHIJKLMNOPQRSTUVWXYZ'\n",
    "    for i in s:\n",
    "        pan1 = al1.find(i)+n\n",
    "        pan2 = al2.find(i)+n\n",
    "\n",
    "        if al1.find(i) >= 0:\n",
    "            if pan1 >= len(al1):\n",
    "                pan1 = pan1 - len(al1)\n",
    "            answer.append(al1[pan1])\n",
    "        elif al2.find(i) >= 0:\n",
    "            if pan2 >= len(al1):\n",
    "                pan2 = pan2 - len(al2)\n",
    "            answer.append(al2[pan2])\n",
    "        elif i ==' ':\n",
    "            answer.append(' ')\n",
    "    return ''.join(answer)\n",
    "\n",
    "solution('a B z', 4)"
   ]
  }
 ],
 "metadata": {
  "kernelspec": {
   "display_name": "Python 3",
   "language": "python",
   "name": "python3"
  },
  "language_info": {
   "codemirror_mode": {
    "name": "ipython",
    "version": 3
   },
   "file_extension": ".py",
   "mimetype": "text/x-python",
   "name": "python",
   "nbconvert_exporter": "python",
   "pygments_lexer": "ipython3",
   "version": "3.9.4"
  }
 },
 "nbformat": 4,
 "nbformat_minor": 5
}
