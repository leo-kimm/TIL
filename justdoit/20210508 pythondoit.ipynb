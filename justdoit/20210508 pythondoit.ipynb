{
 "cells": [
  {
   "cell_type": "code",
   "execution_count": null,
   "id": "2e13c89e",
   "metadata": {},
   "outputs": [],
   "source": [
    "# 직사각형 별 찍기\n",
    "\n",
    "a, b = map(int, input().strip().split(' '))\n",
    "print((a*'*'+'\\n')*b)"
   ]
  },
  {
   "cell_type": "code",
   "execution_count": 1,
   "id": "e6ea27de",
   "metadata": {},
   "outputs": [
    {
     "data": {
      "text/plain": [
       "True"
      ]
     },
     "execution_count": 1,
     "metadata": {},
     "output_type": "execute_result"
    }
   ],
   "source": [
    "# 문자열 내 p와 y의 개수\n",
    "\n",
    "def solution(s):\n",
    "    if s.count('p')+s.count('P') == s.count('y')+s.count('Y'):\n",
    "        answer = True\n",
    "    else:\n",
    "        answer = False\n",
    "\n",
    "\n",
    "    return answer\n",
    "\n",
    "solution(\"pPoooyY\")"
   ]
  },
  {
   "cell_type": "code",
   "execution_count": 99,
   "id": "224ba501",
   "metadata": {},
   "outputs": [
    {
     "data": {
      "text/plain": [
       "234567"
      ]
     },
     "execution_count": 99,
     "metadata": {},
     "output_type": "execute_result"
    }
   ],
   "source": [
    "\n",
    "def solution(s):\n",
    "    word = {'zero':0,'one':1,'two':2,'three':3,'four':4,'five':5,'six':6,'seven':7,'eight':8,'nine':9}\n",
    "    keys = list(word.keys())\n",
    "    answer= s\n",
    "\n",
    "\n",
    "    # s에 있는 문자 word 딕셔너리 참고해서 변경해주기\n",
    "    for key in keys:\n",
    "        if key in s:\n",
    "\n",
    "            answer = answer.replace(key,str(word[key]))\n",
    "    \n",
    "    return int(answer)\n",
    "\n",
    "solution(\"2three45sixseven\")"
   ]
  },
  {
   "cell_type": "code",
   "execution_count": 19,
   "id": "dcb397c3",
   "metadata": {},
   "outputs": [
    {
     "name": "stdout",
     "output_type": "stream",
     "text": [
      "2\n",
      "[]\n",
      "[]\n",
      "3\n",
      "['2']\n",
      "[]\n",
      "f\n",
      "['2', '3']\n",
      "[]\n",
      "o\n",
      "['2', '3']\n",
      "['f']\n",
      "u\n",
      "['2', '3']\n",
      "['f', 'o']\n",
      "r\n",
      "['2', '3']\n",
      "['f', 'o', 'u']\n",
      "5\n",
      "['2', '3']\n",
      "['f', 'o', 'u', 'r']\n",
      "s\n",
      "['2', '3', '5']\n",
      "['f', 'o', 'u', 'r']\n",
      "i\n",
      "['2', '3', '5']\n",
      "['f', 'o', 'u', 'r', 's']\n",
      "x\n",
      "['2', '3', '5']\n",
      "['f', 'o', 'u', 'r', 's', 'i']\n",
      "7\n",
      "['2', '3', '5']\n",
      "['f', 'o', 'u', 'r', 's', 'i', 'x']\n"
     ]
    },
    {
     "data": {
      "text/plain": [
       "('2357', 'foursix')"
      ]
     },
     "execution_count": 19,
     "metadata": {},
     "output_type": "execute_result"
    }
   ],
   "source": [
    "def solution(s):\n",
    "    word = {'zero':0,'one':1,'two':2,'three':3,'four':4,'five':5,'six':6,'seven':7,'eight':8,'nine':9}\n",
    "    answer=[]\n",
    "    string=[]\n",
    "    cnt = 0\n",
    "    for i in s:\n",
    "        print(i)\n",
    "        print(answer)\n",
    "        print(string)\n",
    "        try:\n",
    "            if int(i) / 1 == int(i):\n",
    "                answer.append(i)\n",
    "                cnt += 1\n",
    "\n",
    "        except:\n",
    "            if answer[0]==type(int):\n",
    "                answer.append('*')\n",
    "            string.append(i)\n",
    "            pass\n",
    "        \n",
    "        \n",
    "        \n",
    "    for i in string2:\n",
    "    n=len(num)-1\n",
    "    n2=0\n",
    "    for j in num:\n",
    "        if j=='*':\n",
    "            n2+=1\n",
    "            \n",
    "            if num[len(num)-n]!='*':\n",
    "                num = num.replace('*'*n2,i)\n",
    "\n",
    "        n-=1\n",
    "    return ''.join(answer),''.join(string)\n",
    "        \n",
    "        \n",
    "solution(\"23four5six7\")"
   ]
  },
  {
   "cell_type": "code",
   "execution_count": 80,
   "id": "c4d2df79",
   "metadata": {},
   "outputs": [
    {
     "name": "stdout",
     "output_type": "stream",
     "text": [
      "367\n",
      "14\n",
      "['2', '*', '*', '*', '*', '*', '4', '5', '*', '*', '*', '*', '*', '*', '*', '*']\n",
      "13\n",
      "['2', '*', '*', '*', '*', '*', '4', '5', '*', '*', '*', '*', '*', '*', '*', '*']\n",
      "12\n",
      "['2', '*', '*', '*', '*', '*', '4', '5', '*', '*', '*', '*', '*', '*', '*', '*']\n",
      "11\n",
      "['2', '*', '*', '*', '*', '*', '4', '5', '*', '*', '*', '*', '*', '*', '*', '*']\n",
      "10\n",
      "['2', '*', '*', '*', '*', '*', '4', '5', '*', '*', '*', '*', '*', '*', '*', '*']\n",
      "8\n",
      "None\n",
      "7\n",
      "None\n",
      "6\n",
      "None\n",
      "5\n",
      "None\n",
      "4\n",
      "None\n",
      "3\n",
      "None\n",
      "2\n",
      "None\n",
      "1\n",
      "None\n",
      "0\n",
      "None\n",
      "-1\n",
      "None\n",
      "-2\n",
      "None\n",
      "-3\n",
      "None\n"
     ]
    },
    {
     "ename": "TypeError",
     "evalue": "object of type 'NoneType' has no len()",
     "output_type": "error",
     "traceback": [
      "\u001b[1;31m---------------------------------------------------------------------------\u001b[0m",
      "\u001b[1;31mTypeError\u001b[0m                                 Traceback (most recent call last)",
      "\u001b[1;32m<ipython-input-80-43fc6d111c7b>\u001b[0m in \u001b[0;36m<module>\u001b[1;34m\u001b[0m\n\u001b[0;32m     13\u001b[0m \u001b[1;32mfor\u001b[0m \u001b[0mi\u001b[0m \u001b[1;32min\u001b[0m \u001b[0mstring2\u001b[0m\u001b[1;33m:\u001b[0m\u001b[1;33m\u001b[0m\u001b[1;33m\u001b[0m\u001b[0m\n\u001b[0;32m     14\u001b[0m     \u001b[0mscnt\u001b[0m\u001b[1;33m=\u001b[0m\u001b[1;36m0\u001b[0m\u001b[1;33m\u001b[0m\u001b[1;33m\u001b[0m\u001b[0m\n\u001b[1;32m---> 15\u001b[1;33m     \u001b[0mn\u001b[0m\u001b[1;33m=\u001b[0m\u001b[0mlen\u001b[0m\u001b[1;33m(\u001b[0m\u001b[0mnum\u001b[0m\u001b[1;33m)\u001b[0m\u001b[1;33m-\u001b[0m\u001b[1;36m1\u001b[0m\u001b[1;33m\u001b[0m\u001b[1;33m\u001b[0m\u001b[0m\n\u001b[0m\u001b[0;32m     16\u001b[0m     \u001b[0mn2\u001b[0m\u001b[1;33m=\u001b[0m\u001b[1;36m0\u001b[0m\u001b[1;33m\u001b[0m\u001b[1;33m\u001b[0m\u001b[0m\n\u001b[0;32m     17\u001b[0m     \u001b[1;32mfor\u001b[0m \u001b[0mj\u001b[0m \u001b[1;32min\u001b[0m \u001b[0mnum\u001b[0m\u001b[1;33m:\u001b[0m\u001b[1;33m\u001b[0m\u001b[1;33m\u001b[0m\u001b[0m\n",
      "\u001b[1;31mTypeError\u001b[0m: object of type 'NoneType' has no len()"
     ]
    }
   ],
   "source": [
    "word = {'zero':0,'one':1,'two':2,'three':3,'four':4,'five':5,'six':6,'seven':7,'eight':8,'nine':9}\n",
    "\n",
    "keys = list(word.keys())\n",
    "string2='threesixseven'\n",
    "for i in keys:\n",
    "    if i in string2:\n",
    "        \n",
    "        string2 = string2.replace(i,str(word[i]))\n",
    "        \n",
    "print(string2)\n",
    "num='2*****45********'\n",
    "num = list(num)\n",
    "for i in string2:\n",
    "    scnt=0\n",
    "    n=len(num)-1\n",
    "    n2=0\n",
    "    for j in num:\n",
    "        if j=='*':\n",
    "            n2+=1\n",
    "            \n",
    "            try:\n",
    "                if num[len(num)-n]!='*' and n2<6:\n",
    "                    \n",
    "                    num = num.insert(scnt,i)\n",
    "            except:\n",
    "                num = num.replace('*'*n2,i)\n",
    "        n-=1\n",
    "        print(n)\n",
    "        print(num)\n",
    "print(num)"
   ]
  },
  {
   "cell_type": "code",
   "execution_count": 77,
   "id": "de6daa7e",
   "metadata": {},
   "outputs": [
    {
     "data": {
      "text/plain": [
       "'2k*****45********'"
      ]
     },
     "execution_count": 77,
     "metadata": {},
     "output_type": "execute_result"
    }
   ],
   "source": [
    "num='2*****45********'\n",
    "num = list(num)\n",
    "num.insert(1,'k')\n",
    "''.join(num)"
   ]
  },
  {
   "cell_type": "code",
   "execution_count": 91,
   "id": "c70cb796",
   "metadata": {},
   "outputs": [
    {
     "name": "stdout",
     "output_type": "stream",
     "text": [
      "1\n",
      "['2', '*', '*', '*', '*', '*', '4', '5', '*', '*', '*', '*', '*', '*', '*', '*']\n",
      "2\n",
      "['2', '*', '*', '*', '*', '*', '4', '5', '*', '*', '*', '*', '*', '*', '*', '*']\n",
      "3\n",
      "['2', '*', '*', '*', '*', '*', '4', '5', '*', '*', '*', '*', '*', '*', '*', '*']\n",
      "4\n",
      "['2', '*', '*', '*', '*', '*', '4', '5', '*', '*', '*', '*', '*', '*', '*', '*']\n",
      "5\n",
      "['2', '*', '*', '*', '*', '*', '4', '5', '*', '*', '*', '*', '*', '*', '*', '*']\n",
      "6\n",
      "['2', '3', '4', '5', '*', '*', '*', '*', '*', '*', '*', '*']\n",
      "7\n",
      "['2', '3', '4', '5', '*', '*', '*', '*', '*', '*', '*', '*']\n",
      "8\n",
      "['2', '3', '4', '5', '*', '*', '*', '*', '*', '*', '*', '*']\n",
      "9\n",
      "['2', '3', '4', '5', '*', '*', '*', '*', '*', '*', '*', '*']\n",
      "10\n",
      "['2', '3', '4', '5', '*', '*', '*', '*', '*', '*', '*', '*']\n",
      "11\n",
      "['2', '3', '4', '5', '*', '*', '*', '*', '*', '*', '*', '*']\n",
      "12\n",
      "['3']\n",
      "1\n",
      "['3']\n",
      "1\n",
      "['3']\n"
     ]
    }
   ],
   "source": [
    "string2='367'\n",
    "num='2*****45********'\n",
    "num = list(num)\n",
    "for i in string2:\n",
    "    scnt=0\n",
    "\n",
    "    n2=0\n",
    "    # num 반복문\n",
    "    for j in num:\n",
    "        if j=='*':\n",
    "            n2+=1\n",
    "            \n",
    "            try:\n",
    "                if num[scnt+1]!='*' and n2<6:\n",
    "                    \n",
    "                    num[scnt-n2+1:n2+1] = i\n",
    "            except:\n",
    "                num[scnt-n2:n2+1] = i\n",
    "        scnt+=1\n",
    "        print(scnt)\n",
    "        print(num)\n"
   ]
  },
  {
   "cell_type": "code",
   "execution_count": 85,
   "id": "a2142e34",
   "metadata": {},
   "outputs": [
    {
     "data": {
      "text/plain": [
       "['k', 'a']"
      ]
     },
     "execution_count": 85,
     "metadata": {},
     "output_type": "execute_result"
    }
   ],
   "source": [
    "a = ['a','v','a']\n",
    "\n",
    "a[:2] = 'k'\n",
    "a"
   ]
  },
  {
   "cell_type": "code",
   "execution_count": 96,
   "id": "99d631d3",
   "metadata": {},
   "outputs": [
    {
     "name": "stdout",
     "output_type": "stream",
     "text": [
      "1478\n"
     ]
    }
   ],
   "source": [
    "word = {'zero':0,'one':1,'two':2,'three':3,'four':4,'five':5,'six':6,'seven':7,'eight':8,'nine':9}\n",
    "\n",
    "keys = list(word.keys())\n",
    "s=\"one4seveneight\"\n",
    "for i in keys:\n",
    "    if i in s:\n",
    "        \n",
    "        s = s.replace(i,str(word[i]))\n",
    "\n",
    "print(s)\n",
    "        \n",
    "        "
   ]
  },
  {
   "cell_type": "code",
   "execution_count": 155,
   "id": "715bb7cc",
   "metadata": {},
   "outputs": [
    {
     "data": {
      "text/plain": [
       "[0, 4, 11, 13, 20, 24]"
      ]
     },
     "execution_count": 155,
     "metadata": {},
     "output_type": "execute_result"
    }
   ],
   "source": [
    "import re\n",
    "places = [[\"POOOP\", \"OXXOX\", \"OPXPX\", \"OOXOX\", \"POXXP\"], \n",
    "      [\"POOPX\", \"OXPXP\", \"PXXXO\", \"OXXXO\", \"OOOPP\"], \n",
    "      [\"PXOPX\", \"OXOXP\", \"OXPXX\", \"OXXXP\", \"POOXX\"], \n",
    "      [\"OOOXX\", \"XOOOX\", \"OOOXX\", \"OXOOX\", \"OOOOO\"], \n",
    "      [\"PXPXP\", \"XPXPX\", \"PXPXP\", \"XPXPX\", \"PXPXP\"]]\n",
    "answer = []\n",
    "ki = ''.join(ke[0])\n",
    "#n= range(len(places))\n",
    "p_list = [i for i, value in enumerate(''.join(places[0])) if value == 'P']\n",
    "p_list\n",
    "\n",
    "#if (abs(p_list[i]-p_list[j])== 3 or == 5) and 'X' not in[p_list[i]:p_list[j]]:\n",
    "    #answer.append(0)\n",
    "    \n",
    "    if (abs(p_list[i]-p_list[j])== 3 or abs(p_list[i]-p_list[j]) == 5) and 'X' not in p_list[i:j]:\n",
    "                answer.append(0)"
   ]
  },
  {
   "cell_type": "code",
   "execution_count": 186,
   "id": "6ef7ce26",
   "metadata": {
    "scrolled": false
   },
   "outputs": [
    {
     "ename": "IndexError",
     "evalue": "list index out of range",
     "output_type": "error",
     "traceback": [
      "\u001b[1;31m---------------------------------------------------------------------------\u001b[0m",
      "\u001b[1;31mIndexError\u001b[0m                                Traceback (most recent call last)",
      "\u001b[1;32m<ipython-input-186-731f67842b65>\u001b[0m in \u001b[0;36m<module>\u001b[1;34m\u001b[0m\n\u001b[0;32m     29\u001b[0m \u001b[1;33m\u001b[0m\u001b[0m\n\u001b[0;32m     30\u001b[0m \u001b[1;33m\u001b[0m\u001b[0m\n\u001b[1;32m---> 31\u001b[1;33m \u001b[0msolution\u001b[0m\u001b[1;33m(\u001b[0m\u001b[1;33m[\u001b[0m\u001b[1;33m[\u001b[0m\u001b[1;34m\"POOOP\"\u001b[0m\u001b[1;33m,\u001b[0m \u001b[1;34m\"OXXOX\"\u001b[0m\u001b[1;33m,\u001b[0m \u001b[1;34m\"OPXPX\"\u001b[0m\u001b[1;33m,\u001b[0m \u001b[1;34m\"OOXOX\"\u001b[0m\u001b[1;33m,\u001b[0m \u001b[1;34m\"POXXP\"\u001b[0m\u001b[1;33m]\u001b[0m\u001b[1;33m,\u001b[0m \u001b[1;33m[\u001b[0m\u001b[1;34m\"POOPX\"\u001b[0m\u001b[1;33m,\u001b[0m \u001b[1;34m\"OXPXP\"\u001b[0m\u001b[1;33m,\u001b[0m \u001b[1;34m\"PXXXO\"\u001b[0m\u001b[1;33m,\u001b[0m \u001b[1;34m\"OXXXO\"\u001b[0m\u001b[1;33m,\u001b[0m \u001b[1;34m\"OOOPP\"\u001b[0m\u001b[1;33m]\u001b[0m\u001b[1;33m,\u001b[0m \u001b[1;33m[\u001b[0m\u001b[1;34m\"PXOPX\"\u001b[0m\u001b[1;33m,\u001b[0m \u001b[1;34m\"OXOXP\"\u001b[0m\u001b[1;33m,\u001b[0m \u001b[1;34m\"OXPXX\"\u001b[0m\u001b[1;33m,\u001b[0m \u001b[1;34m\"OXXXP\"\u001b[0m\u001b[1;33m,\u001b[0m \u001b[1;34m\"POOXX\"\u001b[0m\u001b[1;33m]\u001b[0m\u001b[1;33m,\u001b[0m \u001b[1;33m[\u001b[0m\u001b[1;34m\"OOOXX\"\u001b[0m\u001b[1;33m,\u001b[0m \u001b[1;34m\"XOOOX\"\u001b[0m\u001b[1;33m,\u001b[0m \u001b[1;34m\"OOOXX\"\u001b[0m\u001b[1;33m,\u001b[0m \u001b[1;34m\"OXOOX\"\u001b[0m\u001b[1;33m,\u001b[0m \u001b[1;34m\"OOOOO\"\u001b[0m\u001b[1;33m]\u001b[0m\u001b[1;33m,\u001b[0m \u001b[1;33m[\u001b[0m\u001b[1;34m\"PXPXP\"\u001b[0m\u001b[1;33m,\u001b[0m \u001b[1;34m\"XPXPX\"\u001b[0m\u001b[1;33m,\u001b[0m \u001b[1;34m\"PXPXP\"\u001b[0m\u001b[1;33m,\u001b[0m \u001b[1;34m\"XPXPX\"\u001b[0m\u001b[1;33m,\u001b[0m \u001b[1;34m\"PXPXP\"\u001b[0m\u001b[1;33m]\u001b[0m\u001b[1;33m]\u001b[0m\u001b[1;33m)\u001b[0m\u001b[1;33m\u001b[0m\u001b[1;33m\u001b[0m\u001b[0m\n\u001b[0m",
      "\u001b[1;32m<ipython-input-186-731f67842b65>\u001b[0m in \u001b[0;36msolution\u001b[1;34m(places)\u001b[0m\n\u001b[0;32m     12\u001b[0m             \u001b[1;32mwhile\u001b[0m \u001b[1;32mTrue\u001b[0m\u001b[1;33m:\u001b[0m\u001b[1;33m\u001b[0m\u001b[1;33m\u001b[0m\u001b[0m\n\u001b[0;32m     13\u001b[0m                 \u001b[1;32mfor\u001b[0m \u001b[0mj\u001b[0m \u001b[1;32min\u001b[0m \u001b[0mrange\u001b[0m\u001b[1;33m(\u001b[0m\u001b[0mlen\u001b[0m\u001b[1;33m(\u001b[0m\u001b[0mp_list\u001b[0m\u001b[1;33m)\u001b[0m\u001b[1;33m)\u001b[0m\u001b[1;33m:\u001b[0m\u001b[1;33m\u001b[0m\u001b[1;33m\u001b[0m\u001b[0m\n\u001b[1;32m---> 14\u001b[1;33m                     \u001b[1;32mif\u001b[0m \u001b[1;33m(\u001b[0m\u001b[1;33m(\u001b[0m\u001b[0mi\u001b[0m\u001b[1;33m!=\u001b[0m\u001b[1;36m0\u001b[0m \u001b[1;32mand\u001b[0m \u001b[0mabs\u001b[0m\u001b[1;33m(\u001b[0m\u001b[0mp_list\u001b[0m\u001b[1;33m[\u001b[0m\u001b[0mi\u001b[0m\u001b[1;33m]\u001b[0m\u001b[1;33m-\u001b[0m\u001b[0mp_list\u001b[0m\u001b[1;33m[\u001b[0m\u001b[0mj\u001b[0m\u001b[1;33m]\u001b[0m\u001b[1;33m)\u001b[0m\u001b[1;33m==\u001b[0m \u001b[1;36m3\u001b[0m\u001b[1;33m)\u001b[0m \u001b[1;32mor\u001b[0m \u001b[0mabs\u001b[0m\u001b[1;33m(\u001b[0m\u001b[0mp_list\u001b[0m\u001b[1;33m[\u001b[0m\u001b[0mi\u001b[0m\u001b[1;33m]\u001b[0m\u001b[1;33m-\u001b[0m\u001b[0mp_list\u001b[0m\u001b[1;33m[\u001b[0m\u001b[0mj\u001b[0m\u001b[1;33m]\u001b[0m\u001b[1;33m)\u001b[0m \u001b[1;33m==\u001b[0m \u001b[1;36m5\u001b[0m \u001b[1;32mor\u001b[0m \u001b[0mabs\u001b[0m\u001b[1;33m(\u001b[0m\u001b[0mp_list\u001b[0m\u001b[1;33m[\u001b[0m\u001b[0mi\u001b[0m\u001b[1;33m]\u001b[0m\u001b[1;33m-\u001b[0m\u001b[0mp_list\u001b[0m\u001b[1;33m[\u001b[0m\u001b[0mj\u001b[0m\u001b[1;33m]\u001b[0m\u001b[1;33m)\u001b[0m \u001b[1;33m==\u001b[0m \u001b[1;36m9\u001b[0m\u001b[1;33m)\u001b[0m \u001b[1;32mand\u001b[0m \u001b[1;34m'X'\u001b[0m \u001b[1;32mnot\u001b[0m \u001b[1;32min\u001b[0m \u001b[0mp_list\u001b[0m\u001b[1;33m[\u001b[0m\u001b[0mi\u001b[0m\u001b[1;33m:\u001b[0m\u001b[0mj\u001b[0m\u001b[1;33m]\u001b[0m\u001b[1;33m:\u001b[0m\u001b[1;33m\u001b[0m\u001b[1;33m\u001b[0m\u001b[0m\n\u001b[0m\u001b[0;32m     15\u001b[0m                         \u001b[0manswer\u001b[0m\u001b[1;33m.\u001b[0m\u001b[0mappend\u001b[0m\u001b[1;33m(\u001b[0m\u001b[1;36m0\u001b[0m\u001b[1;33m)\u001b[0m\u001b[1;33m\u001b[0m\u001b[1;33m\u001b[0m\u001b[0m\n\u001b[0;32m     16\u001b[0m                         \u001b[1;32mbreak\u001b[0m\u001b[1;33m\u001b[0m\u001b[1;33m\u001b[0m\u001b[0m\n",
      "\u001b[1;31mIndexError\u001b[0m: list index out of range"
     ]
    }
   ],
   "source": [
    "def solution(places):\n",
    "    answer = []\n",
    "    \n",
    "    for a in range(len(places)):\n",
    "        for b in range(len(places)):\n",
    "            p_list = [i for i, value in enumerate(''.join(places[a])) if value == 'P']\n",
    "        if len(p_list)<1:\n",
    "            answer.append(1)\n",
    "        else:\n",
    "            i=0\n",
    "                \n",
    "            while True:\n",
    "                for j in range(len(p_list)):\n",
    "                    if ((i!=0 and abs(p_list[i]-p_list[j])== 3) or abs(p_list[i]-p_list[j]) == 5 or abs(p_list[i]-p_list[j]) == 9) and 'X' not in p_list[i:j]:\n",
    "                        answer.append(0)\n",
    "                        break\n",
    "\n",
    "                    else:\n",
    "                        answer.append(1)\n",
    "                        break\n",
    "                i+=1\n",
    "\n",
    "        print(p_list)\n",
    "        print(answer)\n",
    "\n",
    "\n",
    "        \n",
    "    return answer\n",
    "\n",
    "\n",
    "solution([[\"POOOP\", \"OXXOX\", \"OPXPX\", \"OOXOX\", \"POXXP\"], [\"POOPX\", \"OXPXP\", \"PXXXO\", \"OXXXO\", \"OOOPP\"], [\"PXOPX\", \"OXOXP\", \"OXPXX\", \"OXXXP\", \"POOXX\"], [\"OOOXX\", \"XOOOX\", \"OOOXX\", \"OXOOX\", \"OOOOO\"], [\"PXPXP\", \"XPXPX\", \"PXPXP\", \"XPXPX\", \"PXPXP\"]])"
   ]
  },
  {
   "cell_type": "code",
   "execution_count": 183,
   "id": "948e4500",
   "metadata": {},
   "outputs": [
    {
     "name": "stdout",
     "output_type": "stream",
     "text": [
      "0\n",
      "1\n"
     ]
    }
   ],
   "source": [
    "for i in range(2):\n",
    "    print(i)"
   ]
  },
  {
   "cell_type": "code",
   "execution_count": 104,
   "id": "041eb22f",
   "metadata": {},
   "outputs": [
    {
     "data": {
      "text/plain": [
       "9"
      ]
     },
     "execution_count": 104,
     "metadata": {},
     "output_type": "execute_result"
    }
   ],
   "source": [
    "def solution(k, num, links):\n",
    "    if len(links)==k:\n",
    "        return max(num)\n",
    "    \n",
    "    \n",
    "solution(4,[6, 9, 7, 5],[[-1, -1], [-1, -1], [-1, 0], [2, 1]])"
   ]
  }
 ],
 "metadata": {
  "kernelspec": {
   "display_name": "Python 3",
   "language": "python",
   "name": "python3"
  },
  "language_info": {
   "codemirror_mode": {
    "name": "ipython",
    "version": 3
   },
   "file_extension": ".py",
   "mimetype": "text/x-python",
   "name": "python",
   "nbconvert_exporter": "python",
   "pygments_lexer": "ipython3",
   "version": "3.9.4"
  }
 },
 "nbformat": 4,
 "nbformat_minor": 5
}
