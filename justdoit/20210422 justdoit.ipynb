{
 "cells": [
  {
   "cell_type": "code",
   "execution_count": 10,
   "metadata": {},
   "outputs": [
    {
     "data": {
      "text/plain": [
       "['leo', 'ede']"
      ]
     },
     "execution_count": 10,
     "metadata": {},
     "output_type": "execute_result"
    }
   ],
   "source": [
    "# 완주하지 못한 선수 도전 ver1\n",
    "\n",
    "def solution(participant, completion):\n",
    "\n",
    "    for i in completion:\n",
    "        if i in participant:\n",
    "            participant.remove(i)\n",
    "\n",
    "    return participant\n",
    "\n",
    "solution([\"leo\", \"kiki\", \"eden\"],[\"eden\", \"kiki\"])"
   ]
  },
  {
   "cell_type": "code",
   "execution_count": 66,
   "metadata": {},
   "outputs": [
    {
     "data": {
      "text/plain": [
       "'eden'"
      ]
     },
     "execution_count": 66,
     "metadata": {},
     "output_type": "execute_result"
    }
   ],
   "source": [
    "# 완주하지 못한 선수 도전 ver2\n",
    "\n",
    "def solution(participant, completion):\n",
    "    \n",
    "    for i in completion:\n",
    "        if i in participant:\n",
    "            participant.remove(i)\n",
    " \n",
    "    for j in participant:\n",
    "        return j\n",
    "\n",
    "solution([\"leo\", \"kiki\", \"eden\"],[\"leo\", \"kiki\"])"
   ]
  },
  {
   "cell_type": "code",
   "execution_count": 137,
   "metadata": {},
   "outputs": [],
   "source": [
    "# 완주하지 못한 선수 도전 ver3\n",
    "\n",
    "def solution(participant, completion):\n",
    "    a ={}\n",
    "    k = len(completion)\n",
    "    for i in participant:\n",
    "        a[i]=0\n",
    "    for j in completion:\n",
    "        a[j]=1\n",
    "\n",
    "    for k in list(a.items()):\n",
    "        if 0 in k:\n",
    "            return k\n",
    "        \n",
    "solution([\"mislav\", \"stanko\", \"mislav\", \"ana\"],[\"stanko\", \"ana\", \"mislav\"])"
   ]
  },
  {
   "cell_type": "code",
   "execution_count": 139,
   "metadata": {},
   "outputs": [
    {
     "data": {
      "text/plain": [
       "'leo'"
      ]
     },
     "execution_count": 139,
     "metadata": {},
     "output_type": "execute_result"
    }
   ],
   "source": [
    "# 완주하지 못한 선수 도전 ver4\n",
    "\n",
    "def solution(participant, completion):\n",
    "    a=participant+completion\n",
    "    n = 0\n",
    "    while n < len(a):\n",
    "        if a.count(a[n]) % 2 != 0:\n",
    "            return a[n]\n",
    "        n+=1\n",
    "solution([\"leo\", \"kiki\", \"eden\"],[\"eden\", \"kiki\"])"
   ]
  },
  {
   "cell_type": "code",
   "execution_count": 158,
   "metadata": {},
   "outputs": [
    {
     "data": {
      "text/plain": [
       "'vinko'"
      ]
     },
     "execution_count": 158,
     "metadata": {},
     "output_type": "execute_result"
    }
   ],
   "source": [
    "# 완주하지 못한 선수 도전 ver5\n",
    "\n",
    "def solution(participant, completion):\n",
    "    a=participant+completion\n",
    "\n",
    "    for n in range(len(a)):\n",
    "        if a.count(a[n]) % 2 != 0:\n",
    "            return a[n]\n",
    "\n",
    "solution([\"marina\", \"josipa\", \"nikola\", \"vinko\", \"filipa\"], [\"josipa\", \"filipa\", \"marina\", \"nikola\"])"
   ]
  },
  {
   "cell_type": "code",
   "execution_count": 192,
   "metadata": {},
   "outputs": [
    {
     "data": {
      "text/plain": [
       "'vinko'"
      ]
     },
     "execution_count": 192,
     "metadata": {},
     "output_type": "execute_result"
    }
   ],
   "source": [
    "# 완주하지 못한 선수 도전 ver6 => 드디어 성공!!\n",
    "\n",
    "def solution(participant, completion):\n",
    "    a = sorted(participant)\n",
    "    b = sorted(completion)\n",
    "\n",
    "    b.append('')\n",
    "    for n in range(len(b)):\n",
    "        if a[n] != b[n]:\n",
    "            return a[n]\n",
    "\n",
    "\n",
    "        \n",
    "solution([\"marina\", \"josipa\", \"nikola\", \"vinko\", \"filipa\"], [\"josipa\", \"filipa\", \"marina\", \"nikola\"])"
   ]
  },
  {
   "cell_type": "code",
   "execution_count": null,
   "metadata": {},
   "outputs": [],
   "source": []
  }
 ],
 "metadata": {
  "kernelspec": {
   "display_name": "Python 3",
   "language": "python",
   "name": "python3"
  },
  "language_info": {
   "codemirror_mode": {
    "name": "ipython",
    "version": 3
   },
   "file_extension": ".py",
   "mimetype": "text/x-python",
   "name": "python",
   "nbconvert_exporter": "python",
   "pygments_lexer": "ipython3",
   "version": "3.8.5"
  }
 },
 "nbformat": 4,
 "nbformat_minor": 4
}
