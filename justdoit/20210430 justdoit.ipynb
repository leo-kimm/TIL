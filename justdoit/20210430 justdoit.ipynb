{
 "cells": [
  {
   "cell_type": "markdown",
   "metadata": {},
   "source": [
    "# 오늘의 코딩"
   ]
  },
  {
   "cell_type": "code",
   "execution_count": null,
   "metadata": {},
   "outputs": [],
   "source": [
    "# 나누어 떨어지는 숫자배열\n",
    "\n",
    "def solution(arr, divisor):\n",
    "    answer = []\n",
    "    for i in arr:\n",
    "        if i % divisor == 0:\n",
    "            answer.append(i)\n",
    "    if answer == []:\n",
    "        answer.append(-1)\n",
    "    return sorted(answer)"
   ]
  },
  {
   "cell_type": "code",
   "execution_count": null,
   "metadata": {},
   "outputs": [],
   "source": []
  },
  {
   "cell_type": "markdown",
   "metadata": {},
   "source": [
    "# 오늘의 수업"
   ]
  },
  {
   "cell_type": "code",
   "execution_count": 7,
   "metadata": {},
   "outputs": [
    {
     "data": {
      "text/plain": [
       "<konlpy.tag._okt.Okt at 0x2507d4d3f10>"
      ]
     },
     "execution_count": 7,
     "metadata": {},
     "output_type": "execute_result"
    }
   ],
   "source": [
    "# 형태소 분석 해보리기~\n",
    "from konlpy.tag import Twitter\n",
    "import warnings\n",
    "warnings.filterwarnings(action='ignore')\n",
    "\n",
    "twitter = Twitter()\n",
    "twitter"
   ]
  },
  {
   "cell_type": "code",
   "execution_count": 5,
   "metadata": {},
   "outputs": [
    {
     "data": {
      "text/plain": [
       "[('나', 'Noun'),\n",
       " ('혼자', 'Noun'),\n",
       " ('말', 'Noun'),\n",
       " ('하고', 'Josa'),\n",
       " ('나', 'Noun'),\n",
       " ('혼자', 'Noun'),\n",
       " ('듣는', 'Verb'),\n",
       " ('말', 'Noun'),\n",
       " (',', 'Punctuation'),\n",
       " ('끝내', 'Noun'),\n",
       " ('너', 'Noun'),\n",
       " ('의', 'Josa'),\n",
       " ('곁', 'Noun'),\n",
       " ('엔', 'Josa'),\n",
       " ('닿지도', 'Verb'),\n",
       " ('못', 'VerbPrefix'),\n",
       " ('할', 'Verb'),\n",
       " ('외로운', 'Adjective'),\n",
       " ('말', 'Noun'),\n",
       " (',', 'Punctuation'),\n",
       " ('사랑', 'Noun'),\n",
       " ('해', 'Verb'),\n",
       " ('그', 'Noun'),\n",
       " ('세', 'Modifier'),\n",
       " ('글자', 'Noun'),\n",
       " ('가', 'Josa'),\n",
       " ('늘', 'Noun'),\n",
       " ('나를', 'Verb'),\n",
       " ('아프게', 'Adjective'),\n",
       " ('해', 'Noun')]"
      ]
     },
     "execution_count": 5,
     "metadata": {},
     "output_type": "execute_result"
    }
   ],
   "source": [
    "docu01 = '나 혼자 말하고 나 혼자 듣는 말, 끝내 너의 곁엔 닿지도 못할 외로운 말, 사랑해 그 세글자가 늘 나를 아프게해'\n",
    "\n",
    "tag = twitter.pos(docu01)\n",
    "tag\n",
    "# stem 쓰면 시제가 현재로 바뀜\n",
    "# twitter.pos(docu01, stem=True)"
   ]
  },
  {
   "cell_type": "code",
   "execution_count": 7,
   "metadata": {},
   "outputs": [
    {
     "name": "stdout",
     "output_type": "stream",
     "text": [
      "단어 =  나\n",
      "형태 =  Noun\n",
      "*****************************************************************************\n",
      "단어 =  혼자\n",
      "형태 =  Noun\n",
      "*****************************************************************************\n",
      "단어 =  말\n",
      "형태 =  Noun\n",
      "*****************************************************************************\n",
      "단어 =  하고\n",
      "형태 =  Josa\n",
      "*****************************************************************************\n",
      "단어 =  나\n",
      "형태 =  Noun\n",
      "*****************************************************************************\n",
      "단어 =  혼자\n",
      "형태 =  Noun\n",
      "*****************************************************************************\n",
      "단어 =  듣는\n",
      "형태 =  Verb\n",
      "*****************************************************************************\n",
      "단어 =  말\n",
      "형태 =  Noun\n",
      "*****************************************************************************\n",
      "단어 =  ,\n",
      "형태 =  Punctuation\n",
      "*****************************************************************************\n",
      "단어 =  끝내\n",
      "형태 =  Noun\n",
      "*****************************************************************************\n",
      "단어 =  너\n",
      "형태 =  Noun\n",
      "*****************************************************************************\n",
      "단어 =  의\n",
      "형태 =  Josa\n",
      "*****************************************************************************\n",
      "단어 =  곁\n",
      "형태 =  Noun\n",
      "*****************************************************************************\n",
      "단어 =  엔\n",
      "형태 =  Josa\n",
      "*****************************************************************************\n",
      "단어 =  닿지도\n",
      "형태 =  Verb\n",
      "*****************************************************************************\n",
      "단어 =  못\n",
      "형태 =  VerbPrefix\n",
      "*****************************************************************************\n",
      "단어 =  할\n",
      "형태 =  Verb\n",
      "*****************************************************************************\n",
      "단어 =  외로운\n",
      "형태 =  Adjective\n",
      "*****************************************************************************\n",
      "단어 =  말\n",
      "형태 =  Noun\n",
      "*****************************************************************************\n",
      "단어 =  ,\n",
      "형태 =  Punctuation\n",
      "*****************************************************************************\n",
      "단어 =  사랑\n",
      "형태 =  Noun\n",
      "*****************************************************************************\n",
      "단어 =  해\n",
      "형태 =  Verb\n",
      "*****************************************************************************\n",
      "단어 =  그\n",
      "형태 =  Noun\n",
      "*****************************************************************************\n",
      "단어 =  세\n",
      "형태 =  Modifier\n",
      "*****************************************************************************\n",
      "단어 =  글자\n",
      "형태 =  Noun\n",
      "*****************************************************************************\n",
      "단어 =  가\n",
      "형태 =  Josa\n",
      "*****************************************************************************\n",
      "단어 =  늘\n",
      "형태 =  Noun\n",
      "*****************************************************************************\n",
      "단어 =  나를\n",
      "형태 =  Verb\n",
      "*****************************************************************************\n",
      "단어 =  아프게\n",
      "형태 =  Adjective\n",
      "*****************************************************************************\n",
      "단어 =  해\n",
      "형태 =  Noun\n",
      "*****************************************************************************\n"
     ]
    }
   ],
   "source": [
    "for i in tag:\n",
    "    print('단어 = ',i[0])\n",
    "    print('형태 = ',i[1])\n",
    "    print('*'*77)"
   ]
  },
  {
   "cell_type": "code",
   "execution_count": 9,
   "metadata": {},
   "outputs": [
    {
     "name": "stdout",
     "output_type": "stream",
     "text": [
      "단어 =  나\n",
      "형태 =  Noun\n",
      "*****************************************************************************\n",
      "단어 =  혼자\n",
      "형태 =  Noun\n",
      "*****************************************************************************\n",
      "단어 =  말\n",
      "형태 =  Noun\n",
      "*****************************************************************************\n",
      "단어 =  나\n",
      "형태 =  Noun\n",
      "*****************************************************************************\n",
      "단어 =  혼자\n",
      "형태 =  Noun\n",
      "*****************************************************************************\n",
      "단어 =  말\n",
      "형태 =  Noun\n",
      "*****************************************************************************\n",
      "단어 =  끝내\n",
      "형태 =  Noun\n",
      "*****************************************************************************\n",
      "단어 =  너\n",
      "형태 =  Noun\n",
      "*****************************************************************************\n",
      "단어 =  곁\n",
      "형태 =  Noun\n",
      "*****************************************************************************\n",
      "단어 =  외로운\n",
      "형태 =  Adjective\n",
      "*****************************************************************************\n",
      "단어 =  말\n",
      "형태 =  Noun\n",
      "*****************************************************************************\n",
      "단어 =  사랑\n",
      "형태 =  Noun\n",
      "*****************************************************************************\n",
      "단어 =  그\n",
      "형태 =  Noun\n",
      "*****************************************************************************\n",
      "단어 =  글자\n",
      "형태 =  Noun\n",
      "*****************************************************************************\n",
      "단어 =  늘\n",
      "형태 =  Noun\n",
      "*****************************************************************************\n",
      "단어 =  아프게\n",
      "형태 =  Adjective\n",
      "*****************************************************************************\n",
      "단어 =  해\n",
      "형태 =  Noun\n",
      "*****************************************************************************\n"
     ]
    }
   ],
   "source": [
    "for i in tag:\n",
    "    if (i[1] == 'Noun') | (i[1] == 'Adjective'):\n",
    "        print('단어 = ',i[0])\n",
    "        print('형태 = ',i[1])\n",
    "        print('*'*77)"
   ]
  },
  {
   "cell_type": "code",
   "execution_count": 2,
   "metadata": {},
   "outputs": [],
   "source": [
    "import matplotlib.pyplot as plt\n",
    "import seaborn as sns\n",
    "from matplotlib import font_manager, rc\n",
    "# 한글 지원을 위해 폰트를 설정해주자! get_name()하면 무슨 폰트 인지 알려줌\n",
    "font_name = font_manager.FontProperties(fname='c:/Windows/Fonts/malgun.ttf').get_name()\n",
    "rc('font', family=font_name)"
   ]
  },
  {
   "cell_type": "code",
   "execution_count": 3,
   "metadata": {},
   "outputs": [
    {
     "data": {
      "text/plain": [
       "'Malgun Gothic'"
      ]
     },
     "execution_count": 3,
     "metadata": {},
     "output_type": "execute_result"
    }
   ],
   "source": [
    "font_name"
   ]
  },
  {
   "cell_type": "code",
   "execution_count": 14,
   "metadata": {},
   "outputs": [],
   "source": [
    "import random\n",
    "randong = random.sample(range(1,100001),10)"
   ]
  },
  {
   "cell_type": "code",
   "execution_count": 5,
   "metadata": {},
   "outputs": [
    {
     "data": {
      "text/html": [
       "<div>\n",
       "<style scoped>\n",
       "    .dataframe tbody tr th:only-of-type {\n",
       "        vertical-align: middle;\n",
       "    }\n",
       "\n",
       "    .dataframe tbody tr th {\n",
       "        vertical-align: top;\n",
       "    }\n",
       "\n",
       "    .dataframe thead th {\n",
       "        text-align: right;\n",
       "    }\n",
       "</style>\n",
       "<table border=\"1\" class=\"dataframe\">\n",
       "  <thead>\n",
       "    <tr style=\"text-align: right;\">\n",
       "      <th></th>\n",
       "      <th>num</th>\n",
       "    </tr>\n",
       "  </thead>\n",
       "  <tbody>\n",
       "    <tr>\n",
       "      <th>0</th>\n",
       "      <td>28376</td>\n",
       "    </tr>\n",
       "    <tr>\n",
       "      <th>1</th>\n",
       "      <td>13592</td>\n",
       "    </tr>\n",
       "    <tr>\n",
       "      <th>2</th>\n",
       "      <td>72426</td>\n",
       "    </tr>\n",
       "    <tr>\n",
       "      <th>3</th>\n",
       "      <td>68340</td>\n",
       "    </tr>\n",
       "    <tr>\n",
       "      <th>4</th>\n",
       "      <td>13130</td>\n",
       "    </tr>\n",
       "    <tr>\n",
       "      <th>5</th>\n",
       "      <td>39262</td>\n",
       "    </tr>\n",
       "    <tr>\n",
       "      <th>6</th>\n",
       "      <td>48458</td>\n",
       "    </tr>\n",
       "    <tr>\n",
       "      <th>7</th>\n",
       "      <td>77751</td>\n",
       "    </tr>\n",
       "    <tr>\n",
       "      <th>8</th>\n",
       "      <td>77639</td>\n",
       "    </tr>\n",
       "    <tr>\n",
       "      <th>9</th>\n",
       "      <td>39095</td>\n",
       "    </tr>\n",
       "  </tbody>\n",
       "</table>\n",
       "</div>"
      ],
      "text/plain": [
       "     num\n",
       "0  28376\n",
       "1  13592\n",
       "2  72426\n",
       "3  68340\n",
       "4  13130\n",
       "5  39262\n",
       "6  48458\n",
       "7  77751\n",
       "8  77639\n",
       "9  39095"
      ]
     },
     "execution_count": 5,
     "metadata": {},
     "output_type": "execute_result"
    }
   ],
   "source": [
    "import pandas as pd\n",
    "ran = pd.DataFrame(data={'num':randong})\n",
    "ran"
   ]
  },
  {
   "cell_type": "code",
   "execution_count": 11,
   "metadata": {},
   "outputs": [
    {
     "data": {
      "text/plain": [
       "<seaborn.axisgrid.FacetGrid at 0x2507cc28c40>"
      ]
     },
     "execution_count": 11,
     "metadata": {},
     "output_type": "execute_result"
    },
    {
     "data": {
      "image/png": "[encoded data removed]",
      "text/plain": [
       "<Figure size 360x360 with 1 Axes>"
      ]
     },
     "metadata": {
      "needs_background": "light"
     },
     "output_type": "display_data"
    }
   ],
   "source": [
    "g = sns.factorplot('num', data = ran, kind = 'count', size = 5)\n",
    "g.set_xlabels()"
   ]
  },
  {
   "cell_type": "code",
   "execution_count": 28,
   "metadata": {},
   "outputs": [
    {
     "data": {
      "text/plain": [
       "<AxesSubplot:xlabel='num', ylabel='Count'>"
      ]
     },
     "execution_count": 28,
     "metadata": {},
     "output_type": "execute_result"
    },
    {
     "data": {
      "image/png": "[encoded data removed]",
      "text/plain": [
       "<Figure size 748.8x514.8 with 1 Axes>"
      ]
     },
     "metadata": {},
     "output_type": "display_data"
    }
   ],
   "source": [
    "plt.style.use('grayscale')\n",
    "sns.histplot(data = ran, x = 'num', binwidth=5000)"
   ]
  },
  {
   "cell_type": "code",
   "execution_count": 23,
   "metadata": {},
   "outputs": [
    {
     "data": {
      "text/plain": [
       "['Solarize_Light2',\n",
       " '_classic_test_patch',\n",
       " 'bmh',\n",
       " 'classic',\n",
       " 'dark_background',\n",
       " 'fast',\n",
       " 'fivethirtyeight',\n",
       " 'ggplot',\n",
       " 'grayscale',\n",
       " 'seaborn',\n",
       " 'seaborn-bright',\n",
       " 'seaborn-colorblind',\n",
       " 'seaborn-dark',\n",
       " 'seaborn-dark-palette',\n",
       " 'seaborn-darkgrid',\n",
       " 'seaborn-deep',\n",
       " 'seaborn-muted',\n",
       " 'seaborn-notebook',\n",
       " 'seaborn-paper',\n",
       " 'seaborn-pastel',\n",
       " 'seaborn-poster',\n",
       " 'seaborn-talk',\n",
       " 'seaborn-ticks',\n",
       " 'seaborn-white',\n",
       " 'seaborn-whitegrid',\n",
       " 'tableau-colorblind10']"
      ]
     },
     "execution_count": 23,
     "metadata": {},
     "output_type": "execute_result"
    }
   ],
   "source": [
    "plt.style.available"
   ]
  },
  {
   "cell_type": "code",
   "execution_count": 29,
   "metadata": {},
   "outputs": [
    {
     "data": {
      "text/plain": [
       "[('생각', 'Noun'),\n",
       " ('보다', 'Josa'),\n",
       " ('졸리', 'Noun'),\n",
       " ('다', 'Josa'),\n",
       " ('그래서', 'Adverb'),\n",
       " ('자고', 'Noun'),\n",
       " ('싶다', 'Verb'),\n",
       " ('어쨌든', 'Noun'),\n",
       " ('수업', 'Noun'),\n",
       " ('은', 'Josa'),\n",
       " ('들다', 'Verb'),\n",
       " ('하다', 'Verb')]"
      ]
     },
     "execution_count": 29,
     "metadata": {},
     "output_type": "execute_result"
    }
   ],
   "source": [
    "tap = twitter.pos('생각보다 졸리다 그래서 자고 싶은데 어쨌든 수업은 들어야 한다', stem=True)\n",
    "tap"
   ]
  },
  {
   "cell_type": "code",
   "execution_count": 33,
   "metadata": {},
   "outputs": [
    {
     "name": "stdout",
     "output_type": "stream",
     "text": [
      "단어 =  생각\n",
      "형태 =  Noun\n",
      "*****************************************************************************\n",
      "단어 =  보다\n",
      "형태 =  Josa\n",
      "*****************************************************************************\n",
      "단어 =  졸리\n",
      "형태 =  Noun\n",
      "*****************************************************************************\n",
      "단어 =  다\n",
      "형태 =  Josa\n",
      "*****************************************************************************\n",
      "단어 =  그래서\n",
      "형태 =  Adverb\n",
      "*****************************************************************************\n",
      "단어 =  자고\n",
      "형태 =  Noun\n",
      "*****************************************************************************\n",
      "단어 =  싶다\n",
      "형태 =  Verb\n",
      "*****************************************************************************\n",
      "단어 =  어쨌든\n",
      "형태 =  Noun\n",
      "*****************************************************************************\n",
      "단어 =  수업\n",
      "형태 =  Noun\n",
      "*****************************************************************************\n",
      "단어 =  은\n",
      "형태 =  Josa\n",
      "*****************************************************************************\n",
      "단어 =  들다\n",
      "형태 =  Verb\n",
      "*****************************************************************************\n",
      "단어 =  하다\n",
      "형태 =  Verb\n",
      "*****************************************************************************\n"
     ]
    },
    {
     "data": {
      "text/plain": [
       "[('생각', 'Noun'),\n",
       " ('졸리', 'Noun'),\n",
       " ('자고', 'Noun'),\n",
       " ('어쨌든', 'Noun'),\n",
       " ('수업', 'Noun')]"
      ]
     },
     "execution_count": 33,
     "metadata": {},
     "output_type": "execute_result"
    }
   ],
   "source": [
    "lst = []\n",
    "for i in range(len(tap)):\n",
    "    print('단어 = ',tap[i][0])\n",
    "    print('형태 = ',tap[i][1])\n",
    "    if (tap[i][1] == 'Noun') | (tap[i][1] == 'Adjective'):\n",
    "        lst.append(tap[i])\n",
    "        \n",
    "    print('*'*77)\n",
    "lst"
   ]
  },
  {
   "cell_type": "code",
   "execution_count": 34,
   "metadata": {},
   "outputs": [
    {
     "ename": "NameError",
     "evalue": "name 'X_train_vector' is not defined",
     "output_type": "error",
     "traceback": [
      "\u001b[1;31m---------------------------------------------------------------------------\u001b[0m",
      "\u001b[1;31mNameError\u001b[0m                                 Traceback (most recent call last)",
      "\u001b[1;32m<ipython-input-34-27dd64c8b2e9>\u001b[0m in \u001b[0;36m<module>\u001b[1;34m\u001b[0m\n\u001b[0;32m      2\u001b[0m \u001b[1;33m\u001b[0m\u001b[0m\n\u001b[0;32m      3\u001b[0m \u001b[0mdt_clf\u001b[0m \u001b[1;33m=\u001b[0m \u001b[0mDecisionTreeClassifier\u001b[0m\u001b[1;33m(\u001b[0m\u001b[1;33m)\u001b[0m\u001b[1;33m\u001b[0m\u001b[1;33m\u001b[0m\u001b[0m\n\u001b[1;32m----> 4\u001b[1;33m \u001b[0mdt_clf\u001b[0m \u001b[1;33m=\u001b[0m \u001b[0mdt_clf\u001b[0m\u001b[1;33m.\u001b[0m\u001b[0mfit\u001b[0m\u001b[1;33m(\u001b[0m\u001b[0mX_train_vector\u001b[0m\u001b[1;33m,\u001b[0m \u001b[0my_train\u001b[0m\u001b[1;33m)\u001b[0m\u001b[1;33m\u001b[0m\u001b[1;33m\u001b[0m\u001b[0m\n\u001b[0m\u001b[0;32m      5\u001b[0m \u001b[0mdt_prediction\u001b[0m \u001b[1;33m=\u001b[0m \u001b[0mdt_clf\u001b[0m\u001b[1;33m.\u001b[0m\u001b[0mpredict\u001b[0m\u001b[1;33m(\u001b[0m\u001b[0mX_test_vector\u001b[0m\u001b[1;33m)\u001b[0m\u001b[1;33m\u001b[0m\u001b[1;33m\u001b[0m\u001b[0m\n\u001b[0;32m      6\u001b[0m \u001b[0mdt_prediction\u001b[0m\u001b[1;33m\u001b[0m\u001b[1;33m\u001b[0m\u001b[0m\n",
      "\u001b[1;31mNameError\u001b[0m: name 'X_train_vector' is not defined"
     ]
    }
   ],
   "source": [
    "from sklearn.tree import DecisionTreeClassifier\n",
    "\n",
    "dt_clf = DecisionTreeClassifier()\n",
    "dt_clf = dt_clf.fit(X_train_vector, y_train)\n",
    "dt_prediction = dt_clf.predict(X_test_vector)\n",
    "dt_prediction"
   ]
  },
  {
   "cell_type": "code",
   "execution_count": null,
   "metadata": {},
   "outputs": [],
   "source": []
  }
 ],
 "metadata": {
  "kernelspec": {
   "display_name": "Python 3",
   "language": "python",
   "name": "python3"
  },
  "language_info": {
   "codemirror_mode": {
    "name": "ipython",
    "version": 3
   },
   "file_extension": ".py",
   "mimetype": "text/x-python",
   "name": "python",
   "nbconvert_exporter": "python",
   "pygments_lexer": "ipython3",
   "version": "3.8.5"
  }
 },
 "nbformat": 4,
 "nbformat_minor": 4
}
