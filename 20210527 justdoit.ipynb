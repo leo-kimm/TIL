{
 "cells": [
  {
   "cell_type": "code",
   "execution_count": 15,
   "metadata": {},
   "outputs": [
    {
     "ename": "NameError",
     "evalue": "name 'log' is not defined",
     "output_type": "error",
     "traceback": [
      "\u001b[1;31m---------------------------------------------------------------------------\u001b[0m",
      "\u001b[1;31mNameError\u001b[0m                                 Traceback (most recent call last)",
      "\u001b[1;32m<ipython-input-15-e014143d52b7>\u001b[0m in \u001b[0;36m<module>\u001b[1;34m\u001b[0m\n\u001b[1;32m----> 1\u001b[1;33m \u001b[0mlog\u001b[0m\u001b[1;33m.\u001b[0m\u001b[0mdebug\u001b[0m\u001b[1;33m(\u001b[0m\u001b[1;34m\"some debug info: %s\"\u001b[0m \u001b[1;33m%\u001b[0m \u001b[0msome_info\u001b[0m\u001b[1;33m)\u001b[0m\u001b[1;33m\u001b[0m\u001b[1;33m\u001b[0m\u001b[0m\n\u001b[0m\u001b[0;32m      2\u001b[0m \u001b[1;33m\u001b[0m\u001b[0m\n\u001b[0;32m      3\u001b[0m \u001b[0mlog\u001b[0m\u001b[1;33m.\u001b[0m\u001b[0mdebug\u001b[0m\u001b[1;33m(\u001b[0m\u001b[1;34m\"some debug info: %s\"\u001b[0m\u001b[1;33m,\u001b[0m \u001b[0msome_info\u001b[0m\u001b[1;33m)\u001b[0m\u001b[1;33m\u001b[0m\u001b[1;33m\u001b[0m\u001b[0m\n",
      "\u001b[1;31mNameError\u001b[0m: name 'log' is not defined"
     ]
    }
   ],
   "source": [
    "log.debug(\"some debug info: %s\" % some_info)\n",
    "\n"
   ]
  },
  {
   "cell_type": "code",
   "execution_count": 5,
   "metadata": {
    "scrolled": true
   },
   "outputs": [
    {
     "ename": "TypeError",
     "evalue": "not all arguments converted during string formatting",
     "output_type": "error",
     "traceback": [
      "\u001b[1;31m---------------------------------------------------------------------------\u001b[0m",
      "\u001b[1;31mTypeError\u001b[0m                                 Traceback (most recent call last)",
      "\u001b[1;32m<ipython-input-5-b7a65310f833>\u001b[0m in \u001b[0;36m<module>\u001b[1;34m\u001b[0m\n\u001b[0;32m      1\u001b[0m \u001b[0mname\u001b[0m \u001b[1;33m=\u001b[0m \u001b[1;33m(\u001b[0m\u001b[1;36m1\u001b[0m\u001b[1;33m,\u001b[0m\u001b[1;36m2\u001b[0m\u001b[1;33m,\u001b[0m\u001b[1;36m3\u001b[0m\u001b[1;33m)\u001b[0m\u001b[1;33m\u001b[0m\u001b[1;33m\u001b[0m\u001b[0m\n\u001b[0;32m      2\u001b[0m \u001b[1;33m\u001b[0m\u001b[0m\n\u001b[1;32m----> 3\u001b[1;33m \u001b[1;34m\"hi there %s\"\u001b[0m \u001b[1;33m%\u001b[0m \u001b[0mname\u001b[0m\u001b[1;33m\u001b[0m\u001b[1;33m\u001b[0m\u001b[0m\n\u001b[0m",
      "\u001b[1;31mTypeError\u001b[0m: not all arguments converted during string formatting"
     ]
    }
   ],
   "source": [
    "name = (1,2,3)\n",
    "\n",
    "\"hi there %s\" % name"
   ]
  },
  {
   "cell_type": "code",
   "execution_count": 6,
   "metadata": {},
   "outputs": [
    {
     "data": {
      "text/plain": [
       "'hi there (1, 2, 3)'"
      ]
     },
     "execution_count": 6,
     "metadata": {},
     "output_type": "execute_result"
    }
   ],
   "source": [
    "name = (1,2,3)\n",
    "\n",
    "\"hi there %s\" % (name,)"
   ]
  },
  {
   "cell_type": "code",
   "execution_count": 14,
   "metadata": {},
   "outputs": [
    {
     "name": "stdout",
     "output_type": "stream",
     "text": [
      "12 22222 45 22222 103 22222 6 22222\n"
     ]
    }
   ],
   "source": [
    "tu = (12,45,22222,103,6)\n",
    "print('{0} {2} {1} {2} {3} {2} {4} {2}'.format(*tu))"
   ]
  },
  {
   "cell_type": "code",
   "execution_count": 11,
   "metadata": {},
   "outputs": [
    {
     "name": "stdout",
     "output_type": "stream",
     "text": [
      "<map object at 0x00000204920E96A0>\n"
     ]
    }
   ],
   "source": [
    "li = [12,45,78,784,2,69,1254,4785,984]\n",
    "print (map('the number is {}'.format,li))"
   ]
  },
  {
   "cell_type": "code",
   "execution_count": 12,
   "metadata": {},
   "outputs": [
    {
     "name": "stdout",
     "output_type": "stream",
     "text": [
      "2010-07-01 12:00:00\n",
      "2010-07-14 20:20:00\n",
      "2010-07-28 04:40:00\n",
      "2010-08-10 13:00:00\n",
      "2010-08-23 21:20:00\n",
      "2010-09-06 05:40:00\n",
      "2010-09-19 14:00:00\n",
      "2010-10-02 22:20:00\n",
      "2010-10-16 06:40:00\n",
      "2010-10-29 15:00:00\n",
      "2010-11-11 23:20:00\n",
      "2010-11-25 07:40:00\n",
      "2010-12-08 16:00:00\n",
      "2010-12-22 00:20:00\n",
      "2011-01-04 08:40:00\n",
      "2011-01-17 17:00:00\n",
      "2011-01-31 01:20:00\n",
      "2011-02-13 09:40:00\n",
      "2011-02-26 18:00:00\n",
      "2011-03-12 02:20:00\n"
     ]
    }
   ],
   "source": [
    "from datetime import datetime,timedelta\n",
    "\n",
    "once_upon_a_time = datetime(2010, 7, 1, 12, 0, 0)\n",
    "delta = timedelta(days=13, hours=8,  minutes=20)\n",
    "\n",
    "gen =(once_upon_a_time +x*delta for x in range(20))\n",
    "\n",
    "print ('\\n'.join(map('{:%Y-%m-%d %H:%M:%S}'.format, gen)))"
   ]
  },
  {
   "cell_type": "code",
   "execution_count": 16,
   "metadata": {},
   "outputs": [
    {
     "ename": "NameError",
     "evalue": "name 'log' is not defined",
     "output_type": "error",
     "traceback": [
      "\u001b[1;31m---------------------------------------------------------------------------\u001b[0m",
      "\u001b[1;31mNameError\u001b[0m                                 Traceback (most recent call last)",
      "\u001b[1;32m<ipython-input-16-530c193ded6f>\u001b[0m in \u001b[0;36m<module>\u001b[1;34m\u001b[0m\n\u001b[1;32m----> 1\u001b[1;33m \u001b[0mlog\u001b[0m\u001b[1;33m.\u001b[0m\u001b[0mdebug\u001b[0m\u001b[1;33m(\u001b[0m\u001b[1;34m\"some debug info: %s\"\u001b[0m\u001b[1;33m,\u001b[0m \u001b[0msome_info\u001b[0m\u001b[1;33m)\u001b[0m\u001b[1;33m\u001b[0m\u001b[1;33m\u001b[0m\u001b[0m\n\u001b[0m",
      "\u001b[1;31mNameError\u001b[0m: name 'log' is not defined"
     ]
    }
   ],
   "source": [
    "log.debug(\"some debug info: %s\", some_info)"
   ]
  },
  {
   "cell_type": "code",
   "execution_count": 17,
   "metadata": {},
   "outputs": [
    {
     "name": "stdout",
     "output_type": "stream",
     "text": [
      "from London to Paris\n"
     ]
    }
   ],
   "source": [
    "origin = \"London\"\n",
    "destination = \"Paris\"\n",
    "print(f\"from {origin} to {destination}\")"
   ]
  },
  {
   "cell_type": "code",
   "execution_count": 1,
   "metadata": {},
   "outputs": [
    {
     "name": "stdout",
     "output_type": "stream",
     "text": [
      "[*] Message\n"
     ]
    }
   ],
   "source": [
    "print('[*] Message')"
   ]
  },
  {
   "cell_type": "code",
   "execution_count": 2,
   "metadata": {},
   "outputs": [
    {
     "name": "stderr",
     "output_type": "stream",
     "text": [
      "INFO:root:This is an info message\n"
     ]
    }
   ],
   "source": [
    "import logging\n",
    "logging.basicConfig(level=logging.INFO)\n",
    "\n",
    "logging.info('This is an info message')\n",
    "# 아래와 같은 메시지가 출력됩니다!\n",
    "# INFO:root:This is an info message\n"
   ]
  },
  {
   "cell_type": "code",
   "execution_count": 3,
   "metadata": {},
   "outputs": [],
   "source": [
    "import logging\n",
    "logging.basicConfig(\n",
    "  format = '%(asctime)s:%(levelname)s:%(message)s',\n",
    "  datefmt = '%m/%d/%Y %I:%M:%S %p',\n",
    "  level = logging.DEBUG\n",
    ")\n",
    "logging.debug('This is a formatted debug message')"
   ]
  },
  {
   "cell_type": "code",
   "execution_count": 4,
   "metadata": {},
   "outputs": [
    {
     "name": "stderr",
     "output_type": "stream",
     "text": [
      "INFO:root:I'm xxx\n",
      "WARNING:root:warnig\n",
      "ERROR:root:error\n",
      "CRITICAL:root:critical\n"
     ]
    }
   ],
   "source": [
    "import logging\n",
    "\n",
    "logging.debug(\"debug\")          # 5 단계\n",
    "logging.info(\"I'm xxx\")             # 4 단계\n",
    "logging.warning(\"warnig\")        # 3 단계\n",
    "logging.error(\"error\")              # 2 단계\n",
    "logging.critical(\"critical\")          # 1 단계"
   ]
  },
  {
   "cell_type": "code",
   "execution_count": null,
   "metadata": {},
   "outputs": [],
   "source": []
  }
 ],
 "metadata": {
  "kernelspec": {
   "display_name": "Python 3",
   "language": "python",
   "name": "python3"
  },
  "language_info": {
   "codemirror_mode": {
    "name": "ipython",
    "version": 3
   },
   "file_extension": ".py",
   "mimetype": "text/x-python",
   "name": "python",
   "nbconvert_exporter": "python",
   "pygments_lexer": "ipython3",
   "version": "3.8.5"
  }
 },
 "nbformat": 4,
 "nbformat_minor": 4
}
