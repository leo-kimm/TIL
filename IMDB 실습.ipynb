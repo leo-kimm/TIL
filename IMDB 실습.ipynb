{
 "metadata": {
  "language_info": {
   "codemirror_mode": {
    "name": "ipython",
    "version": 3
   },
   "file_extension": ".py",
   "mimetype": "text/x-python",
   "name": "python",
   "nbconvert_exporter": "python",
   "pygments_lexer": "ipython3",
   "version": ""
  },
  "orig_nbformat": 4,
  "kernelspec": {
   "name": "python3",
   "display_name": "Python"
  },
  "interpreter": {
   "hash": "9c743664d1c6918e5a67fabee1fa70b2fe2dc1e1505dcea6dfd0e643b779c8ca"
  }
 },
 "nbformat": 4,
 "nbformat_minor": 2,
 "cells": [
  {
   "cell_type": "code",
   "execution_count": 7,
   "metadata": {},
   "outputs": [
    {
     "output_type": "stream",
     "name": "stderr",
     "text": [
      "���� ������ �ùٸ��� �ʽ��ϴ�.\n"
     ]
    }
   ],
   "source": [
    "#캐글 사용을 위한 세팅\r\n",
    "!pip install -q kaggle\r\n",
    "!mkdir -p ~/.kaggle\r\n",
    "\r\n",
    "#캐글 사이트 가서 API 토큰 다운받기\r\n",
    "\r\n",
    "#평소 쥬피터 경로에 가면 .kaggle이라는 폴더 생겼을 거임.\r\n",
    "#그곳에 다운 받은 API .json 파일을 옮겨주면 끝."
   ]
  },
  {
   "cell_type": "code",
   "execution_count": 6,
   "metadata": {},
   "outputs": [
    {
     "output_type": "stream",
     "name": "stdout",
     "text": [
      "Downloading kumarmanoj-bag-of-words-meets-bags-of-popcorn.zip to d:\\jupyter\n",
      "\n",
      "\n",
      "  0%|          | 0.00/52.4M [00:00<?, ?B/s]\n",
      "  2%|▏         | 1.00M/52.4M [00:00<00:15, 3.59MB/s]\n",
      "  6%|▌         | 3.00M/52.4M [00:00<00:09, 5.60MB/s]\n",
      " 11%|█▏        | 6.00M/52.4M [00:00<00:06, 7.38MB/s]\n",
      " 19%|█▉        | 10.0M/52.4M [00:01<00:06, 7.18MB/s]\n",
      " 21%|██        | 11.0M/52.4M [00:02<00:08, 4.97MB/s]\n",
      " 25%|██▍       | 13.0M/52.4M [00:02<00:07, 5.34MB/s]\n",
      " 31%|███       | 16.0M/52.4M [00:02<00:06, 5.89MB/s]\n",
      " 32%|███▏      | 17.0M/52.4M [00:03<00:08, 4.63MB/s]\n",
      " 34%|███▍      | 18.0M/52.4M [00:03<00:07, 4.88MB/s]\n",
      " 36%|███▌      | 19.0M/52.4M [00:03<00:06, 5.36MB/s]\n",
      " 38%|███▊      | 20.0M/52.4M [00:03<00:06, 5.19MB/s]\n",
      " 40%|████      | 21.0M/52.4M [00:03<00:05, 5.83MB/s]\n",
      " 42%|████▏     | 22.0M/52.4M [00:04<00:07, 4.11MB/s]\n",
      " 44%|████▍     | 23.0M/52.4M [00:04<00:06, 4.79MB/s]\n",
      " 46%|████▌     | 24.0M/52.4M [00:04<00:05, 5.63MB/s]\n",
      " 48%|████▊     | 25.0M/52.4M [00:04<00:05, 5.63MB/s]\n",
      " 51%|█████▏    | 27.0M/52.4M [00:05<00:03, 7.50MB/s]\n",
      " 55%|█████▌    | 29.0M/52.4M [00:05<00:03, 6.96MB/s]\n",
      " 59%|█████▉    | 31.0M/52.4M [00:05<00:02, 8.67MB/s]\n",
      " 63%|██████▎   | 33.0M/52.4M [00:06<00:03, 5.73MB/s]\n",
      " 67%|██████▋   | 35.0M/52.4M [00:06<00:03, 5.87MB/s]\n",
      " 71%|███████   | 37.0M/52.4M [00:06<00:02, 5.87MB/s]\n",
      " 76%|███████▋  | 40.0M/52.4M [00:06<00:01, 8.35MB/s]\n",
      " 80%|████████  | 42.0M/52.4M [00:07<00:01, 9.76MB/s]\n",
      " 84%|████████▍ | 44.0M/52.4M [00:07<00:01, 6.71MB/s]\n",
      " 86%|████████▌ | 45.0M/52.4M [00:07<00:01, 5.98MB/s]\n",
      " 90%|████████▉ | 47.0M/52.4M [00:08<00:00, 5.89MB/s]\n",
      " 93%|█████████▎| 49.0M/52.4M [00:08<00:00, 4.97MB/s]\n",
      " 97%|█████████▋| 51.0M/52.4M [00:09<00:00, 4.92MB/s]\n",
      "100%|██████████| 52.4M/52.4M [00:09<00:00, 5.91MB/s]\n"
     ]
    }
   ],
   "source": [
    "#캐글에서 데이터셋 다운받기\n",
    "!kaggle datasets download -d ymanojkumar023/kumarmanoj-bag-of-words-meets-bags-of-popcorn"
   ]
  },
  {
   "cell_type": "code",
   "execution_count": 9,
   "metadata": {},
   "outputs": [
    {
     "output_type": "execute_result",
     "data": {
      "text/plain": [
       "         id  sentiment                                             review\n",
       "0  \"5814_8\"          1  \"With all this stuff going down at the moment ...\n",
       "1  \"2381_9\"          1  \"\\\"The Classic War of the Worlds\\\" by Timothy ...\n",
       "2  \"7759_3\"          0  \"The film starts with a manager (Nicholas Bell..."
      ],
      "text/html": "<div>\n<style scoped>\n    .dataframe tbody tr th:only-of-type {\n        vertical-align: middle;\n    }\n\n    .dataframe tbody tr th {\n        vertical-align: top;\n    }\n\n    .dataframe thead th {\n        text-align: right;\n    }\n</style>\n<table border=\"1\" class=\"dataframe\">\n  <thead>\n    <tr style=\"text-align: right;\">\n      <th></th>\n      <th>id</th>\n      <th>sentiment</th>\n      <th>review</th>\n    </tr>\n  </thead>\n  <tbody>\n    <tr>\n      <th>0</th>\n      <td>\"5814_8\"</td>\n      <td>1</td>\n      <td>\"With all this stuff going down at the moment ...</td>\n    </tr>\n    <tr>\n      <th>1</th>\n      <td>\"2381_9\"</td>\n      <td>1</td>\n      <td>\"\\\"The Classic War of the Worlds\\\" by Timothy ...</td>\n    </tr>\n    <tr>\n      <th>2</th>\n      <td>\"7759_3\"</td>\n      <td>0</td>\n      <td>\"The film starts with a manager (Nicholas Bell...</td>\n    </tr>\n  </tbody>\n</table>\n</div>"
     },
     "metadata": {},
     "execution_count": 9
    }
   ],
   "source": [
    "import pandas as pd\n",
    "\n",
    "review_df = pd.read_csv('D:/jupyter/kumarmanoj-bag-of-words-meets-bags-of-popcorn/labeledTrainData.tsv', header=0, sep='\\t', quoting=3)\n",
    "review_df.head(3)"
   ]
  },
  {
   "cell_type": "code",
   "execution_count": null,
   "metadata": {},
   "outputs": [],
   "source": [
    "# 여기서 tsv파일은 tab 탭문자로 분리된 파일임. 판다스의 read_csv를 이용해 dataframe으로 로딩가능하다는 점.\n",
    "# 어떻게? sep=\"\\t\"를 써주면 가능하쥬.\n",
    "\n",
    "# 로드된 데이터를 보면 \n",
    "# id는 말그대로 id\n",
    "# sentiment는 1은 긍정적 평가이고 0은 부정적 평가\n",
    "# review는 영화평의 텍스트임."
   ]
  },
  {
   "cell_type": "code",
   "execution_count": 10,
   "metadata": {},
   "outputs": [
    {
     "output_type": "stream",
     "name": "stdout",
     "text": [
      "\"With all this stuff going down at the moment with MJ i've started listening to his music, watching the odd documentary here and there, watched The Wiz and watched Moonwalker again. Maybe i just want to get a certain insight into this guy who i thought was really cool in the eighties just to maybe make up my mind whether he is guilty or innocent. Moonwalker is part biography, part feature film which i remember going to see at the cinema when it was originally released. Some of it has subtle messages about MJ's feeling towards the press and also the obvious message of drugs are bad m'kay.<br /><br />Visually impressive but of course this is all about Michael Jackson so unless you remotely like MJ in anyway then you are going to hate this and find it boring. Some may call MJ an egotist for consenting to the making of this movie BUT MJ and most of his fans would say that he made it for the fans which if true is really nice of him.<br /><br />The actual feature film bit when it finally starts is only on for 20 minutes or so excluding the Smooth Criminal sequence and Joe Pesci is convincing as a psychopathic all powerful drug lord. Why he wants MJ dead so bad is beyond me. Because MJ overheard his plans? Nah, Joe Pesci's character ranted that he wanted people to know it is he who is supplying drugs etc so i dunno, maybe he just hates MJ's music.<br /><br />Lots of cool things in this like MJ turning into a car and a robot and the whole Speed Demon sequence. Also, the director must have had the patience of a saint when it came to filming the kiddy Bad sequence as usually directors hate working with one kid let alone a whole bunch of them performing a complex dance scene.<br /><br />Bottom line, this movie is for people who like MJ on one level or another (which i think is most people). If not, then stay away. It does try and give off a wholesome message and ironically MJ's bestest buddy in this movie is a girl! Michael Jackson is truly one of the most talented people ever to grace this planet but is he guilty? Well, with all the attention i've gave this subject....hmmm well i don't know because people can be different behind closed doors, i know this for a fact. He is either an extremely nice but stupid guy or one of the most sickest liars. I hope he is not the latter.\"\n"
     ]
    }
   ],
   "source": [
    "# 이번에는 텍스트의 구성을 한번 보자.\n",
    "print(review_df['review'][0])"
   ]
  },
  {
   "cell_type": "code",
   "execution_count": 11,
   "metadata": {},
   "outputs": [],
   "source": [
    "# 엥? 왜 중간중간에 <br />태그가 있냐고? 이 파일이 원래 HTML형식 이었기 때문이지~\n",
    "# replace()를 str에 적용해서 <br />태그를 공백으로 싹 바꿔줍시다."
   ]
  },
  {
   "cell_type": "code",
   "execution_count": 13,
   "metadata": {},
   "outputs": [],
   "source": [
    "# 파이썬의 정규표현식 모듈인 re를 이용\n",
    "import re\n",
    "\n",
    "# replace()를 str에 적용해서 <br />태그를 공백으로 싹 바꿔줍시다.\n",
    "review_df['review'] = review_df['review'].str.replace('<br /', ' ')\n",
    "# 영어문자열이 아닌 문자는 모두 공백으로 바꾸긔.\n",
    "review_df['review'] = review_df['review'].apply(lambda x : re.sub(\"[^a-zA-Z]\", \" \", x))"
   ]
  },
  {
   "cell_type": "code",
   "execution_count": 16,
   "metadata": {},
   "outputs": [
    {
     "output_type": "stream",
     "name": "stdout",
     "text": [
      "                                                  review\n0       With all this stuff going down at the moment ...\n1         The Classic War of the Worlds   by Timothy ...\n2       The film starts with a manager  Nicholas Bell...\n3       It must be assumed that those who praised thi...\n4       Superbly trashy and wondrously unpretentious ...\n...                                                  ...\n24995   It seems like more consideration has gone int...\n24996   I don t believe they made this film  Complete...\n24997   Guy is a loser  Can t get girls  needs to bui...\n24998   This    minute documentary Bu uel made in the...\n24999   I saw this movie as a child and it broke my h...\n\n[25000 rows x 1 columns]\n"
     ]
    },
    {
     "output_type": "execute_result",
     "data": {
      "text/plain": [
       "((17500, 1), (7500, 1))"
      ]
     },
     "metadata": {},
     "execution_count": 16
    }
   ],
   "source": [
    "from sklearn.model_selection import train_test_split\n",
    "\n",
    "class_df = review_df['sentiment']\n",
    "feature_df = review_df.drop(['id', 'sentiment'], axis = 1, inplace=False)\n",
    "\n",
    "print(feature_df)\n",
    "\n",
    "X_train, X_test, y_train, y_test = train_test_split(feature_df, class_df, test_size = 0.3, random_state = 156)\n",
    "\n",
    "X_train.shape, X_test.shape"
   ]
  },
  {
   "cell_type": "code",
   "execution_count": null,
   "metadata": {},
   "outputs": [],
   "source": [
    "# 보면 학습용 데이터는 17500개의 리뷰, 테스트용 데이터는 7500개의 리뷰로 구성됨."
   ]
  },
  {
   "cell_type": "code",
   "execution_count": 17,
   "metadata": {},
   "outputs": [
    {
     "output_type": "stream",
     "name": "stderr",
     "text": [
      "C:\\Users\\Leo Kim\\AppData\\Local\\Programs\\Python\\Python39\\lib\\site-packages\\sklearn\\linear_model\\_logistic.py:763: ConvergenceWarning: lbfgs failed to converge (status=1):\n",
      "STOP: TOTAL NO. of ITERATIONS REACHED LIMIT.\n",
      "\n",
      "Increase the number of iterations (max_iter) or scale the data as shown in:\n",
      "    https://scikit-learn.org/stable/modules/preprocessing.html\n",
      "Please also refer to the documentation for alternative solver options:\n",
      "    https://scikit-learn.org/stable/modules/linear_model.html#logistic-regression\n",
      "  n_iter_i = _check_optimize_result(\n",
      "예측 정확도는 0.8860, ROC-AUC는 0.9503\n"
     ]
    }
   ],
   "source": [
    "# 이건 Count 벡터화를 적용해 측정해보는 것.\n",
    "\n",
    "from sklearn.feature_extraction.text import CountVectorizer, TfidfVectorizer\n",
    "from sklearn.pipeline import Pipeline\n",
    "from sklearn.linear_model import LogisticRegression\n",
    "from sklearn.metrics import accuracy_score, roc_auc_score\n",
    "\n",
    "# 스톱 워드는 English, Filtering, Ngram은 (1, 2)로 설정하여 CountVectorization 수행\n",
    "# LogisticRegression의 C는 10으로 설정\n",
    "pipeline = Pipeline([\n",
    "                     ('cnt_vect', CountVectorizer(stop_words = 'english', ngram_range=(1, 2))), \n",
    "                     ('lr_clf', LogisticRegression(C=10))])\n",
    "\n",
    "# Pipeline 객체를 이용해 fit(), predict()로 학습/예측 수행, predict_proba()는 roc_auc 때문에 수행. \n",
    "pipeline.fit(X_train['review'], y_train)\n",
    "pred = pipeline.predict(X_test['review'])\n",
    "pred_probs = pipeline.predict_proba(X_test['review'])[:, 1]\n",
    "\n",
    "print('예측 정확도는 {0:.4f}, ROC-AUC는 {1:.4f}'.format(accuracy_score(y_test, pred), roc_auc_score(y_test, pred_probs)))"
   ]
  },
  {
   "cell_type": "code",
   "execution_count": 18,
   "metadata": {},
   "outputs": [
    {
     "output_type": "stream",
     "name": "stdout",
     "text": [
      "예측 정확도는 0.8936, ROC-AUC는 0.9598\n"
     ]
    }
   ],
   "source": [
    "# 요건 TF-IDF 벡터화를 적용해 측정해보는 것.\n",
    "# 스톱 워드는 english, filtering, ngram은 (1, 2)로 설정해 TF-IDF 벡터화 수행\n",
    "# LogisticRegression의 C는 10으로 설정\n",
    "\n",
    "pipeline = Pipeline([\n",
    "                     ('tfidf_vect', TfidfVectorizer(stop_words='english', ngram_range = (1, 2))), \n",
    "                     ('lr_clf', LogisticRegression(C=10))])\n",
    "                     \n",
    "pipeline.fit(X_train['review'], y_train)\n",
    "pred = pipeline.predict(X_test['review'])\n",
    "pred_probs = pipeline.predict_proba(X_test['review'])[:, 1]\n",
    "\n",
    "print('예측 정확도는 {0:.4f}, ROC-AUC는 {1:.4f}'.format(accuracy_score(y_test, pred), roc_auc_score(y_test, pred_probs)))"
   ]
  },
  {
   "cell_type": "code",
   "execution_count": null,
   "metadata": {},
   "outputs": [],
   "source": [
    "# NLTK 패키지를 활용하여 WordNet을 활용합니다.\n",
    "# 우선 시간 측정을 위해 아래와 같은 함수를 정의합니다."
   ]
  },
  {
   "cell_type": "code",
   "execution_count": 1,
   "metadata": {},
   "outputs": [],
   "source": [
    "import time\n",
    "import datetime\n",
    "def bench_mark(start):\n",
    "  sec = time.time() - start\n",
    "  times = str(datetime.timedelta(seconds=sec)).split(\".\")\n",
    "  times = times[0]\n",
    "  print(times)"
   ]
  },
  {
   "cell_type": "code",
   "execution_count": 2,
   "metadata": {},
   "outputs": [
    {
     "output_type": "stream",
     "name": "stderr",
     "text": [
      "[nltk_data] Downloading collection 'all'\n",
      "[nltk_data]    | \n",
      "[nltk_data]    | Downloading package abc to C:\\Users\\Leo\n",
      "[nltk_data]    |     Kim\\AppData\\Roaming\\nltk_data...\n",
      "[nltk_data]    |   Unzipping corpora\\abc.zip.\n",
      "[nltk_data]    | Downloading package alpino to C:\\Users\\Leo\n",
      "[nltk_data]    |     Kim\\AppData\\Roaming\\nltk_data...\n",
      "[nltk_data]    |   Unzipping corpora\\alpino.zip.\n",
      "[nltk_data]    | Downloading package biocreative_ppi to C:\\Users\\Leo\n",
      "[nltk_data]    |     Kim\\AppData\\Roaming\\nltk_data...\n",
      "[nltk_data]    |   Unzipping corpora\\biocreative_ppi.zip.\n",
      "[nltk_data]    | Downloading package brown to C:\\Users\\Leo\n",
      "[nltk_data]    |     Kim\\AppData\\Roaming\\nltk_data...\n",
      "[nltk_data]    |   Unzipping corpora\\brown.zip.\n",
      "[nltk_data]    | Downloading package brown_tei to C:\\Users\\Leo\n",
      "[nltk_data]    |     Kim\\AppData\\Roaming\\nltk_data...\n",
      "[nltk_data]    |   Unzipping corpora\\brown_tei.zip.\n",
      "[nltk_data]    | Downloading package cess_cat to C:\\Users\\Leo\n",
      "[nltk_data]    |     Kim\\AppData\\Roaming\\nltk_data...\n",
      "[nltk_data]    |   Unzipping corpora\\cess_cat.zip.\n",
      "[nltk_data]    | Downloading package cess_esp to C:\\Users\\Leo\n",
      "[nltk_data]    |     Kim\\AppData\\Roaming\\nltk_data...\n",
      "[nltk_data]    |   Unzipping corpora\\cess_esp.zip.\n",
      "[nltk_data]    | Downloading package chat80 to C:\\Users\\Leo\n",
      "[nltk_data]    |     Kim\\AppData\\Roaming\\nltk_data...\n",
      "[nltk_data]    |   Unzipping corpora\\chat80.zip.\n",
      "[nltk_data]    | Downloading package city_database to C:\\Users\\Leo\n",
      "[nltk_data]    |     Kim\\AppData\\Roaming\\nltk_data...\n",
      "[nltk_data]    |   Unzipping corpora\\city_database.zip.\n",
      "[nltk_data]    | Downloading package cmudict to C:\\Users\\Leo\n",
      "[nltk_data]    |     Kim\\AppData\\Roaming\\nltk_data...\n",
      "[nltk_data]    |   Unzipping corpora\\cmudict.zip.\n",
      "[nltk_data]    | Downloading package comparative_sentences to\n",
      "[nltk_data]    |     C:\\Users\\Leo Kim\\AppData\\Roaming\\nltk_data...\n",
      "[nltk_data]    |   Unzipping corpora\\comparative_sentences.zip.\n",
      "[nltk_data]    | Downloading package comtrans to C:\\Users\\Leo\n",
      "[nltk_data]    |     Kim\\AppData\\Roaming\\nltk_data...\n",
      "[nltk_data]    | Downloading package conll2000 to C:\\Users\\Leo\n",
      "[nltk_data]    |     Kim\\AppData\\Roaming\\nltk_data...\n",
      "[nltk_data]    |   Unzipping corpora\\conll2000.zip.\n",
      "[nltk_data]    | Downloading package conll2002 to C:\\Users\\Leo\n",
      "[nltk_data]    |     Kim\\AppData\\Roaming\\nltk_data...\n",
      "[nltk_data]    |   Unzipping corpora\\conll2002.zip.\n",
      "[nltk_data]    | Downloading package conll2007 to C:\\Users\\Leo\n",
      "[nltk_data]    |     Kim\\AppData\\Roaming\\nltk_data...\n",
      "[nltk_data]    | Downloading package crubadan to C:\\Users\\Leo\n",
      "[nltk_data]    |     Kim\\AppData\\Roaming\\nltk_data...\n",
      "[nltk_data]    |   Unzipping corpora\\crubadan.zip.\n",
      "[nltk_data]    | Downloading package dependency_treebank to\n",
      "[nltk_data]    |     C:\\Users\\Leo Kim\\AppData\\Roaming\\nltk_data...\n",
      "[nltk_data]    |   Unzipping corpora\\dependency_treebank.zip.\n",
      "[nltk_data]    | Downloading package dolch to C:\\Users\\Leo\n",
      "[nltk_data]    |     Kim\\AppData\\Roaming\\nltk_data...\n",
      "[nltk_data]    |   Unzipping corpora\\dolch.zip.\n",
      "[nltk_data]    | Downloading package europarl_raw to C:\\Users\\Leo\n",
      "[nltk_data]    |     Kim\\AppData\\Roaming\\nltk_data...\n",
      "[nltk_data]    |   Unzipping corpora\\europarl_raw.zip.\n",
      "[nltk_data]    | Downloading package floresta to C:\\Users\\Leo\n",
      "[nltk_data]    |     Kim\\AppData\\Roaming\\nltk_data...\n",
      "[nltk_data]    |   Unzipping corpora\\floresta.zip.\n",
      "[nltk_data]    | Downloading package framenet_v15 to C:\\Users\\Leo\n",
      "[nltk_data]    |     Kim\\AppData\\Roaming\\nltk_data...\n",
      "[nltk_data]    |   Unzipping corpora\\framenet_v15.zip.\n",
      "[nltk_data]    | Downloading package framenet_v17 to C:\\Users\\Leo\n",
      "[nltk_data]    |     Kim\\AppData\\Roaming\\nltk_data...\n",
      "[nltk_data]    |   Unzipping corpora\\framenet_v17.zip.\n",
      "[nltk_data]    | Downloading package gazetteers to C:\\Users\\Leo\n",
      "[nltk_data]    |     Kim\\AppData\\Roaming\\nltk_data...\n",
      "[nltk_data]    |   Unzipping corpora\\gazetteers.zip.\n",
      "[nltk_data]    | Downloading package genesis to C:\\Users\\Leo\n",
      "[nltk_data]    |     Kim\\AppData\\Roaming\\nltk_data...\n",
      "[nltk_data]    |   Unzipping corpora\\genesis.zip.\n",
      "[nltk_data]    | Downloading package gutenberg to C:\\Users\\Leo\n",
      "[nltk_data]    |     Kim\\AppData\\Roaming\\nltk_data...\n",
      "[nltk_data]    |   Unzipping corpora\\gutenberg.zip.\n",
      "[nltk_data]    | Downloading package ieer to C:\\Users\\Leo\n",
      "[nltk_data]    |     Kim\\AppData\\Roaming\\nltk_data...\n",
      "[nltk_data]    |   Unzipping corpora\\ieer.zip.\n",
      "[nltk_data]    | Downloading package inaugural to C:\\Users\\Leo\n",
      "[nltk_data]    |     Kim\\AppData\\Roaming\\nltk_data...\n",
      "[nltk_data]    |   Unzipping corpora\\inaugural.zip.\n",
      "[nltk_data]    | Downloading package indian to C:\\Users\\Leo\n",
      "[nltk_data]    |     Kim\\AppData\\Roaming\\nltk_data...\n",
      "[nltk_data]    |   Unzipping corpora\\indian.zip.\n",
      "[nltk_data]    | Downloading package jeita to C:\\Users\\Leo\n",
      "[nltk_data]    |     Kim\\AppData\\Roaming\\nltk_data...\n",
      "[nltk_data]    | Downloading package kimmo to C:\\Users\\Leo\n",
      "[nltk_data]    |     Kim\\AppData\\Roaming\\nltk_data...\n",
      "[nltk_data]    |   Unzipping corpora\\kimmo.zip.\n",
      "[nltk_data]    | Downloading package knbc to C:\\Users\\Leo\n",
      "[nltk_data]    |     Kim\\AppData\\Roaming\\nltk_data...\n",
      "[nltk_data]    | Downloading package lin_thesaurus to C:\\Users\\Leo\n",
      "[nltk_data]    |     Kim\\AppData\\Roaming\\nltk_data...\n",
      "[nltk_data]    |   Unzipping corpora\\lin_thesaurus.zip.\n",
      "[nltk_data]    | Downloading package mac_morpho to C:\\Users\\Leo\n",
      "[nltk_data]    |     Kim\\AppData\\Roaming\\nltk_data...\n",
      "[nltk_data]    |   Unzipping corpora\\mac_morpho.zip.\n",
      "[nltk_data]    | Downloading package machado to C:\\Users\\Leo\n",
      "[nltk_data]    |     Kim\\AppData\\Roaming\\nltk_data...\n",
      "[nltk_data]    | Downloading package masc_tagged to C:\\Users\\Leo\n",
      "[nltk_data]    |     Kim\\AppData\\Roaming\\nltk_data...\n",
      "[nltk_data]    | Downloading package moses_sample to C:\\Users\\Leo\n",
      "[nltk_data]    |     Kim\\AppData\\Roaming\\nltk_data...\n",
      "[nltk_data]    |   Unzipping models\\moses_sample.zip.\n",
      "[nltk_data]    | Downloading package movie_reviews to C:\\Users\\Leo\n",
      "[nltk_data]    |     Kim\\AppData\\Roaming\\nltk_data...\n",
      "[nltk_data]    |   Unzipping corpora\\movie_reviews.zip.\n",
      "[nltk_data]    | Downloading package names to C:\\Users\\Leo\n",
      "[nltk_data]    |     Kim\\AppData\\Roaming\\nltk_data...\n",
      "[nltk_data]    |   Unzipping corpora\\names.zip.\n",
      "[nltk_data]    | Downloading package nombank.1.0 to C:\\Users\\Leo\n",
      "[nltk_data]    |     Kim\\AppData\\Roaming\\nltk_data...\n",
      "[nltk_data]    | Downloading package nps_chat to C:\\Users\\Leo\n",
      "[nltk_data]    |     Kim\\AppData\\Roaming\\nltk_data...\n",
      "[nltk_data]    |   Unzipping corpora\\nps_chat.zip.\n",
      "[nltk_data]    | Downloading package omw to C:\\Users\\Leo\n",
      "[nltk_data]    |     Kim\\AppData\\Roaming\\nltk_data...\n",
      "[nltk_data]    |   Unzipping corpora\\omw.zip.\n",
      "[nltk_data]    | Downloading package opinion_lexicon to C:\\Users\\Leo\n",
      "[nltk_data]    |     Kim\\AppData\\Roaming\\nltk_data...\n",
      "[nltk_data]    |   Unzipping corpora\\opinion_lexicon.zip.\n",
      "[nltk_data]    | Downloading package paradigms to C:\\Users\\Leo\n",
      "[nltk_data]    |     Kim\\AppData\\Roaming\\nltk_data...\n",
      "[nltk_data]    |   Unzipping corpora\\paradigms.zip.\n",
      "[nltk_data]    | Downloading package pil to C:\\Users\\Leo\n",
      "[nltk_data]    |     Kim\\AppData\\Roaming\\nltk_data...\n",
      "[nltk_data]    |   Unzipping corpora\\pil.zip.\n",
      "[nltk_data]    | Downloading package pl196x to C:\\Users\\Leo\n",
      "[nltk_data]    |     Kim\\AppData\\Roaming\\nltk_data...\n",
      "[nltk_data]    |   Unzipping corpora\\pl196x.zip.\n",
      "[nltk_data]    | Downloading package ppattach to C:\\Users\\Leo\n",
      "[nltk_data]    |     Kim\\AppData\\Roaming\\nltk_data...\n",
      "[nltk_data]    |   Unzipping corpora\\ppattach.zip.\n",
      "[nltk_data]    | Downloading package problem_reports to C:\\Users\\Leo\n",
      "[nltk_data]    |     Kim\\AppData\\Roaming\\nltk_data...\n",
      "[nltk_data]    |   Unzipping corpora\\problem_reports.zip.\n",
      "[nltk_data]    | Downloading package propbank to C:\\Users\\Leo\n",
      "[nltk_data]    |     Kim\\AppData\\Roaming\\nltk_data...\n",
      "[nltk_data]    | Downloading package ptb to C:\\Users\\Leo\n",
      "[nltk_data]    |     Kim\\AppData\\Roaming\\nltk_data...\n",
      "[nltk_data]    |   Unzipping corpora\\ptb.zip.\n",
      "[nltk_data]    | Downloading package product_reviews_1 to C:\\Users\\Leo\n",
      "[nltk_data]    |     Kim\\AppData\\Roaming\\nltk_data...\n",
      "[nltk_data]    |   Unzipping corpora\\product_reviews_1.zip.\n",
      "[nltk_data]    | Downloading package product_reviews_2 to C:\\Users\\Leo\n",
      "[nltk_data]    |     Kim\\AppData\\Roaming\\nltk_data...\n",
      "[nltk_data]    |   Unzipping corpora\\product_reviews_2.zip.\n",
      "[nltk_data]    | Downloading package pros_cons to C:\\Users\\Leo\n",
      "[nltk_data]    |     Kim\\AppData\\Roaming\\nltk_data...\n",
      "[nltk_data]    |   Unzipping corpora\\pros_cons.zip.\n",
      "[nltk_data]    | Downloading package qc to C:\\Users\\Leo\n",
      "[nltk_data]    |     Kim\\AppData\\Roaming\\nltk_data...\n",
      "[nltk_data]    |   Unzipping corpora\\qc.zip.\n",
      "[nltk_data]    | Downloading package reuters to C:\\Users\\Leo\n",
      "[nltk_data]    |     Kim\\AppData\\Roaming\\nltk_data...\n",
      "[nltk_data]    | Downloading package rte to C:\\Users\\Leo\n",
      "[nltk_data]    |     Kim\\AppData\\Roaming\\nltk_data...\n",
      "[nltk_data]    |   Unzipping corpora\\rte.zip.\n",
      "[nltk_data]    | Downloading package semcor to C:\\Users\\Leo\n",
      "[nltk_data]    |     Kim\\AppData\\Roaming\\nltk_data...\n",
      "[nltk_data]    | Downloading package senseval to C:\\Users\\Leo\n",
      "[nltk_data]    |     Kim\\AppData\\Roaming\\nltk_data...\n",
      "[nltk_data]    |   Unzipping corpora\\senseval.zip.\n",
      "[nltk_data]    | Downloading package sentiwordnet to C:\\Users\\Leo\n",
      "[nltk_data]    |     Kim\\AppData\\Roaming\\nltk_data...\n",
      "[nltk_data]    |   Unzipping corpora\\sentiwordnet.zip.\n",
      "[nltk_data]    | Downloading package sentence_polarity to C:\\Users\\Leo\n",
      "[nltk_data]    |     Kim\\AppData\\Roaming\\nltk_data...\n",
      "[nltk_data]    |   Unzipping corpora\\sentence_polarity.zip.\n",
      "[nltk_data]    | Downloading package shakespeare to C:\\Users\\Leo\n",
      "[nltk_data]    |     Kim\\AppData\\Roaming\\nltk_data...\n",
      "[nltk_data]    |   Unzipping corpora\\shakespeare.zip.\n",
      "[nltk_data]    | Downloading package sinica_treebank to C:\\Users\\Leo\n",
      "[nltk_data]    |     Kim\\AppData\\Roaming\\nltk_data...\n",
      "[nltk_data]    |   Unzipping corpora\\sinica_treebank.zip.\n",
      "[nltk_data]    | Downloading package smultron to C:\\Users\\Leo\n",
      "[nltk_data]    |     Kim\\AppData\\Roaming\\nltk_data...\n",
      "[nltk_data]    |   Unzipping corpora\\smultron.zip.\n",
      "[nltk_data]    | Downloading package state_union to C:\\Users\\Leo\n",
      "[nltk_data]    |     Kim\\AppData\\Roaming\\nltk_data...\n",
      "[nltk_data]    |   Unzipping corpora\\state_union.zip.\n",
      "[nltk_data]    | Downloading package stopwords to C:\\Users\\Leo\n",
      "[nltk_data]    |     Kim\\AppData\\Roaming\\nltk_data...\n",
      "[nltk_data]    |   Unzipping corpora\\stopwords.zip.\n",
      "[nltk_data]    | Downloading package subjectivity to C:\\Users\\Leo\n",
      "[nltk_data]    |     Kim\\AppData\\Roaming\\nltk_data...\n",
      "[nltk_data]    |   Unzipping corpora\\subjectivity.zip.\n",
      "[nltk_data]    | Downloading package swadesh to C:\\Users\\Leo\n",
      "[nltk_data]    |     Kim\\AppData\\Roaming\\nltk_data...\n",
      "[nltk_data]    |   Unzipping corpora\\swadesh.zip.\n",
      "[nltk_data]    | Downloading package switchboard to C:\\Users\\Leo\n",
      "[nltk_data]    |     Kim\\AppData\\Roaming\\nltk_data...\n",
      "[nltk_data]    |   Unzipping corpora\\switchboard.zip.\n",
      "[nltk_data]    | Downloading package timit to C:\\Users\\Leo\n",
      "[nltk_data]    |     Kim\\AppData\\Roaming\\nltk_data...\n",
      "[nltk_data]    |   Unzipping corpora\\timit.zip.\n",
      "[nltk_data]    | Downloading package toolbox to C:\\Users\\Leo\n",
      "[nltk_data]    |     Kim\\AppData\\Roaming\\nltk_data...\n",
      "[nltk_data]    |   Unzipping corpora\\toolbox.zip.\n",
      "[nltk_data]    | Downloading package treebank to C:\\Users\\Leo\n",
      "[nltk_data]    |     Kim\\AppData\\Roaming\\nltk_data...\n",
      "[nltk_data]    |   Unzipping corpora\\treebank.zip.\n",
      "[nltk_data]    | Downloading package twitter_samples to C:\\Users\\Leo\n",
      "[nltk_data]    |     Kim\\AppData\\Roaming\\nltk_data...\n",
      "[nltk_data]    |   Unzipping corpora\\twitter_samples.zip.\n",
      "[nltk_data]    | Downloading package udhr to C:\\Users\\Leo\n",
      "[nltk_data]    |     Kim\\AppData\\Roaming\\nltk_data...\n",
      "[nltk_data]    |   Unzipping corpora\\udhr.zip.\n",
      "[nltk_data]    | Downloading package udhr2 to C:\\Users\\Leo\n",
      "[nltk_data]    |     Kim\\AppData\\Roaming\\nltk_data...\n",
      "[nltk_data]    |   Unzipping corpora\\udhr2.zip.\n",
      "[nltk_data]    | Downloading package unicode_samples to C:\\Users\\Leo\n",
      "[nltk_data]    |     Kim\\AppData\\Roaming\\nltk_data...\n",
      "[nltk_data]    |   Unzipping corpora\\unicode_samples.zip.\n",
      "[nltk_data]    | Downloading package universal_treebanks_v20 to\n",
      "[nltk_data]    |     C:\\Users\\Leo Kim\\AppData\\Roaming\\nltk_data...\n",
      "[nltk_data]    | Downloading package verbnet to C:\\Users\\Leo\n",
      "[nltk_data]    |     Kim\\AppData\\Roaming\\nltk_data...\n",
      "[nltk_data]    |   Unzipping corpora\\verbnet.zip.\n",
      "[nltk_data]    | Downloading package verbnet3 to C:\\Users\\Leo\n",
      "[nltk_data]    |     Kim\\AppData\\Roaming\\nltk_data...\n",
      "[nltk_data]    |   Unzipping corpora\\verbnet3.zip.\n",
      "[nltk_data]    | Downloading package webtext to C:\\Users\\Leo\n",
      "[nltk_data]    |     Kim\\AppData\\Roaming\\nltk_data...\n",
      "[nltk_data]    |   Unzipping corpora\\webtext.zip.\n",
      "[nltk_data]    | Downloading package wordnet to C:\\Users\\Leo\n",
      "[nltk_data]    |     Kim\\AppData\\Roaming\\nltk_data...\n",
      "[nltk_data]    |   Unzipping corpora\\wordnet.zip.\n",
      "[nltk_data]    | Downloading package wordnet_ic to C:\\Users\\Leo\n",
      "[nltk_data]    |     Kim\\AppData\\Roaming\\nltk_data...\n",
      "[nltk_data]    |   Unzipping corpora\\wordnet_ic.zip.\n",
      "[nltk_data]    | Downloading package words to C:\\Users\\Leo\n",
      "[nltk_data]    |     Kim\\AppData\\Roaming\\nltk_data...\n",
      "[nltk_data]    |   Unzipping corpora\\words.zip.\n",
      "[nltk_data]    | Downloading package ycoe to C:\\Users\\Leo\n",
      "[nltk_data]    |     Kim\\AppData\\Roaming\\nltk_data...\n",
      "[nltk_data]    |   Unzipping corpora\\ycoe.zip.\n",
      "[nltk_data]    | Downloading package rslp to C:\\Users\\Leo\n",
      "[nltk_data]    |     Kim\\AppData\\Roaming\\nltk_data...\n",
      "[nltk_data]    |   Unzipping stemmers\\rslp.zip.\n",
      "[nltk_data]    | Downloading package maxent_treebank_pos_tagger to\n",
      "[nltk_data]    |     C:\\Users\\Leo Kim\\AppData\\Roaming\\nltk_data...\n",
      "[nltk_data]    |   Unzipping taggers\\maxent_treebank_pos_tagger.zip.\n",
      "[nltk_data]    | Downloading package universal_tagset to C:\\Users\\Leo\n",
      "[nltk_data]    |     Kim\\AppData\\Roaming\\nltk_data...\n",
      "[nltk_data]    |   Unzipping taggers\\universal_tagset.zip.\n",
      "[nltk_data]    | Downloading package maxent_ne_chunker to C:\\Users\\Leo\n",
      "[nltk_data]    |     Kim\\AppData\\Roaming\\nltk_data...\n",
      "[nltk_data]    |   Unzipping chunkers\\maxent_ne_chunker.zip.\n",
      "[nltk_data]    | Downloading package punkt to C:\\Users\\Leo\n",
      "[nltk_data]    |     Kim\\AppData\\Roaming\\nltk_data...\n",
      "[nltk_data]    |   Unzipping tokenizers\\punkt.zip.\n",
      "[nltk_data]    | Downloading package book_grammars to C:\\Users\\Leo\n",
      "[nltk_data]    |     Kim\\AppData\\Roaming\\nltk_data...\n",
      "[nltk_data]    |   Unzipping grammars\\book_grammars.zip.\n",
      "[nltk_data]    | Downloading package sample_grammars to C:\\Users\\Leo\n",
      "[nltk_data]    |     Kim\\AppData\\Roaming\\nltk_data...\n",
      "[nltk_data]    |   Unzipping grammars\\sample_grammars.zip.\n",
      "[nltk_data]    | Downloading package spanish_grammars to C:\\Users\\Leo\n",
      "[nltk_data]    |     Kim\\AppData\\Roaming\\nltk_data...\n",
      "[nltk_data]    |   Unzipping grammars\\spanish_grammars.zip.\n",
      "[nltk_data]    | Downloading package basque_grammars to C:\\Users\\Leo\n",
      "[nltk_data]    |     Kim\\AppData\\Roaming\\nltk_data...\n",
      "[nltk_data]    |   Unzipping grammars\\basque_grammars.zip.\n",
      "[nltk_data]    | Downloading package large_grammars to C:\\Users\\Leo\n",
      "[nltk_data]    |     Kim\\AppData\\Roaming\\nltk_data...\n",
      "[nltk_data]    |   Unzipping grammars\\large_grammars.zip.\n",
      "[nltk_data]    | Downloading package tagsets to C:\\Users\\Leo\n",
      "[nltk_data]    |     Kim\\AppData\\Roaming\\nltk_data...\n",
      "[nltk_data]    |   Unzipping help\\tagsets.zip.\n",
      "[nltk_data]    | Downloading package snowball_data to C:\\Users\\Leo\n",
      "[nltk_data]    |     Kim\\AppData\\Roaming\\nltk_data...\n",
      "[nltk_data]    | Downloading package bllip_wsj_no_aux to C:\\Users\\Leo\n",
      "[nltk_data]    |     Kim\\AppData\\Roaming\\nltk_data...\n",
      "[nltk_data]    |   Unzipping models\\bllip_wsj_no_aux.zip.\n",
      "[nltk_data]    | Downloading package word2vec_sample to C:\\Users\\Leo\n",
      "[nltk_data]    |     Kim\\AppData\\Roaming\\nltk_data...\n",
      "[nltk_data]    |   Unzipping models\\word2vec_sample.zip.\n",
      "[nltk_data]    | Downloading package panlex_swadesh to C:\\Users\\Leo\n",
      "[nltk_data]    |     Kim\\AppData\\Roaming\\nltk_data...\n",
      "[nltk_data]    | Downloading package mte_teip5 to C:\\Users\\Leo\n",
      "[nltk_data]    |     Kim\\AppData\\Roaming\\nltk_data...\n",
      "[nltk_data]    |   Unzipping corpora\\mte_teip5.zip.\n",
      "[nltk_data]    | Downloading package averaged_perceptron_tagger to\n",
      "[nltk_data]    |     C:\\Users\\Leo Kim\\AppData\\Roaming\\nltk_data...\n",
      "[nltk_data]    |   Unzipping taggers\\averaged_perceptron_tagger.zip.\n",
      "[nltk_data]    | Downloading package averaged_perceptron_tagger_ru to\n",
      "[nltk_data]    |     C:\\Users\\Leo Kim\\AppData\\Roaming\\nltk_data...\n",
      "[nltk_data]    |   Unzipping\n",
      "[nltk_data]    |       taggers\\averaged_perceptron_tagger_ru.zip.\n",
      "[nltk_data]    | Downloading package perluniprops to C:\\Users\\Leo\n",
      "[nltk_data]    |     Kim\\AppData\\Roaming\\nltk_data...\n",
      "[nltk_data]    |   Unzipping misc\\perluniprops.zip.\n",
      "[nltk_data]    | Downloading package nonbreaking_prefixes to\n",
      "[nltk_data]    |     C:\\Users\\Leo Kim\\AppData\\Roaming\\nltk_data...\n",
      "[nltk_data]    |   Unzipping corpora\\nonbreaking_prefixes.zip.\n",
      "[nltk_data]    | Downloading package vader_lexicon to C:\\Users\\Leo\n",
      "[nltk_data]    |     Kim\\AppData\\Roaming\\nltk_data...\n",
      "[nltk_data]    | Downloading package porter_test to C:\\Users\\Leo\n",
      "[nltk_data]    |     Kim\\AppData\\Roaming\\nltk_data...\n",
      "[nltk_data]    |   Unzipping stemmers\\porter_test.zip.\n",
      "[nltk_data]    | Downloading package wmt15_eval to C:\\Users\\Leo\n",
      "[nltk_data]    |     Kim\\AppData\\Roaming\\nltk_data...\n",
      "[nltk_data]    |   Unzipping models\\wmt15_eval.zip.\n",
      "[nltk_data]    | Downloading package mwa_ppdb to C:\\Users\\Leo\n",
      "[nltk_data]    |     Kim\\AppData\\Roaming\\nltk_data...\n",
      "0:05:04\n",
      "[nltk_data]    |   Unzipping misc\\mwa_ppdb.zip.\n",
      "[nltk_data]    | \n",
      "[nltk_data]  Done downloading collection all\n"
     ]
    }
   ],
   "source": [
    "start = time.time()\n",
    "\n",
    "import nltk\n",
    "nltk.download('all')\n",
    "\n",
    "bench_mark(start)"
   ]
  },
  {
   "cell_type": "code",
   "execution_count": 3,
   "metadata": {},
   "outputs": [
    {
     "output_type": "stream",
     "name": "stdout",
     "text": [
      "synsets() 반환 type : <class 'list'>\nsynsets() 반환 값 개수 : 18\nsynsets() 반환 값 : [Synset('present.n.01'), Synset('present.n.02'), Synset('present.n.03'), Synset('show.v.01'), Synset('present.v.02'), Synset('stage.v.01'), Synset('present.v.04'), Synset('present.v.05'), Synset('award.v.01'), Synset('give.v.08'), Synset('deliver.v.01'), Synset('introduce.v.01'), Synset('portray.v.04'), Synset('confront.v.03'), Synset('present.v.12'), Synset('salute.v.06'), Synset('present.a.01'), Synset('present.a.02')]\n"
     ]
    }
   ],
   "source": [
    "from nltk.corpus import wordnet as wn \n",
    "\n",
    "the_word = \"present\"\n",
    "\n",
    "# 'present'라는 단어로 `wordnet`의 `synsets` 생성\n",
    "synsets = wn.synsets(the_word)\n",
    "print('synsets() 반환 type :', type(synsets))\n",
    "print('synsets() 반환 값 개수 :', len(synsets))\n",
    "print('synsets() 반환 값 :', synsets)"
   ]
  },
  {
   "cell_type": "code",
   "execution_count": null,
   "metadata": {},
   "outputs": [],
   "source": [
    "# 'present.n.01'에서 present는 의미, n은 명사 품사라는 걸 구분해주고, \n",
    "# 01은 present가 명사로서 가지는 의미가 여러가지 있어서 이를 구분하는 인덱스임."
   ]
  },
  {
   "cell_type": "code",
   "execution_count": null,
   "metadata": {},
   "outputs": [],
   "source": []
  },
  {
   "cell_type": "code",
   "execution_count": 4,
   "metadata": {},
   "outputs": [
    {
     "output_type": "stream",
     "name": "stdout",
     "text": [
      "#### Synset name : present.n.01 ####\nPOS : noun.time\nDefinition: the period of time that is happening now; any continuous stretch of time including the moment of speech\nLemmas: ['present', 'nowadays']\n#### Synset name : present.n.02 ####\nPOS : noun.possession\nDefinition: something presented as a gift\nLemmas: ['present']\n#### Synset name : present.n.03 ####\nPOS : noun.communication\nDefinition: a verb tense that expresses actions or states at the time of speaking\nLemmas: ['present', 'present_tense']\n#### Synset name : show.v.01 ####\nPOS : verb.perception\nDefinition: give an exhibition of to an interested audience\nLemmas: ['show', 'demo', 'exhibit', 'present', 'demonstrate']\n#### Synset name : present.v.02 ####\nPOS : verb.communication\nDefinition: bring forward and present to the mind\nLemmas: ['present', 'represent', 'lay_out']\n#### Synset name : stage.v.01 ####\nPOS : verb.creation\nDefinition: perform (a play), especially on a stage\nLemmas: ['stage', 'present', 'represent']\n#### Synset name : present.v.04 ####\nPOS : verb.possession\nDefinition: hand over formally\nLemmas: ['present', 'submit']\n#### Synset name : present.v.05 ####\nPOS : verb.stative\nDefinition: introduce\nLemmas: ['present', 'pose']\n#### Synset name : award.v.01 ####\nPOS : verb.possession\nDefinition: give, especially as an honor or reward\nLemmas: ['award', 'present']\n#### Synset name : give.v.08 ####\nPOS : verb.possession\nDefinition: give as a present; make a gift of\nLemmas: ['give', 'gift', 'present']\n#### Synset name : deliver.v.01 ####\nPOS : verb.communication\nDefinition: deliver (a speech, oration, or idea)\nLemmas: ['deliver', 'present']\n#### Synset name : introduce.v.01 ####\nPOS : verb.communication\nDefinition: cause to come to know personally\nLemmas: ['introduce', 'present', 'acquaint']\n#### Synset name : portray.v.04 ####\nPOS : verb.creation\nDefinition: represent abstractly, for example in a painting, drawing, or sculpture\nLemmas: ['portray', 'present']\n#### Synset name : confront.v.03 ####\nPOS : verb.communication\nDefinition: present somebody with something, usually to accuse or criticize\nLemmas: ['confront', 'face', 'present']\n#### Synset name : present.v.12 ####\nPOS : verb.communication\nDefinition: formally present a debutante, a representative of a country, etc.\nLemmas: ['present']\n#### Synset name : salute.v.06 ####\nPOS : verb.communication\nDefinition: recognize with a gesture prescribed by a military regulation; assume a prescribed position\nLemmas: ['salute', 'present']\n#### Synset name : present.a.01 ####\nPOS : adj.all\nDefinition: temporal sense; intermediate between past and future; now existing or happening or in consideration\nLemmas: ['present']\n#### Synset name : present.a.02 ####\nPOS : adj.all\nDefinition: being or existing in a specified place\nLemmas: ['present']\n"
     ]
    }
   ],
   "source": [
    "for synset in synsets:\n",
    "  print(\"#### Synset name :\", synset.name(), \"####\")\n",
    "  print(\"POS :\", synset.lexname())\n",
    "  print('Definition:', synset.definition())\n",
    "  print('Lemmas:', synset.lemma_names())"
   ]
  },
  {
   "cell_type": "code",
   "execution_count": 6,
   "metadata": {},
   "outputs": [
    {
     "output_type": "error",
     "ename": "NameError",
     "evalue": "name 'pd' is not defined",
     "traceback": [
      "\u001b[1;31m---------------------------------------------------------------------------\u001b[0m",
      "\u001b[1;31mNameError\u001b[0m                                 Traceback (most recent call last)",
      "\u001b[1;32m<ipython-input-6-fc12ac3d8ece>\u001b[0m in \u001b[0;36m<module>\u001b[1;34m\u001b[0m\n\u001b[0;32m     17\u001b[0m \u001b[1;33m\u001b[0m\u001b[0m\n\u001b[0;32m     18\u001b[0m     \u001b[1;31m# 개별 단어별 synset과 다른 단어의 `synset`과의 유사도를 `DataFrame` 형태로 저장\u001b[0m\u001b[1;33m\u001b[0m\u001b[1;33m\u001b[0m\u001b[1;33m\u001b[0m\u001b[0m\n\u001b[1;32m---> 19\u001b[1;33m     \u001b[0msimilarity_df\u001b[0m \u001b[1;33m=\u001b[0m \u001b[0mpd\u001b[0m\u001b[1;33m.\u001b[0m\u001b[0mDataFrame\u001b[0m\u001b[1;33m(\u001b[0m\u001b[0msimilarities\u001b[0m\u001b[1;33m,\u001b[0m \u001b[0mcolumns\u001b[0m \u001b[1;33m=\u001b[0m \u001b[0mentity_names\u001b[0m\u001b[1;33m,\u001b[0m \u001b[0mindex\u001b[0m \u001b[1;33m=\u001b[0m \u001b[0mentity_names\u001b[0m\u001b[1;33m)\u001b[0m\u001b[1;33m\u001b[0m\u001b[1;33m\u001b[0m\u001b[0m\n\u001b[0m\u001b[0;32m     20\u001b[0m     \u001b[0msimilarity_df\u001b[0m\u001b[1;33m\u001b[0m\u001b[1;33m\u001b[0m\u001b[0m\n\u001b[0;32m     21\u001b[0m \u001b[1;32mfor\u001b[0m \u001b[0mentity\u001b[0m \u001b[1;32min\u001b[0m \u001b[0mentities\u001b[0m\u001b[1;33m:\u001b[0m\u001b[1;33m\u001b[0m\u001b[1;33m\u001b[0m\u001b[0m\n",
      "\u001b[1;31mNameError\u001b[0m: name 'pd' is not defined"
     ]
    }
   ],
   "source": [
    "plant = wn.synset('plant.n.01')\n",
    "rabbit = wn.synset('rabbit.n.01')\n",
    "lion = wn.synset('lion.n.01')\n",
    "horse = wn.synset('horse.n.01')\n",
    "dog = wn.synset('dog.n.01')\n",
    "\n",
    "entities = [plant, rabbit, lion, horse, dog]\n",
    "similarities = []\n",
    "entity_names = [entity.name().split('.')[0] for entity in entities]\n",
    "\n",
    "# 단어별 synset을 반복하면서 다른 단어의 `synset`과 유사도를 측정함\n",
    "# pah_similarity를 이용해서 단어간의 상호 유사도를 볼수 있쥬단어별 synset을 반복하면서 다른 단어의 `synset`과 유사도를 측정함\n",
    "# pah_similarity를 이용해서 단어간의 상호 유사도를 볼수 있쥬\n",
    "for entity in entities:\n",
    "    similarity = [round(entity.path_similarity(compared_entity), 2) for compared_entity in entities]\n",
    "    similarities.append(similarity)\n",
    "\n",
    "    # 개별 단어별 synset과 다른 단어의 `synset`과의 유사도를 `DataFrame` 형태로 저장\n",
    "    similarity_df = pd.DataFrame(similarities, columns = entity_names, index = entity_names)\n",
    "    similarity_df\n",
    "for entity in entities:\n",
    "    similarity = [round(entity.path_similarity(compared_entity), 2) for compared_entity in entities]\n",
    "    similarities.append(similarity)\n",
    "\n",
    "# 개별 단어별 synset과 다른 단어의 `synset`과의 유사도를 `DataFrame` 형태로 저장\n",
    "similarity_df = pd.DataFrame(similarities, columns = entity_names, index = entity_names)\n",
    "similarity_df"
   ]
  },
  {
   "cell_type": "code",
   "execution_count": null,
   "metadata": {},
   "outputs": [],
   "source": [
    "import nltk\n",
    "\n",
    "from nltk.corpus import sentiwordnet as swn\n",
    "\n",
    "father = swn.senti_synset('father.n.01')\n",
    "print('father 긍정감성 지수: ', father.pos_score())\n",
    "print('father 부정감성 지수: ', father.neg_score())\n",
    "print('father 객관성 지수: ', father.obj_score())\n",
    "print('\\n')\n",
    "fabulous = swn.senti_synset('fabulous.a.01')\n",
    "print('fabulous 긍정감성 지수: ', fabulous.pos_score())\n",
    "print('fabulous 부정감성 지수: ', fabulous.neg_score())\n",
    "print('fabulous 객관성 지수: ', fabulous.obj_score())"
   ]
  },
  {
   "cell_type": "code",
   "execution_count": null,
   "metadata": {},
   "outputs": [],
   "source": [
    "from nltk.corpus import wordnet as wn\n",
    "\n",
    "# 간단한 NLTK PennTreebank Tag를 기반으로 WordNet 기반의 품사 Tag로 변환\n",
    "def penn_to_wn(tag):\n",
    "  if tag.startswith('J'):\n",
    "    return wn.ADJ\n",
    "  elif tag.startswith('N'):\n",
    "    return wn.NOUN\n",
    "  elif tag.startswith('R'):\n",
    "    return wn.ADV\n",
    "  elif tag.startswith('V'):\n",
    "    return wn.VERB"
   ]
  },
  {
   "cell_type": "code",
   "execution_count": null,
   "metadata": {},
   "outputs": [],
   "source": [
    "from nltk.stem import WordNetLemmatizer\n",
    "from nltk.corpus import sentiwordnet as swn\n",
    "from nltk import sent_tokenize, word_tokenize, pos_tag\n",
    "\n",
    "def swn_polarity(text):\n",
    "    # 감성 지수 초기화 \n",
    "    sentiment = 0.0\n",
    "    tokens_count = 0\n",
    "    \n",
    "    lemmatizer = WordNetLemmatizer()\n",
    "    raw_sentences = sent_tokenize(text)\n",
    "    # 분해된 문장별로 단어 토큰 -> 품사 태깅 후에 SentiSynset 생성 -> 감성 지수 합산 \n",
    "    for raw_sentence in raw_sentences:\n",
    "        # NTLK 기반의 품사 태깅 문장 추출  \n",
    "        tagged_sentence = pos_tag(word_tokenize(raw_sentence))\n",
    "        for word , tag in tagged_sentence:\n",
    "            \n",
    "            # WordNet 기반 품사 태깅과 어근 추출\n",
    "            wn_tag = penn_to_wn(tag)\n",
    "            if wn_tag not in (wn.NOUN , wn.ADJ, wn.ADV):\n",
    "                continue                   \n",
    "            lemma = lemmatizer.lemmatize(word, pos=wn_tag)\n",
    "            if not lemma:\n",
    "                continue\n",
    "            # 어근을 추출한 단어와 WordNet 기반 품사 태깅을 입력해 Synset 객체를 생성. \n",
    "            synsets = wn.synsets(lemma , pos=wn_tag)\n",
    "            if not synsets:\n",
    "                continue\n",
    "            # sentiwordnet의 감성 단어 분석으로 감성 synset 추출\n",
    "            # 모든 단어에 대해 긍정 감성 지수는 +로 부정 감성 지수는 -로 합산해 감성 지수 계산. \n",
    "            synset = synsets[0]\n",
    "            swn_synset = swn.senti_synset(synset.name())\n",
    "            sentiment += (swn_synset.pos_score() - swn_synset.neg_score())           \n",
    "            tokens_count += 1\n",
    "    \n",
    "    if not tokens_count:\n",
    "        return 0\n",
    "    \n",
    "    # 총 score가 0 이상일 경우 긍정(Positive) 1, 그렇지 않을 경우 부정(Negative) 0 반환\n",
    "    if sentiment >= 0 :\n",
    "        return 1\n",
    "    \n",
    "    return 0"
   ]
  },
  {
   "cell_type": "code",
   "execution_count": null,
   "metadata": {},
   "outputs": [],
   "source": [
    "start = time.time()\n",
    "\n",
    "review_df['preds'] = review_df['review'].apply(lambda x: swn_polarity(x))\n",
    "y_target = review_df['sentiment'].values\n",
    "preds = review_df['preds'].values\n",
    "\n",
    "bench_mark(start)"
   ]
  },
  {
   "cell_type": "code",
   "execution_count": null,
   "metadata": {},
   "outputs": [],
   "source": [
    "from sklearn.metrics import accuracy_score, confusion_matrix, precision_score\n",
    "from sklearn.metrics import recall_score, f1_score, roc_auc_score\n",
    "import numpy as np\n",
    "\n",
    "print(confusion_matrix(y_target, preds))\n",
    "print(\"정확도:\", np.round(accuracy_score(y_target, preds), 4))\n",
    "print(\"정밀도:\", np.round(precision_score(y_target, preds), 4))\n",
    "print(\"재현율:\", np.round(recall_score(y_target, preds), 4))"
   ]
  }
 ]
}