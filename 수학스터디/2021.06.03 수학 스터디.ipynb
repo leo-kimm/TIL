{
 "cells": [
  {
   "cell_type": "markdown",
   "metadata": {},
   "source": [
    "## 지난시간 복습  \n",
    "연립방정식의 해가 하나만 존재한다  \n",
    "&hArr; 계수행렬의 각 열벡터가 선형독립이다  \n",
    "&hArr; 계수행렬의 각 열벡터로 Span하면 그 공간의 차원은 열벡터의 개수와 같다   \n",
    "&hArr; 계수행렬의 역행렬이 존재한다  \n",
    "&hArr; 계수행렬의 행렬식이 0이 아니다  "
   ]
  },
  {
   "cell_type": "markdown",
   "metadata": {},
   "source": [
    "# Chapter 4. Vector Spaces\n",
    "# (벡터공간)"
   ]
  },
  {
   "cell_type": "markdown",
   "metadata": {},
   "source": [
    "## 4.1 Vector Spaces and Subspaces\n",
    "## (벡터공간과 부분공간)  \n",
    "**벡터공간(Vector Space)**이란 다음을 만족하는 비지 않은 집합을 의미한다.\n",
    "1. 벡터 간 합과 스칼라곱이 잘 정의됨\n",
    "2. 벡터 간 합의 교환법칙과 결합법칙이 성립\n",
    "3. 벡터에 대한 합의 항등원(0)과 역원(더했을때 0이 되는 벡터)이 V에 존재\n",
    "4. 벡터와 스칼라곱의 교환법칙과 결합법칙이 성립\n",
    "5. 벡터와 스칼라곱에 대한 항등원(1)이 존재\n",
    "6. 벡터와 스칼라곱에 대한 분배법칙이 성립  \n",
    "  \n",
    "실제로는 조건 몇몇을 여러개 묶어서 표현하긴 했지만, 어쨌든 이상의 조건들을 모두 만족하는 집합은 모두 벡터공간이고, 그 원소들을 **벡터(Vector)**라고 부른다.  \n",
    "지금까지는 열이 1개인 행렬을 열벡터라고 부르고 그 형태 위주로 설명했지만, 실제로는 위의 조건을 만족하는 집합이 있다면 **그 집합의 원소들은 생김새와는 상관없이 모두 벡터가 될 수 있는 것이다.**  \n",
    "지금까지 알고 있었던 벡터의 정의(크기와 방향이 정해진 물리량)와 $\\vec{v}$ 표기를 수학에서 잘 쓰지 않는 이유는 위처럼 훨씬 일반화된 정의가 있고, 크기와 방향을 정의하기 난감한 경우가 있기 때문이다.  \n",
    "예를 들어 벡터가 행과 열이 2개 이상인 행렬 형태일 때, 화살표 표기를 쓰면 그 크기와 방향을 도대체 어떻게 나타낼 것이란 말인가?\n",
    "<br/><br/>\n",
    "벡터공간 V의 **부분공간(Subspace)**은 다음을 만족하는 V의 부분집합이다.\n",
    "1. 영벡터가 존재  \n",
    "2. 벡터 간 합과 스칼라곱이 잘 정의됨  \n",
    "  \n",
    "벡터공간의 가장 대표적인 예는 n차 실수공간 $\\mathbb{R}^n$이 있다. 또한 벡터공간 V의 원소인 벡터 $v_1,v_2,...v_p$가 있을 때 앞에서 설명했던 $Span\\{v_1,v_2,...v_p\\}$ 또한 V의 부분공간이다."
   ]
  },
  {
   "cell_type": "markdown",
   "metadata": {},
   "source": [
    "## 4.2 Null Spaces, Column Spaces, and Linear Transformations\n",
    "## (영공간, 열공간, 선형변환)  \n",
    "**영공간(Null space)** 또는 **커널(Kernel)**은 계수행렬과 곱해서 0으로 만드는 해벡터들의 집합이다. 즉 임의의 $m \\times n$ 행렬 A와 n차원 벡터 x가 주어졌을 때, $Ax=0$를 만족하는 모든 x의 집합이 바로 영공간이다.  \n",
    "당연히 영벡터도 영공간에 속하고, Au=0, Av=0을 만드는 벡터 u,v와 임의의 스칼라 c가 있을 때, u+v도 영공간에 속하고 cu도 영공간에 속한다. 따라서 영공간은 부분공간의 성질을 만족한다.\n",
    "<br/><br/>\n",
    "**열공간(Column space)**은 계수행렬의 열벡터의 선형결합으로 이루어진 집합을 의미한다. 계수행렬의 열벡터들로 생성한 Span이 바로 열공간인 것이다. 변수에 따라 영벡터도, 열벡터 간 합도, 스칼라곱도 얼마든지 표현할 수 있으므로 열공간도 부분공간의 성질을 만족한다.     \n",
    "연립방정식을 열벡터와 각각에 대응하는 변수들의 선형방정식으로 나타낼 수 있음을 알고 있다. 만약 Ax=b에 해당하는 x가 존재한다면, b 또한 존재할 것이고, b는 열벡터에 대한 선형결합 형태가 된다. 반대로 b가 열벡터에 대한 선형결합 형태라면 그에 맞는 x도 찾을 수 있다. 따라서 **b가 열공간에 존재해야 x를 구할 수 있다.**  \n",
    "헷갈릴 수 있는데, $m \\times n$ 행렬 A의 영공간은 $\\mathbb{R}^n$의 부분공간, 열공간은 $\\mathbb{R}^m$의 부분공간이다."
   ]
  },
  {
   "cell_type": "markdown",
   "metadata": {},
   "source": [
    "**선형변환(Linear transformation)**은 두 벡터공간 사이에 정의된 벡터 간 함수다. 선형변환을 쉽게 말하자면 다른 나라로 여행을 갈 때 그 나라의 언어, 문화, 예절을 배우고 써먹는 것이라 생각하면 된다. 벡터공간 V에서 W로 가는 선형변환 $T:V \\rightarrow W$는 다음을 만족함으로서 정의된다.\n",
    "1. V의 임의의 벡터 u,v에 대해 $T(u+v)=T(u)+T(v)$\n",
    "2. V의 임의의 벡터 u와 모든 스칼라 c에 대해 $T(cu)=cT(u)$  \n",
    "  \n",
    "영벡터를 선형변환시키면 반드시 영벡터가 나온다. 위의 정의만으로 증명을 할 수 있으며 크게 어렵지 않다. 따라서 선형변환이 만드는 공간은 부분공간의 성질을 만족한다.\n",
    "<br/><br/>\n",
    "선형변환이 있을때, 모든 n차원 벡터 x에 대해 $T(x)=Ax$를 만족시키는 행렬 $A=[T(e_1),T(e_2), ... ,T(e_n)]$가 유일하게 존재한다. 이 A를 **선형변환 T에 대한 표준행렬(Standard matrix for the linear transformation T)**이라 하며, 이 때 각 $e_k$는 단위행렬 $I_m$에 대한 k번째 열벡터이다. 자주 쓰이는 표기이니 참고하도록 하자."
   ]
  },
  {
   "cell_type": "markdown",
   "metadata": {},
   "source": [
    "### Example 1. 다음 선형변환에 대한 표준행렬 A를 구해보자.  \n",
    "1. $T(e_1)=\\begin{bmatrix} 3 \\\\ 1 \\\\ 3 \\\\ 1 \\end{bmatrix}, T(e_2)=\\begin{bmatrix} -5 \\\\ 2 \\\\ 0 \\\\ 0 \\end{bmatrix}$인 $T:\\mathbb{R}^2 \\rightarrow \\mathbb{R}^4$  \n",
    "<br/><br/>\n",
    "2. $T(e_1)=\\begin{bmatrix} 1 \\\\ 3 \\end{bmatrix}, T(e_2)=\\begin{bmatrix} 4 \\\\ -7 \\end{bmatrix}, T(e_3)=\\begin{bmatrix} 5 \\\\ 4 \\end{bmatrix}$인 $T:\\mathbb{R}^3 \\rightarrow \\mathbb{R}^3$  \n",
    "<br/><br/>\n",
    "3. $T(\\begin{bmatrix} x_1 \\\\ x_2 \\end{bmatrix})=\\begin{bmatrix} 2x_2-3x_1 \\\\ x_1-4x_2 \\\\ 0 \\\\ x_2 \\end{bmatrix}$인 $T:\\mathbb{R}^2 \\rightarrow \\mathbb{R}^4$"
   ]
  },
  {
   "cell_type": "markdown",
   "metadata": {},
   "source": [
    "선형변환은 크게 세가지로 나눌 수 있는데, V의 모든 원소가 W의 원소와 하나씩 대응되는 경우를 **일대일(One-to-one)**, W의 원소에 대해 V와 대응되는 경우가 단 하나라도 존재할 경우를 **대응(Onto)**, 일대일과 대응의 성질을 모두 갖는 경우를 **일대일 대응(One-to-one correspondence)**이라고 한다.  \n",
    "선형변환 T와 임의의 벡터 x가 주어졌을 때 선형방정식 T(x)=0의 해가 오로지 영벡터 하나일 때 T는 일대일이며, 역도 성립한다.  \n",
    "또한 T의 표준행렬 A의 열벡터들이 생성한 공간이 열벡터 개수를 차수로 갖는 공간을 형성한다면 T는 대응이며, 역도 성립한다."
   ]
  },
  {
   "cell_type": "markdown",
   "metadata": {},
   "source": [
    "### Example 2. 다음 선형변환이 일대일인지 대응인지 알아보자.  \n",
    "1. $T(e_1)=\\begin{bmatrix} 3 \\\\ 1 \\\\ 3 \\\\ 1 \\end{bmatrix}, T(e_2)=\\begin{bmatrix} -5 \\\\ 2 \\\\ 0 \\\\ 0 \\end{bmatrix}$인 $T:\\mathbb{R}^2 \\rightarrow \\mathbb{R}^4$  \n",
    "<br/><br/>\n",
    "2. $T(e_1)=\\begin{bmatrix} 1 \\\\ 3 \\end{bmatrix}, T(e_2)=\\begin{bmatrix} 4 \\\\ -7 \\end{bmatrix}, T(e_3)=\\begin{bmatrix} 5 \\\\ 4 \\end{bmatrix}$인 $T:\\mathbb{R}^3 \\rightarrow \\mathbb{R}^2$  \n",
    "<br/><br/>\n",
    "3. $T(\\begin{bmatrix} x_1 \\\\ x_2\\\\x_3 \\end{bmatrix})=\\begin{bmatrix} 3x_1-2x_3 \\\\ 4x_1 \\\\ x_1-x_2+x_3\\end{bmatrix}$인 $T:\\mathbb{R}^3 \\rightarrow \\mathbb{R}^3$"
   ]
  },
  {
   "cell_type": "code",
   "execution_count": null,
   "metadata": {},
   "outputs": [],
   "source": [
    "import numpy as np"
   ]
  },
  {
   "cell_type": "code",
   "execution_count": null,
   "metadata": {},
   "outputs": [],
   "source": [
    "A=np.array([[3,-5],[1,2],[3,0],[1,0]])\n",
    "x=np.array([0.0])\n",
    "np.linalg.solve(A,x)"
   ]
  },
  {
   "cell_type": "markdown",
   "metadata": {},
   "source": [
    "## 4.3 Linearly Independent Sets; Bases\n",
    "## (선형독립집합과 기저)  \n",
    "벡터공간 V의 부분공간 H가 있다고 하자. 다음의 두가지 조건을 만족하는 V의 벡터들의 집합 $B=\\{b_1,b_2,... ,b_p\\}$을 H의 **기저(Basis)**라고 한다.  \n",
    "1. $B$의 원소들끼리는 선형독립\n",
    "2. $H=Span\\{b_1,b_2,... ,b_p\\}$  \n",
    "  \n",
    "쉬운 예로, $\\mathbb{R}^3$ 공간을 만드는 기저는 $\\begin{bmatrix} 1 \\\\ 0 \\\\ 0 \\end{bmatrix},\\begin{bmatrix} 0 \\\\ 1 \\\\ 0 \\end{bmatrix},\\begin{bmatrix} 0 \\\\ 0 \\\\ 1 \\end{bmatrix}$로 잘 알려져 있다. 이렇게 하나의 성분이 1이고 나머지 성분이 0인 벡터들이 기저라면 특별히 **표준기저(Standard basis)**라고 하며, 굳이 표준기저 외에도 각 벡터들이 선형독립이면 마찬가지로 그 벡터들은 벡터들이 만드는 부분공간의 기저가 된다.\n",
    "<br/><br/>\n",
    "만일 각 벡터들이 선형독립이 아니라면, 다른 벡터들의 선형결합으로 만들수 있는 벡터를 지워야 한다. 이 과정을 반복해서 남은 나머지 벡터들이 선형독립이라면, 이제 그 벡터들이 부분공간의 기저가 되며, 이를 **생성집합 정리(Spanning set theorem)**이라고 한다.  \n",
    "열공간을 이루는 열벡터를 찾는 건 너무 쉬우므로 기저를 찾기 위해 생성집합 정리를 그대로 이용하면 그대로 열공간의 기저를 구할 수 있다.  \n",
    "영공간의 기저를 구하려면 그저 연립방정식을 풀면 된다. 만일 연립방정식의 계수행렬에 대해 열벡터가 선형독립을 이룬다면, 영공간은 {0}이 되고 기저는 영벡터 단 하나뿐이다. 하지만 선형독립이 아니라면 어떻게 해야 할까?"
   ]
  },
  {
   "cell_type": "markdown",
   "metadata": {},
   "source": [
    "### Example 3. 다음 행렬의 영공간을 구하고, 기저를 찾아보자.\n",
    "$\\begin{bmatrix} 1&0&-5 \\\\ 0&1&1\\end{bmatrix}$  "
   ]
  },
  {
   "cell_type": "markdown",
   "metadata": {},
   "source": [
    "## 4.4 Coordinate Systems\n",
    "## (좌표계)  \n",
    "벡터공간에는 기본적으로 기저가 존재한다. 그 벡터공간의 임의의 벡터에 대해, 기저에 대한 선형결합으로 나타낼 수 있는데, 이 선형결합 형태는 유일하다. 이것을 **유일표현 정리(Unique representation theorem)**라고 한다.  \n",
    "또한 벡터공간에는 기저의 종류가 하나만 있지 않다. 앞서 말했듯 기저의 정의만 만족하면 상황에 따라 언제든지 다른 형태의 기저를 만들 수 있다. 벡터공간 V의 기저 $\\mathcal{B}=\\{b_1, b_2, \\cdots , b_n\\}$로 같은 공간의 벡터 x를 $x=c_1b_1+c_2b_2+\\cdots +c_nb_n$처럼 선형결합 형태로 나타냈을 때, 각 벡터의 계수 $c_1, c_2,\\cdots ,c_n$만 따로 모은 벡터 $\\begin{bmatrix} c_1\\\\c_2\\\\ \\vdots \\\\ c_n\\end{bmatrix}$를 **기저 $\\mathcal{B}$에 대한 좌표벡터(Coordinate vector relative to basis $\\mathcal{B}$)**라고 한다. 우리가 지금까지 가로세로 반듯한 좌표평면에서 특정 벡터에 대한 위치를 표시한 것은, 표준기저를 바탕으로 한 좌표벡터의 위치를 찍은 것이다. 만약 기저가 다르다면 좌표평면도 그에 맞춰 축의 기울기가 달라지며, 같은 벡터라 해도 점의 위치가 완전히 달라진다."
   ]
  },
  {
   "cell_type": "markdown",
   "metadata": {},
   "source": [
    "### Example 4. 표준기저에서 주어진 벡터를 새로운 기저에 대한 선형변환으로 나타내고 좌표벡터를 구해보자.\n",
    "$x=\\begin{bmatrix} 4\\\\5\\end{bmatrix}, \\mathcal{B}=\\{\\begin{bmatrix} 2\\\\1\\end{bmatrix}, \\begin{bmatrix} -1\\\\1\\end{bmatrix}\\}$"
   ]
  },
  {
   "cell_type": "code",
   "execution_count": null,
   "metadata": {},
   "outputs": [],
   "source": [
    "A = np.array([[2,-1],[1,1]])\n",
    "x = np.array([4,5])\n",
    "np.linalg.solve(A, x)"
   ]
  },
  {
   "cell_type": "markdown",
   "metadata": {},
   "source": [
    "방법은 일반적인 연립방정식 풀때와 똑같다. 다만 지금까지 Ax=b라는 형태에서 x를 구했다면,  \n",
    "여기서는 A가 $\\mathcal{B}$의 기저행렬, x가 x의 $\\mathcal{B}$에 대한 좌표벡터, b가 x로 바뀌었다는 것뿐이다.\n",
    "<br/><br/>\n",
    "이처럼 차원이 같은 벡터공간의 특정 기저에 대한 좌표를 나타내고자 기저들을 모아 하나의 형태로 합친 행렬을 **좌표변환행렬(Change-of-coordinate matrix)**이라고 하며, 표준기저 위의 벡터를 기저 $\\mathcal{B}$ 위의 벡터로 표현하려 한다면 좌표변환행렬을 $P_\\mathcal{B}$라고 표기하면 된다.  \n",
    "위 예제의 경우에는 $P_\\mathcal{B}=\\begin{bmatrix} 2&-1\\\\1&1\\end{bmatrix}$이라 할 수 있다.  \n",
    "실생활을 예시로 들면 다른 나라로 여행갈 때 그 나라의 공용 문자를 써서 이름을 표기하는 것이다.  \n",
    "<br/><br/>\n",
    "벡터공간의 기저들은 선형독립이므로 좌표변환행렬은 역행렬이 존재하며, 특정 벡터에 좌표변환행렬의 역행렬을 곱하면 처음 벡터공간의 좌표벡터로 표현이 된다.  \n",
    "위 예제의 답으로 출력된 $\\begin{bmatrix} 3\\\\2\\end{bmatrix}$를 좌표변환행렬의 역행렬 $P_\\mathcal{B}^{-1}$과 곱하면 다시 표준기저에 대한 좌표벡터 형태로 나오게 된다.  "
   ]
  },
  {
   "cell_type": "markdown",
   "metadata": {},
   "source": [
    "지금까지 이런 형태의 벡터공간만 다뤄서 까먹을 수 있지만, 벡터공간은 정의만 잘 되면 실수로도, 행렬로도, 함수로도, 심지어는 벡터공간 자체를 벡터로 나타낼 수 있다. 그리고 벡터의 형태가 어떻든 두 벡터공간의 기저가 제대로 정의됐고 차원이 동일하다면 마찬가지로 좌표벡터를 바꾸는 선형변환을 만들 수 있다.\n",
    "<br/><br/>\n",
    "(벡터의 형태가 어떻던 간에) 차원이 동일한 두 벡터공간에 대한 일대일 선형사상이 존재하면, 그 선형사상은 일대일 대응사상이 되며, 이 경우 V와 W는 **동형(Isomorphic)**이라고 한다. 그리고 동형인 두 벡터공간에 대한 사상을 **동형사상(Isomorphism)**이라고 한다.  "
   ]
  },
  {
   "cell_type": "markdown",
   "metadata": {},
   "source": [
    "### Example 5. 다항공간 $\\mathbb{P}^3$과 실수공간 $\\mathbb{R}^4$  이 동형인지 파악해보자.  \n",
    "다항공간 $\\mathbb{P}^3$ : t에 대한 임의의 다항함수 $p(t)=a_0+a_1t+a_2t^2+a_3t^3$를 원소로 갖는 공간  \n",
    "실수공간 $\\mathbb{R}^4$ : 각 성분이 실수인 4차원 벡터를 원소로 갖는 공간  \n",
    "힌트 : $T(a_0,a_1,a_2,a_3)=\\begin{bmatrix} a_0\\\\a_1\\\\a_2\\\\a_3\\end{bmatrix}$인 함수 $T:\\mathbb{P}^3 \\rightarrow \\mathbb{R}^4$를 정의해보자.  "
   ]
  },
  {
   "cell_type": "markdown",
   "metadata": {},
   "source": [
    "동형사상은 매우 중요한 개념인데, 기저가 잘 정의되어있고 차원의 수가 같다면 **선형변환을 통해 한 벡터공간에서 성립되는 온갖 연산, 정리, 성질들을 다른 벡터공간에서 똑같이 적용할 수 있기 때문이다.** 서든어택이나 카운터 스트라이크같은 FPS 게임을 오래 하던 사람이 베그같은 다른 FPS로 같아탄다 해도 금방 적응하는 것을 떠올리면 쉽다."
   ]
  },
  {
   "cell_type": "markdown",
   "metadata": {},
   "source": [
    "## 4.5 The Dimension of A Vector Space\n",
    "## (벡터공간의 차원)  \n",
    "벡터공간의 **차원(Dimension)**은 그 공간을 이루는 기저의 개수이다. 그 기저의 개수가 유한하다면 **유한차원 공간(Finite-dimensional space)**이 되고, 기저의 개수가 무한하다면 **무한차원 공간(Ininite-dimensional space)**이 된다. 부분공간의 차원은 당연히 그 부분공간을 포함하는 벡터공간의 차원보다 작거나 같다.\n",
    "<br/><br/>\n",
    "또한 p차원 벡터공간 V에 대해 p개의 벡터가 선형독립을 이룬다면 그 p개의 벡터들은 자동으로 V의 기저가 되며, 그 p개의 벡터들로 생성된 공간이 바로 V가 된다는 것이 바로 **기저 정리(Basis theorem)**이다.  \n",
    "이 정리가 중요한 이유는 계수행렬의 열벡터로 만든 열공간의 기저를 찾는 것만으로 **그 연립방정식을 풀 수 있는지 없는지 여부를 알 수 있고**, 영공간의 기저를 찾는 것만으로 **그 연립방정식의 모든 해의 형태를 일반화할 수 있기 때문이다.**"
   ]
  },
  {
   "cell_type": "markdown",
   "metadata": {},
   "source": [
    "## 4.6 Rank\n",
    "## (랭크)\n",
    "**랭크(Rank)**는 열공간의 차원을 의미한다. $m \\times n$ 행렬 A에 대해 랭크 개념과 차원 개념을 이용해 $rankA+dimNulA=n$이라는 식을 만들 수 있는데, 이것이 바로 **랭크 정리(Rank theorem)**이다.  \n",
    "말로 간단히 설명하면 **열공간의 차원($rankA$)과 영공간의 차원($dimNulA$)을 더하면 그게 행렬의 열의 개수(n)**라는 것이다.\n",
    "<br/><br/>\n",
    "우리는 이 정리를 이용해 영공간의 차원을 알기 위해 영공간을 직접 찾는 귀찮은 짓을 하는 대신 A의 랭크를 찾음으로서 영공간의 차원을 바로 알 수 있다."
   ]
  },
  {
   "cell_type": "markdown",
   "metadata": {},
   "source": [
    "지금까지 배운 내용을 바탕으로 연립방정식의 해가 하나만 존재하는 조건을 정리하면 다음과 같다.  \n",
    "<br/><br/>\n",
    "변수가 n개인 선형연립방정식의 해가 하나만 존재한다  \n",
    "&hArr; 계수행렬의 각 열벡터가 선형독립이다  \n",
    "&hArr; 계수행렬의 각 열벡터로 Span하면 그 공간의 차원은 열벡터의 개수와 같다 **(&hArr; 계수행렬의 랭크가 n이다 &hArr; 계수행렬의 열공간의 기저는 계수행렬의 모든 열벡터들이다 &hArr; 계수행렬의 열공간은 $\\mathbb{R}^n$이다)  \n",
    "&hArr; 계수행렬의 역행렬이 존재한다  \n",
    "&hArr; 계수행렬의 행렬식이 0이 아니다  \n",
    "&hArr; 계수행렬의 영공간의 차원이 0이다 (&hArr; 계수행렬의 영공간의 기저는 영벡터 하나뿐이다)**  \n"
   ]
  },
  {
   "cell_type": "markdown",
   "metadata": {},
   "source": [
    "# 5. Eigenvalues and Eigenvectors\n",
    "# (고유값과 고유벡터)"
   ]
  },
  {
   "cell_type": "markdown",
   "metadata": {},
   "source": [
    "## 5.1 Eigenvalues and Eigenvectors\n",
    "## (고유벡터와 고유값)\n",
    "어떤 행렬과 어떤 벡터를 곱했는데 신기하게도 그 결과가 곱한 벡터의 스칼라배로 나오는 경우가 있다.  \n",
    "  \n",
    "예를 들어 $A=\\begin{bmatrix} 3&-2\\\\1&0\\end{bmatrix}$, $v=\\begin{bmatrix} 2\\\\1\\end{bmatrix}$로 주어졌을 때, 둘을 곱한 $Av$는 $\\begin{bmatrix} 3&-2\\\\1&0\\end{bmatrix}\\begin{bmatrix} 2\\\\1\\end{bmatrix}=\\begin{bmatrix} 4\\\\2\\end{bmatrix}$가 되는데, 이 값은 v에 2를 곱한 결과와 같다.  \n",
    "  \n",
    "이렇게 행렬 A와 벡터 x에 대해 Ax가 x의 스칼라배 형태로 나오는 경우, 그 벡터를 **고유벡터(Eigenvector)**라 하며, 해당 스칼라를 **고유값(Eigenvalue)**라고 한다. 고유값은 각 고유벡터와 대응하며, 보통 람다($\\lambda$, lambda)로 표기한다.  \n",
    "이때 A는 기본적으로 정사각행렬이다. 만일 정사각행렬이 아니면 처음 벡터와 행렬을 곱하고 나온 벡터 간 성분의 개수가 다르므로 고유벡터와 고유값의 정의 자체가 불가능하기 때문이다.  \n",
    "만약 어떤 행렬에 대해 고유벡터와 이에 해당하는 고유값이 존재한다면, 귀찮게 행렬을 일일이 계산할 필요없이 고유값의 몇 배에 해당하는 값만 곱하면 그만이므로 계산이 상당히 편해진다."
   ]
  },
  {
   "cell_type": "markdown",
   "metadata": {},
   "source": [
    "### Example 1. 고유벡터 판정하기\n",
    "다음 행렬들의 고유값과 고유벡터를 확인해보자.  \n",
    "  \n",
    "1. $A=\\begin{bmatrix} 1&6\\\\5&2\\end{bmatrix}$  \n",
    "<br/><br/>\n",
    "2. $B=\\begin{bmatrix} 4&-1&6\\\\2&1&6\\\\2&-1&8\\end{bmatrix}$"
   ]
  },
  {
   "cell_type": "code",
   "execution_count": null,
   "metadata": {},
   "outputs": [],
   "source": [
    "A = np.array([[1,6],[5,2]])\n",
    "lam, lamvec = np.linalg.eig(A) # np.linalg.eig(A) : A의 고유값과 이에 대한 고유벡터 출력\n",
    "print(lam)\n",
    "print()\n",
    "print(lamvec)"
   ]
  },
  {
   "cell_type": "code",
   "execution_count": null,
   "metadata": {},
   "outputs": [],
   "source": [
    "A = np.array([[1,6],[5,2]])\n",
    "lam, lamvec = np.linalg.eig(A) # np.linalg.eig(A) : A의 고유값과 이에 대한 고유벡터 출력\n",
    "print(lamvec[:, 0]) # lam = -4일 때의 고유벡터 출력\n",
    "print()\n",
    "print(lamvec[:, 1]) # lam = 7일 때의 고유벡터 출력"
   ]
  },
  {
   "cell_type": "markdown",
   "metadata": {},
   "source": [
    "람다의 개수에 맞게 인덱스가 0부터 순서대로 부여되어 있으니 원하는 고유값의 인덱스를 위의 코드처럼 넣고 고유벡터를 확인하면 된다.\n",
    "이제 B의 고유값과 고유벡터도 확인해보자."
   ]
  },
  {
   "cell_type": "code",
   "execution_count": null,
   "metadata": {},
   "outputs": [],
   "source": [
    "B = np.array([[4,-1,6],[2,1,6],[2,-1,8]])\n",
    "lam, lamvec = np.linalg.eig(B)\n",
    "print(lam)\n",
    "print()\n",
    "print(lamvec)"
   ]
  },
  {
   "cell_type": "code",
   "execution_count": null,
   "metadata": {},
   "outputs": [],
   "source": [
    "print(lamvec[:, 0])\n",
    "print()\n",
    "print(lamvec[:, 1])\n",
    "print()\n",
    "print(lamvec[:, 2])"
   ]
  },
  {
   "cell_type": "markdown",
   "metadata": {},
   "source": [
    "행렬 B의 고유값 $\\lambda$에 대응하는 고유벡터가 이루는 공간을 **$\\lambda$에 대응하는 B의 고유공간(Eigenspace of B corresponding $\\lambda$)**라고 한다.  \n",
    "고유공간을 구할 때 $Ax=\\lambda x$에 벡터 하나하나를 일일이 대입하면서 직접 계산하는 것은 심각한 노가다를 요구할 뿐더러 행렬의 크기가 커지면 이 방식으로 구하는 것은 불가능에 가깝다. 때문에 이보다는 $Ax=\\lambda x$ &hArr; $(A-\\lambda I)x=0$임을 이용해 계산하는 것이 훨씬 낫다. \n",
    "<br/><br/>\n",
    "만일 **행렬의 고유값 개수가 딱 그 행렬의 행(열) 개수와 같다면, 그 행렬의 열벡터들은 선형독립이다.** 증명은 선형독립이 아니라는 가정 하에 모순을 보이는 식(귀류법)으로 보일 수 있는데, 자세한 설명은 생략한다.  \n",
    "Example 1의 행렬 A는 고유값 개수와 행(열) 개수가 일치하므로 A의 열벡터들은 선형독립이며, 즉 역행렬이 존재한다."
   ]
  },
  {
   "cell_type": "markdown",
   "metadata": {},
   "source": [
    "## 5.2 Characteristic Equation\n",
    "## (특성방정식)  \n",
    "행렬 A에 대해 $\\lambda$라는 고유값과 그에 대응하는 x라는 고유벡터가 존재한다면, $(A-\\lambda I)x=0$라는 방정식은 0뿐만 아니라 그 고유벡터도 해가 될 수 있기 때문에 $A-\\lambda I$ 는 기본적으로 행렬식이 0이다. 이 개념을 이용해 임의의 고유값에 대한 다항방정식을 세울 수 있는데, 이 방정식을 **특성방정식(Characteristic equation)**이라 한다."
   ]
  },
  {
   "cell_type": "markdown",
   "metadata": {},
   "source": [
    "### Example 2. 다음 행렬의 특성방정식과 고유값을 구해보자.\n",
    "$A=\\begin{bmatrix} 3&-2\\\\1&0\\end{bmatrix}$"
   ]
  },
  {
   "cell_type": "markdown",
   "metadata": {},
   "source": [
    "같은 크기의 A, B에 대해 역행렬이 존재하는 어떤 행렬 P가 있어 $A=P^{-1}BP$ 형태로 나타낼 수 있다면, 두 행렬은 서로 **유사행렬(Similar matrix)**이라고 하며, 두 행렬의 특성을 **유사성(Similarity)**이라 한다. 두 행렬이 서로 유사하다면 두 행렬의 특성방정식은 똑같다. 하지만 역으로 특성방정식이 똑같은 두 행렬이 서로 유사하다는 보장은 없다."
   ]
  },
  {
   "cell_type": "markdown",
   "metadata": {},
   "source": [
    "## 5.3 Diagonalization\n",
    "## (대각화)  \n",
    "다음 예제를 먼저 풀어보자."
   ]
  },
  {
   "cell_type": "markdown",
   "metadata": {},
   "source": [
    "###  Example 3. 다음 행렬을 두번, 세번, 원하는 횟수만큼 거듭제곱해보자.  \n",
    "$D=\\begin{bmatrix} 5&0\\\\0&3\\end{bmatrix}$"
   ]
  },
  {
   "cell_type": "code",
   "execution_count": null,
   "metadata": {},
   "outputs": [],
   "source": [
    "D = np.array([[5,0],[0,3]])\n",
    "print(np.dot(D,D)) # D를 제곱\n",
    "print()\n",
    "D2 = np.dot(D,D)\n",
    "print(np.dot(D2,D)) # D를 세제곱\n",
    "print()\n",
    "\n",
    "n=int(input()) # 입력받은 수만큼 행렬을 거듭제곱해보자\n",
    "F = D\n",
    "for i in range(n):\n",
    "    F = np.dot(D,F)\n",
    "print(F) # D를 n번 거듭제곱한 행렬"
   ]
  },
  {
   "cell_type": "markdown",
   "metadata": {},
   "source": [
    "실행해보면 거듭제곱을 할때마다 대각선에 해당되는 성분(대각성분, Diagonal element)들이 각각 거듭제곱되는 것을 볼 수 있다.  \n",
    "대각성분을 제외하고 나머지 값이 0인 행렬을 **대각행렬(Diagonal matrix)**라 하며, 이들은 거듭제곱하면 대각성분만 거듭제곱이 되고 나머지는 그대로인 성질을 갖고 있다.\n",
    "<br/><br/>\n",
    "그렇다면 이것이 방금 전에 배운 유사성과 무슨 연관이 있을까?"
   ]
  },
  {
   "cell_type": "markdown",
   "metadata": {},
   "source": [
    "서로 유사한 A, D가 있다고 하자. 여기서 D는 대각행렬이다. 그러면 역행렬이 존재하는 어떤 행렬 P가 있어 $A=P^{-1}DP$ 형태로 나타낼 수 있고, 이를 k번 거듭제곱하면  \n",
    "$A^k = \\underbrace{(P^{-1}DP)(P^{-1}DP)\\cdots(P^{-1}DP)}_{k}=P^{-1}DPP^{-1}DP \\cdots P^{-1}DP=P^{-1}\\underbrace{DD \\cdots D}_{k}P=P^{-1} D^k P$  \n",
    "이 된다. 즉 A와 유사한 대각행렬이 존재한다면, A를 직접 거듭제곱하는 것보다 유사행렬을 거듭제곱하는 것이 훨씬 편리할 것이다. 이렇게 A의 유사행렬이 대각행렬이라면, A는 **대각화 가능 행렬(Diagonalizable matrix)**이라고 한다.  \n",
    "대각화 가능 행렬은 열벡터 개수만큼의 고유벡터를 가지며, 고유벡터들은 모두 선형독립이다. 역으로 어떤 행렬의 고유벡터들이 모두 선형독립이면 그 행렬은 대각화 가능 행렬이다. 이를 **대각화 정리(Diagonalization theorem)**라고 한다. 고유벡터가 모두 선형독립이므로 고유공간의 차원은 고유벡터(열벡터)의 개수가 된다."
   ]
  },
  {
   "cell_type": "markdown",
   "metadata": {},
   "source": [
    "대각화 행렬의 P와 대각행렬 D를 구하려면 먼저 A의 특성방정식을 세우고 고유값과 그에 대응하는 고유벡터들을 구한 다음 고유값의 개수가 A의 열벡터 개수와 같은지 확인해야 한다. 만일 개수가 서로 다르다면 그 행렬은 대각화가 불가능하다.  \n",
    "다행히 개수가 서로 똑같다면 그 고유벡터들을 한데 모아 이은 행렬이 P가 되며, 그 고유벡터에 대응하는 순서대로 대각성분에 고유값을 넣은 대각행렬이 D가 된다.  \n",
    "이 부분은 교재를 참고하길 바라며, 자세한 예시는 생략한다."
   ]
  },
  {
   "cell_type": "markdown",
   "metadata": {},
   "source": [
    "## 5.4 Eigenvectors and Linear Transformations\n",
    "## (고유벡터와 선형변환)  \n",
    "4.2에서 어떤 벡터공간의 벡터 x를 선형변환을 통해 다른 벡터공간에 알맞는 형태로 바꿀 수 있었다.  \n",
    "또한 4.4에서 어떤 x에 대해 좌표변환행렬을 곱해서 다른 벡터공간의 기저에 대한 좌표로 표현하고, 그 반대로 할 수 있는 것을 배웠다.\n",
    "<br/><br/>\n",
    "그렇다면 이 두 과정을 합쳐서, 어떤 벡터공간의 x를 다른 벡터공간의 선형변환을 한 뒤 그에 맞는 좌표벡터만 출력하게 하는 것이 가능할 것이다. 순서를 바꿔서 x가 있던 벡터공간에 대한 좌표벡터를 먼저 찾은 다음 선형변환을 해서 다른 벡터공간에서의 좌표가 나오게 하는 것도 가능하다.  \n",
    "후자의 경우 원래 벡터공간의 기저를 다른 벡터공간의 기저에 대한 선형변환으로 만들고, 이에 대한 좌표벡터를 구해서 하나로 합치면 **다른 벡터공간에서의 좌표벡터가 나오게 하는 선형변환**을 만들 수 있으며, 이걸 행렬로 표현할 수 있다. 이 행렬을 **기저변환행렬(Transition matrix)**이라고 한다.  "
   ]
  },
  {
   "cell_type": "markdown",
   "metadata": {},
   "source": [
    "### Example 4. 기저변환행렬을 만들어보자.\n",
    "두 벡터공간 V,W의 기저 $\\mathcal{B}=\\{b_1,b_2\\}$,$\\mathcal{C}=\\{c_1,c_2,c_3\\}$가 있고, V에서 W로 가는 선형변환 $T:V \\rightarrow W$가 있어 다음을 만족한다고 하자.  \n",
    "  \n",
    "$T(b_1)=3c_1-2c_2+5c_3$  \n",
    "  \n",
    "$T(b_2)=4c_1+7c_2-c_3$  \n",
    "  \n",
    "1. V의 기저 $b_1, b_2$의 $\\mathcal{C}$에 대한 좌표벡터를 구하라.\n",
    "2. 두 벡터를 하나의 행렬로 합쳐 기저변환행렬을 만들어라."
   ]
  },
  {
   "cell_type": "markdown",
   "metadata": {},
   "source": [
    "1. $\\left[ T(b_1) \\right]_{\\mathcal{C}}=\\begin{bmatrix} 3\\\\-2\\\\5\\end{bmatrix}$, $\\left[ T(b_2) \\right]_{\\mathcal{C}}=\\begin{bmatrix} 4\\\\7\\\\-1\\end{bmatrix}$  \n",
    "  \n",
    "2. $\\left[ T \\right]_{\\mathcal{B}}^{\\mathcal{C}}=\\begin{bmatrix} 3&4\\\\-2&7\\\\5&1\\end{bmatrix}$"
   ]
  },
  {
   "cell_type": "markdown",
   "metadata": {},
   "source": [
    "첩보영화에서 자신의 본래 신분을 숨기고 다른 사람으로 위장해서 그 나라에 입국하는 것을 생각해보자. 그 신분을 변경하는 시스템이 바로 기저변환행렬이다.\n",
    "<br/><br/>\n",
    "A와 D가 서로 유사한 행렬이어서 $A=PDP^{-1}$이고, T(x)에서 Ax로 가는 선형변환 $T:x \\rightarrow Ax$가 있다 하자. $\\mathcal{B}$가 P의 열벡터로 이루어진 기저라면 D는 같은 벡터공간에 대한 기저변환행렬이 되는데, 이것을 **대각행렬 표현(Diagonal matrix representation)**이라 한다."
   ]
  }
 ],
 "metadata": {
  "kernelspec": {
   "display_name": "Python 3",
   "language": "python",
   "name": "python3"
  },
  "language_info": {
   "codemirror_mode": {
    "name": "ipython",
    "version": 3
   },
   "file_extension": ".py",
   "mimetype": "text/x-python",
   "name": "python",
   "nbconvert_exporter": "python",
   "pygments_lexer": "ipython3",
   "version": "3.8.5"
  }
 },
 "nbformat": 4,
 "nbformat_minor": 4
}
