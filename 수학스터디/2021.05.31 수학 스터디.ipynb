{
 "cells": [
  {
   "cell_type": "markdown",
   "metadata": {},
   "source": [
    "# Chapter 1. Linear Equations in Linear Algebra\n",
    "# (선형대수의 선형방정식)"
   ]
  },
  {
   "cell_type": "markdown",
   "metadata": {},
   "source": [
    "## 1.1 Systems of Linear Equations\n",
    "## (선형연립방정식)\n",
    "\n",
    "변수 $x_1, x_2, ... ,x_n$이 있고 각 변수 앞에 곱해진 상수 $a_1, a_2, ... , a_n$(계수,coefficient)와 그의 합을 의미하는 상수 $b$가 있어 다음과 같은 식으로 나타낼 수 있으면, 그 방정식을 **선형방정식(Linear equation)**이라 한다. \n",
    "  \n",
    "$$a_1 x_1+a_2 x_2+...+a_n x_n=b$$\n",
    "  \n",
    "선형방정식이 여러 개 묶여있는 형태에서 최종적인 변수들의 값을 구해야 할 상황이면, 그 선형방정식의 묶음을 **선형연립방정식(System of linear equation)**이라 한다.  \n",
    "  \n",
    "\\begin{cases}\n",
    "a_1 x_1+a_2 x_2+...+a_n x_n=a_0 \\\\\n",
    "b_1 x_1+b_2 x_2+...+b_n x_n=b_0 \\\\\n",
    "c_1 x_1+c_2 x_2+...+c_n x_n=c_0 \\\\\n",
    "... \\\\\n",
    "z_1 x_1+z_2 x_2+...+z_n x_n=z_0\n",
    "\\end{cases}\n",
    "  \n",
    "**행렬(Matrix)**은 수나 식을 직사각형 틀 안에 가로와 세로에 맞춰 나열한 것으로, 여러 수나 식을 사용해 원하는 연산을 할 때 많이 사용된다.  \n",
    "  \n",
    "\\begin{bmatrix}\n",
    "a & b & c \\\\\n",
    "d & e & f \\\\\n",
    "g & h & i\n",
    "\\end{bmatrix}\n",
    "  \n",
    "가로줄의 개수를 **행(row)**, 세로줄의 개수를 **열(column)** 이라 부른다. 앞으로는 행과 열이라는 단어 위주로 사용하도록 한다. \n",
    "행의 개수를 m, 열의 개수를 n이라고 해서 $m \\times n$ 행렬이라고 부르기도 한다.\n",
    "  \n",
    "  \n",
    "위에서 설명한 선형연립방정식을 행렬로 나타내면 다음과 같다.\n",
    "  \n",
    "\\begin{bmatrix}\n",
    "a_1 & a_2 & \\cdots & a_n & a_0\\\\\n",
    "b_1 & b_2 & \\cdots & b_n & b_0\\\\\n",
    "c_1 & c_2 & \\cdots & c_n & c_0\\\\\n",
    "\\vdots &\\vdots &\\ddots &\\vdots &\\vdots & \\\\\n",
    "z_1 & z_2 & \\cdots & z_n & z_0\n",
    "\\end{bmatrix}\n",
    "  \n",
    "여기서 $x_1, x_2, ... ,x_n$은 벡터로 따로 표기하거나 쓰지 않는다.\n",
    "선형연립방정식을 풀기 위해서는 $a_0, b_0, ... ,z_0$을 제외한 나머지에 해당되는 부분을 0과 1로만 이루어진 깔끔한 사다리꼴 형태로 만들어야 한다.\n",
    "아래와 같은 형태를 **기약사다리꼴행렬(Row echelon form)**이라고 한다.\n",
    "  \n",
    "\\begin{bmatrix}\n",
    "1 & 0 & \\cdots & 0 & a \\\\\n",
    "0 & 1 & \\cdots & 0 & b \\\\\n",
    "0 & 0 & \\cdots & 0 & c \\\\\n",
    "\\vdots &\\vdots &\\ddots &\\vdots &\\vdots & \\\\\n",
    "0 & 0 & \\cdots & 1 & z\n",
    "\\end{bmatrix}\n",
    "  \n",
    "그러면 $x_1=k_1,x_2=k_2, ... ,x_n=k_n$ 형태가 되어 방정식은 풀리게 된다.\n",
    "이렇게 각 미지수의 답이 구해졌을 때, 이를 **방정식의 해**를 구한다고 한다.\n"
   ]
  },
  {
   "cell_type": "markdown",
   "metadata": {},
   "source": [
    "### Example 1. 손으로 직접 연립방정식을 풀어보자.\n",
    "\\begin{cases}\n",
    "x_1-2 x_2+ x_3=0 \\\\\n",
    "2 x_2-8 x_3=8 \\\\\n",
    "5 x_1-5 x_3=10 \\\\\n",
    "\\end{cases}\n",
    "  \n",
    "중학교 시절에 손으로 직접 계산했던 경험을 떠올려보자."
   ]
  },
  {
   "cell_type": "markdown",
   "metadata": {},
   "source": [
    "### Example 2. NumPy를 이용해 연립방정식을 풀어보자.\n",
    "\\begin{cases}\n",
    "x_1-2 x_2+ x_3=0 \\\\\n",
    "2 x_2-8 x_3=8 \\\\\n",
    "5 x_1-5 x_3=10 \\\\\n",
    "\\end{cases}"
   ]
  },
  {
   "cell_type": "code",
   "execution_count": 1,
   "metadata": {},
   "outputs": [],
   "source": [
    "import numpy as np"
   ]
  },
  {
   "cell_type": "code",
   "execution_count": 2,
   "metadata": {},
   "outputs": [
    {
     "data": {
      "text/plain": [
       "array([ 1.,  0., -1.])"
      ]
     },
     "execution_count": 2,
     "metadata": {},
     "output_type": "execute_result"
    }
   ],
   "source": [
    "A = np.array([[1,-2,1],[0,2,-8],[5,0,-5]])\n",
    "B = np.array([0, 8, 10])\n",
    "np.linalg.solve(A, B) # .linalg : 선형대수 연산 전용 메소드"
   ]
  },
  {
   "cell_type": "markdown",
   "metadata": {},
   "source": [
    "### Example 3. NumPy를 이용해 연립방정식을 풀어보자.\n",
    "\\begin{cases}\n",
    "x_2-4 x_3=8 \\\\\n",
    "2 x_1-3 x_2+2 x_3=1 \\\\\n",
    "4 x_1-8 x_2+12 x_3=1 \\\\\n",
    "\\end{cases}"
   ]
  },
  {
   "cell_type": "code",
   "execution_count": 3,
   "metadata": {},
   "outputs": [
    {
     "ename": "LinAlgError",
     "evalue": "Singular matrix",
     "output_type": "error",
     "traceback": [
      "\u001b[1;31m---------------------------------------------------------------------------\u001b[0m",
      "\u001b[1;31mLinAlgError\u001b[0m                               Traceback (most recent call last)",
      "\u001b[1;32m<ipython-input-3-385ce31e02d3>\u001b[0m in \u001b[0;36m<module>\u001b[1;34m\u001b[0m\n\u001b[0;32m      1\u001b[0m \u001b[0mA\u001b[0m \u001b[1;33m=\u001b[0m \u001b[0mnp\u001b[0m\u001b[1;33m.\u001b[0m\u001b[0marray\u001b[0m\u001b[1;33m(\u001b[0m\u001b[1;33m[\u001b[0m\u001b[1;33m[\u001b[0m\u001b[1;36m0\u001b[0m\u001b[1;33m,\u001b[0m\u001b[1;36m1\u001b[0m\u001b[1;33m,\u001b[0m\u001b[1;33m-\u001b[0m\u001b[1;36m4\u001b[0m\u001b[1;33m]\u001b[0m\u001b[1;33m,\u001b[0m\u001b[1;33m[\u001b[0m\u001b[1;36m2\u001b[0m\u001b[1;33m,\u001b[0m\u001b[1;33m-\u001b[0m\u001b[1;36m3\u001b[0m\u001b[1;33m,\u001b[0m\u001b[1;36m2\u001b[0m\u001b[1;33m]\u001b[0m\u001b[1;33m,\u001b[0m\u001b[1;33m[\u001b[0m\u001b[1;36m4\u001b[0m\u001b[1;33m,\u001b[0m\u001b[1;33m-\u001b[0m\u001b[1;36m8\u001b[0m\u001b[1;33m,\u001b[0m\u001b[1;36m12\u001b[0m\u001b[1;33m]\u001b[0m\u001b[1;33m]\u001b[0m\u001b[1;33m)\u001b[0m\u001b[1;33m\u001b[0m\u001b[1;33m\u001b[0m\u001b[0m\n\u001b[0;32m      2\u001b[0m \u001b[0mB\u001b[0m \u001b[1;33m=\u001b[0m \u001b[0mnp\u001b[0m\u001b[1;33m.\u001b[0m\u001b[0marray\u001b[0m\u001b[1;33m(\u001b[0m\u001b[1;33m[\u001b[0m\u001b[1;36m8\u001b[0m\u001b[1;33m,\u001b[0m \u001b[1;36m1\u001b[0m\u001b[1;33m,\u001b[0m \u001b[1;36m1\u001b[0m\u001b[1;33m]\u001b[0m\u001b[1;33m)\u001b[0m\u001b[1;33m\u001b[0m\u001b[1;33m\u001b[0m\u001b[0m\n\u001b[1;32m----> 3\u001b[1;33m \u001b[0mC\u001b[0m \u001b[1;33m=\u001b[0m \u001b[0mnp\u001b[0m\u001b[1;33m.\u001b[0m\u001b[0mlinalg\u001b[0m\u001b[1;33m.\u001b[0m\u001b[0msolve\u001b[0m\u001b[1;33m(\u001b[0m\u001b[0mA\u001b[0m\u001b[1;33m,\u001b[0m \u001b[0mB\u001b[0m\u001b[1;33m)\u001b[0m\u001b[1;33m\u001b[0m\u001b[1;33m\u001b[0m\u001b[0m\n\u001b[0m\u001b[0;32m      4\u001b[0m \u001b[0mprint\u001b[0m\u001b[1;33m(\u001b[0m\u001b[0mC\u001b[0m\u001b[1;33m)\u001b[0m\u001b[1;33m\u001b[0m\u001b[1;33m\u001b[0m\u001b[0m\n",
      "\u001b[1;32m<__array_function__ internals>\u001b[0m in \u001b[0;36msolve\u001b[1;34m(*args, **kwargs)\u001b[0m\n",
      "\u001b[1;32m~\\anaconda3\\lib\\site-packages\\numpy\\linalg\\linalg.py\u001b[0m in \u001b[0;36msolve\u001b[1;34m(a, b)\u001b[0m\n\u001b[0;32m    392\u001b[0m     \u001b[0msignature\u001b[0m \u001b[1;33m=\u001b[0m \u001b[1;34m'DD->D'\u001b[0m \u001b[1;32mif\u001b[0m \u001b[0misComplexType\u001b[0m\u001b[1;33m(\u001b[0m\u001b[0mt\u001b[0m\u001b[1;33m)\u001b[0m \u001b[1;32melse\u001b[0m \u001b[1;34m'dd->d'\u001b[0m\u001b[1;33m\u001b[0m\u001b[1;33m\u001b[0m\u001b[0m\n\u001b[0;32m    393\u001b[0m     \u001b[0mextobj\u001b[0m \u001b[1;33m=\u001b[0m \u001b[0mget_linalg_error_extobj\u001b[0m\u001b[1;33m(\u001b[0m\u001b[0m_raise_linalgerror_singular\u001b[0m\u001b[1;33m)\u001b[0m\u001b[1;33m\u001b[0m\u001b[1;33m\u001b[0m\u001b[0m\n\u001b[1;32m--> 394\u001b[1;33m     \u001b[0mr\u001b[0m \u001b[1;33m=\u001b[0m \u001b[0mgufunc\u001b[0m\u001b[1;33m(\u001b[0m\u001b[0ma\u001b[0m\u001b[1;33m,\u001b[0m \u001b[0mb\u001b[0m\u001b[1;33m,\u001b[0m \u001b[0msignature\u001b[0m\u001b[1;33m=\u001b[0m\u001b[0msignature\u001b[0m\u001b[1;33m,\u001b[0m \u001b[0mextobj\u001b[0m\u001b[1;33m=\u001b[0m\u001b[0mextobj\u001b[0m\u001b[1;33m)\u001b[0m\u001b[1;33m\u001b[0m\u001b[1;33m\u001b[0m\u001b[0m\n\u001b[0m\u001b[0;32m    395\u001b[0m \u001b[1;33m\u001b[0m\u001b[0m\n\u001b[0;32m    396\u001b[0m     \u001b[1;32mreturn\u001b[0m \u001b[0mwrap\u001b[0m\u001b[1;33m(\u001b[0m\u001b[0mr\u001b[0m\u001b[1;33m.\u001b[0m\u001b[0mastype\u001b[0m\u001b[1;33m(\u001b[0m\u001b[0mresult_t\u001b[0m\u001b[1;33m,\u001b[0m \u001b[0mcopy\u001b[0m\u001b[1;33m=\u001b[0m\u001b[1;32mFalse\u001b[0m\u001b[1;33m)\u001b[0m\u001b[1;33m)\u001b[0m\u001b[1;33m\u001b[0m\u001b[1;33m\u001b[0m\u001b[0m\n",
      "\u001b[1;32m~\\anaconda3\\lib\\site-packages\\numpy\\linalg\\linalg.py\u001b[0m in \u001b[0;36m_raise_linalgerror_singular\u001b[1;34m(err, flag)\u001b[0m\n\u001b[0;32m     86\u001b[0m \u001b[1;33m\u001b[0m\u001b[0m\n\u001b[0;32m     87\u001b[0m \u001b[1;32mdef\u001b[0m \u001b[0m_raise_linalgerror_singular\u001b[0m\u001b[1;33m(\u001b[0m\u001b[0merr\u001b[0m\u001b[1;33m,\u001b[0m \u001b[0mflag\u001b[0m\u001b[1;33m)\u001b[0m\u001b[1;33m:\u001b[0m\u001b[1;33m\u001b[0m\u001b[1;33m\u001b[0m\u001b[0m\n\u001b[1;32m---> 88\u001b[1;33m     \u001b[1;32mraise\u001b[0m \u001b[0mLinAlgError\u001b[0m\u001b[1;33m(\u001b[0m\u001b[1;34m\"Singular matrix\"\u001b[0m\u001b[1;33m)\u001b[0m\u001b[1;33m\u001b[0m\u001b[1;33m\u001b[0m\u001b[0m\n\u001b[0m\u001b[0;32m     89\u001b[0m \u001b[1;33m\u001b[0m\u001b[0m\n\u001b[0;32m     90\u001b[0m \u001b[1;32mdef\u001b[0m \u001b[0m_raise_linalgerror_nonposdef\u001b[0m\u001b[1;33m(\u001b[0m\u001b[0merr\u001b[0m\u001b[1;33m,\u001b[0m \u001b[0mflag\u001b[0m\u001b[1;33m)\u001b[0m\u001b[1;33m:\u001b[0m\u001b[1;33m\u001b[0m\u001b[1;33m\u001b[0m\u001b[0m\n",
      "\u001b[1;31mLinAlgError\u001b[0m: Singular matrix"
     ]
    }
   ],
   "source": [
    "A = np.array([[0,1,-4],[2,-3,2],[4,-8,12]])\n",
    "B = np.array([8, 1, 1])\n",
    "C = np.linalg.solve(A, B)\n",
    "print(C)"
   ]
  },
  {
   "cell_type": "markdown",
   "metadata": {},
   "source": [
    "### Example 4. NumPy를 이용해 연립방정식을 풀어보자.\n",
    "\\begin{cases}\n",
    "x_1-5 x_3=1 \\\\\n",
    "x_2+ x_3=4 \n",
    "\\end{cases}"
   ]
  },
  {
   "cell_type": "code",
   "execution_count": 4,
   "metadata": {},
   "outputs": [
    {
     "ename": "LinAlgError",
     "evalue": "Singular matrix",
     "output_type": "error",
     "traceback": [
      "\u001b[1;31m---------------------------------------------------------------------------\u001b[0m",
      "\u001b[1;31mLinAlgError\u001b[0m                               Traceback (most recent call last)",
      "\u001b[1;32m<ipython-input-4-20819df89993>\u001b[0m in \u001b[0;36m<module>\u001b[1;34m\u001b[0m\n\u001b[0;32m      1\u001b[0m \u001b[0mA\u001b[0m \u001b[1;33m=\u001b[0m \u001b[0mnp\u001b[0m\u001b[1;33m.\u001b[0m\u001b[0marray\u001b[0m\u001b[1;33m(\u001b[0m\u001b[1;33m[\u001b[0m\u001b[1;33m[\u001b[0m\u001b[1;36m1\u001b[0m\u001b[1;33m,\u001b[0m\u001b[1;36m0\u001b[0m\u001b[1;33m,\u001b[0m\u001b[1;33m-\u001b[0m\u001b[1;36m5\u001b[0m\u001b[1;33m]\u001b[0m\u001b[1;33m,\u001b[0m\u001b[1;33m[\u001b[0m\u001b[1;36m0\u001b[0m\u001b[1;33m,\u001b[0m\u001b[1;36m1\u001b[0m\u001b[1;33m,\u001b[0m\u001b[1;36m1\u001b[0m\u001b[1;33m]\u001b[0m\u001b[1;33m,\u001b[0m\u001b[1;33m[\u001b[0m\u001b[1;36m0\u001b[0m\u001b[1;33m,\u001b[0m\u001b[1;36m0\u001b[0m\u001b[1;33m,\u001b[0m\u001b[1;36m0\u001b[0m\u001b[1;33m]\u001b[0m\u001b[1;33m]\u001b[0m\u001b[1;33m)\u001b[0m\u001b[1;33m\u001b[0m\u001b[1;33m\u001b[0m\u001b[0m\n\u001b[0;32m      2\u001b[0m \u001b[0mB\u001b[0m \u001b[1;33m=\u001b[0m \u001b[0mnp\u001b[0m\u001b[1;33m.\u001b[0m\u001b[0marray\u001b[0m\u001b[1;33m(\u001b[0m\u001b[1;33m[\u001b[0m\u001b[1;36m1\u001b[0m\u001b[1;33m,\u001b[0m \u001b[1;36m4\u001b[0m\u001b[1;33m,\u001b[0m \u001b[1;36m0\u001b[0m\u001b[1;33m]\u001b[0m\u001b[1;33m)\u001b[0m\u001b[1;33m\u001b[0m\u001b[1;33m\u001b[0m\u001b[0m\n\u001b[1;32m----> 3\u001b[1;33m \u001b[0mC\u001b[0m \u001b[1;33m=\u001b[0m \u001b[0mnp\u001b[0m\u001b[1;33m.\u001b[0m\u001b[0mlinalg\u001b[0m\u001b[1;33m.\u001b[0m\u001b[0msolve\u001b[0m\u001b[1;33m(\u001b[0m\u001b[0mA\u001b[0m\u001b[1;33m,\u001b[0m \u001b[0mB\u001b[0m\u001b[1;33m)\u001b[0m\u001b[1;33m\u001b[0m\u001b[1;33m\u001b[0m\u001b[0m\n\u001b[0m\u001b[0;32m      4\u001b[0m \u001b[0mprint\u001b[0m\u001b[1;33m(\u001b[0m\u001b[0mC\u001b[0m\u001b[1;33m)\u001b[0m\u001b[1;33m\u001b[0m\u001b[1;33m\u001b[0m\u001b[0m\n",
      "\u001b[1;32m<__array_function__ internals>\u001b[0m in \u001b[0;36msolve\u001b[1;34m(*args, **kwargs)\u001b[0m\n",
      "\u001b[1;32m~\\anaconda3\\lib\\site-packages\\numpy\\linalg\\linalg.py\u001b[0m in \u001b[0;36msolve\u001b[1;34m(a, b)\u001b[0m\n\u001b[0;32m    392\u001b[0m     \u001b[0msignature\u001b[0m \u001b[1;33m=\u001b[0m \u001b[1;34m'DD->D'\u001b[0m \u001b[1;32mif\u001b[0m \u001b[0misComplexType\u001b[0m\u001b[1;33m(\u001b[0m\u001b[0mt\u001b[0m\u001b[1;33m)\u001b[0m \u001b[1;32melse\u001b[0m \u001b[1;34m'dd->d'\u001b[0m\u001b[1;33m\u001b[0m\u001b[1;33m\u001b[0m\u001b[0m\n\u001b[0;32m    393\u001b[0m     \u001b[0mextobj\u001b[0m \u001b[1;33m=\u001b[0m \u001b[0mget_linalg_error_extobj\u001b[0m\u001b[1;33m(\u001b[0m\u001b[0m_raise_linalgerror_singular\u001b[0m\u001b[1;33m)\u001b[0m\u001b[1;33m\u001b[0m\u001b[1;33m\u001b[0m\u001b[0m\n\u001b[1;32m--> 394\u001b[1;33m     \u001b[0mr\u001b[0m \u001b[1;33m=\u001b[0m \u001b[0mgufunc\u001b[0m\u001b[1;33m(\u001b[0m\u001b[0ma\u001b[0m\u001b[1;33m,\u001b[0m \u001b[0mb\u001b[0m\u001b[1;33m,\u001b[0m \u001b[0msignature\u001b[0m\u001b[1;33m=\u001b[0m\u001b[0msignature\u001b[0m\u001b[1;33m,\u001b[0m \u001b[0mextobj\u001b[0m\u001b[1;33m=\u001b[0m\u001b[0mextobj\u001b[0m\u001b[1;33m)\u001b[0m\u001b[1;33m\u001b[0m\u001b[1;33m\u001b[0m\u001b[0m\n\u001b[0m\u001b[0;32m    395\u001b[0m \u001b[1;33m\u001b[0m\u001b[0m\n\u001b[0;32m    396\u001b[0m     \u001b[1;32mreturn\u001b[0m \u001b[0mwrap\u001b[0m\u001b[1;33m(\u001b[0m\u001b[0mr\u001b[0m\u001b[1;33m.\u001b[0m\u001b[0mastype\u001b[0m\u001b[1;33m(\u001b[0m\u001b[0mresult_t\u001b[0m\u001b[1;33m,\u001b[0m \u001b[0mcopy\u001b[0m\u001b[1;33m=\u001b[0m\u001b[1;32mFalse\u001b[0m\u001b[1;33m)\u001b[0m\u001b[1;33m)\u001b[0m\u001b[1;33m\u001b[0m\u001b[1;33m\u001b[0m\u001b[0m\n",
      "\u001b[1;32m~\\anaconda3\\lib\\site-packages\\numpy\\linalg\\linalg.py\u001b[0m in \u001b[0;36m_raise_linalgerror_singular\u001b[1;34m(err, flag)\u001b[0m\n\u001b[0;32m     86\u001b[0m \u001b[1;33m\u001b[0m\u001b[0m\n\u001b[0;32m     87\u001b[0m \u001b[1;32mdef\u001b[0m \u001b[0m_raise_linalgerror_singular\u001b[0m\u001b[1;33m(\u001b[0m\u001b[0merr\u001b[0m\u001b[1;33m,\u001b[0m \u001b[0mflag\u001b[0m\u001b[1;33m)\u001b[0m\u001b[1;33m:\u001b[0m\u001b[1;33m\u001b[0m\u001b[1;33m\u001b[0m\u001b[0m\n\u001b[1;32m---> 88\u001b[1;33m     \u001b[1;32mraise\u001b[0m \u001b[0mLinAlgError\u001b[0m\u001b[1;33m(\u001b[0m\u001b[1;34m\"Singular matrix\"\u001b[0m\u001b[1;33m)\u001b[0m\u001b[1;33m\u001b[0m\u001b[1;33m\u001b[0m\u001b[0m\n\u001b[0m\u001b[0;32m     89\u001b[0m \u001b[1;33m\u001b[0m\u001b[0m\n\u001b[0;32m     90\u001b[0m \u001b[1;32mdef\u001b[0m \u001b[0m_raise_linalgerror_nonposdef\u001b[0m\u001b[1;33m(\u001b[0m\u001b[0merr\u001b[0m\u001b[1;33m,\u001b[0m \u001b[0mflag\u001b[0m\u001b[1;33m)\u001b[0m\u001b[1;33m:\u001b[0m\u001b[1;33m\u001b[0m\u001b[1;33m\u001b[0m\u001b[0m\n",
      "\u001b[1;31mLinAlgError\u001b[0m: Singular matrix"
     ]
    }
   ],
   "source": [
    "#해가 많아서 오류남\n",
    "\n",
    "A = np.array([[1,0,-5],[0,1,1],[0,0,0]])\n",
    "B = np.array([1, 4, 0])\n",
    "C = np.linalg.solve(A, B)\n",
    "print(C)"
   ]
  },
  {
   "cell_type": "markdown",
   "metadata": {},
   "source": [
    "## 1.3 Vector Equations\n",
    "## (벡터방정식)\n",
    "  \n",
    "벡터를 크기와 방향이 있는 물리량이라고 하지만, 이것은 물리나 수학의 특정 분야에서 쓰이는 정의다.  \n",
    "실제로는 벡터공간의 정의를 만족하는 경우면 뭐든지 벡터가 될 수 있다.  \n",
    "변수 위에 오른쪽 화살표를 쓰는 것도 실제 선형대수를 배울 때 일부 친절한 책을 제외하면 거의 등장하지 않는다.\n",
    "<br/><br/>\n",
    "일단 벡터공간의 정의는 나중에 다루기로 하고, 우리가 직관적으로 알고있는 벡터에 대해 알아보도록 하자.  \n",
    "  \n",
    "$v = \\begin{bmatrix} 3 \\\\ -1 \\end{bmatrix}$,\n",
    "$w=\\begin{bmatrix} 0.2 \\\\ 0.3 \\end{bmatrix}$,\n",
    "$u=\\begin{bmatrix} u_1 \\\\ u_2 \\end{bmatrix}$  \n",
    "  \n",
    "우리는 행렬의 형태를 배웠으니 행이 2개, 열이 1개인 행렬이라고 생각할 수 있다.  \n",
    "여기서는 열이 1개인 행렬을 **열벡터(Column vector)** 또는 간단하게 **벡터(Vector)**라고 부르기로 한다.  \n",
    "그리고 행의 개수가 $n$개면 이에 따라 $n$차원 벡터라고 부르며, $n$차원 벡터 $v$에 대해 $v\\in\\mathbb{R^n}$이라고 표현한다.  \n",
    "간혹 벡터를 튜플 형태로 나타내는 경우도 있지만, 선형대수에서는 열벡터 형태로 나타내는 것이 훨씬 편하니 일단은 열벡터를 중심으로 진행하기로 한다.\n",
    "<br/><br/>\n",
    "위의 $v,w,u$를 바탕으로 연산을 한다고 하자. 벡터 간 연산은 각 행의 원소끼리 각각 더하면 된다.  \n",
    "$v+w = \\begin{bmatrix} 3+0.2 \\\\ -1+0.3 \\end{bmatrix}=\\begin{bmatrix} 3.2 \\\\ -0.7 \\end{bmatrix}$, $w+u=\\begin{bmatrix} 0.2+u_1 \\\\ 0.3+u_2 \\end{bmatrix}$, \n",
    "  \n",
    "또한 실수나 복소수를 벡터에 곱할수도 있다. 이때의 실수 또는 복소수를 특별히 **스칼라(Scalar)**라고 부른다.  \n",
    "이 수업에서 복소수는 따로 취급하지 않기로 한다.  "
   ]
  },
  {
   "cell_type": "markdown",
   "metadata": {},
   "source": [
    "### Example 5. 다음 벡터가 주어졌을때 연산해보자.  \n",
    "$u = \\begin{bmatrix} 2 \\\\ 2 \\end{bmatrix}$,$v = \\begin{bmatrix} -6 \\\\ 1 \\end{bmatrix}$\n",
    "1. $u+v$  \n",
    "2.$-u$  \n",
    "3.$4u-3v$"
   ]
  },
  {
   "cell_type": "code",
   "execution_count": null,
   "metadata": {},
   "outputs": [],
   "source": [
    "A = np.array([[2],[2]])\n",
    "B = np.array([[-6],[1]])\n",
    "print(A+B) # 1번 답\n",
    "print()\n",
    "print(-1*A) # 2번 답\n",
    "print()\n",
    "print(4*A-3*B) # 3번 답"
   ]
  },
  {
   "cell_type": "markdown",
   "metadata": {},
   "source": [
    "$5v = 5\\begin{bmatrix} 3 \\\\ -1 \\end{bmatrix}=\\begin{bmatrix} 15 \\\\ -5 \\end{bmatrix}$, $w=-\\begin{bmatrix} 0.2 \\\\ 0.3 \\end{bmatrix}=\\begin{bmatrix} -0.2 \\\\ -0.3 \\end{bmatrix}$,$cu=c\\begin{bmatrix} u_1 \\\\ u_2 \\end{bmatrix}=\\begin{bmatrix} cu_1 \\\\ cu_2 \\end{bmatrix}$  \n",
    "  \n",
    "벡터를 이용해서 선형연립방정식을 다르게 쓸 수도 있다.\n",
    "  \n",
    "1.1 Example 1,2의 연립방정식을 다시 불러오면  \n",
    "  \n",
    "\\begin{cases}\n",
    "x_1-2 x_2+ x_3=0 \\\\\n",
    "2 x_2-8 x_3=8 \\\\\n",
    "5 x_1-5 x_3=10 \\\\\n",
    "\\end{cases}\n",
    "  \n",
    "이것을 다음과 같이 벡터와 스칼라의 곱 형태로 나타낼 수 있다.  \n",
    "  \n",
    "$x_1\\begin{bmatrix} 1 \\\\ 0 \\\\ 5 \\end{bmatrix}+x_2\\begin{bmatrix} -2 \\\\ 2 \\\\ 0 \\end{bmatrix}+x_3\\begin{bmatrix} 1 \\\\ -8 \\\\ -5 \\end{bmatrix}=\\begin{bmatrix} 0 \\\\ 8 \\\\ 10 \\end{bmatrix}$  \n",
    "  \n",
    "이 식을 아래와 같이 살짝 바꾸면  \n",
    "  \n",
    "$y=x_1\\begin{bmatrix} 1 \\\\ 0 \\\\ 5 \\end{bmatrix}+x_2\\begin{bmatrix} -2 \\\\ 2 \\\\ 0 \\end{bmatrix}+x_3\\begin{bmatrix} 1 \\\\ -8 \\\\ -5 \\end{bmatrix}$  \n",
    "  \n",
    "$y$는 $x_1,x_2,x_3$이 얼마인지에 따라 바뀌게 된다. 이렇게 여러 벡터들과 변수들로 인해 생성되는 벡터를 특별히 **선형결합(Linear combination)**이라고 하며, 이 때 $x_1,x_2,x_3$와 곱해진 벡터들을 특별히 **가중치 벡터(Weight vector)**라고 한다.  \n",
    "  \n",
    "그렇다면 가중치의 값이 얼마인지에 따라 $y$의 값은 계속 바뀔 것이다. 이처럼 벡터 $v_1, v_2, ... , v_p$이 주어졌을 때, 각 변수 $x_1, x_2, ... , x_p$에 따라 생길 수 있는 $y$의 집합을 **$v_1,v_2,... ,v_p$에 의해 생성된 $\\mathbb{R^n}$의 부분집합(Subset of $\\mathbb{R^n}$ spanned by $v_1,v_2,... ,v_p$)**이라 하며, **$Span$\\{$v_1,v_2,... ,v_p$}**으로 표기한다. 이때 n을 **차원(Dimension)**이라고 하며 차원에 대한 얘기는 나중에 할 것이다.    \n",
    "참고로 Span할때 쓰이는 벡터의 개수는 반드시 $n$ 이하가 된다."
   ]
  },
  {
   "cell_type": "markdown",
   "metadata": {},
   "source": [
    "## 1.4 Matrix Equation $Ax=B$\n",
    "## (방정식의 행렬표현)\n",
    "  \n",
    "다시 이 연립방정식을 데려오자.  \n",
    "\\begin{cases}\n",
    "x_1-2 x_2+ x_3=0 \\\\\n",
    "2 x_2-8 x_3=8 \\\\\n",
    "5 x_1-5 x_3=10 \\\\\n",
    "\\end{cases}\n",
    "  \n",
    "이 식을 선형결합 형태로 나타내면  \n",
    "  \n",
    "$x_1\\begin{bmatrix} 1 \\\\ 0 \\\\ 5 \\end{bmatrix}+x_2\\begin{bmatrix} -2 \\\\ 2 \\\\ 0 \\end{bmatrix}+x_3\\begin{bmatrix} 1 \\\\ -8 \\\\ -5 \\end{bmatrix}=\\begin{bmatrix} 0 \\\\ 8 \\\\ 10 \\end{bmatrix}$  \n",
    "  \n",
    "이 되고, 이것을 행렬과 벡터의 곱 형태로 나타내면  \n",
    "  \n",
    "$\\begin{bmatrix} 1&-2&1\\\\ 0&2&-8 \\\\ 5&0&-5 \\end{bmatrix}\\begin{bmatrix} x_1 \\\\ x_2 \\\\ x_3 \\end{bmatrix}=\\begin{bmatrix} 0 \\\\ 8 \\\\ 10 \\end{bmatrix}$  \n",
    "가 된다.  \n",
    "이때 행렬을 $A$, $x_1,x_2,x_3$을 원소로 하는 벡터를 x, 상수를 원소로 하는 벡터를 $b$로 하면 $Ax=b$라고 표현할 수 있다. 이때의 A를 특별히 **계수행렬(Coefficient matrix)**, $x_1,x_2,x_3$을 원소로 하는 벡터를 **해벡터(solution vector)**라고 한다.  \n",
    "위의 행렬 표현을 더 짧게 표현하면 처음 나왔던 $4\\times3$ 행렬처럼  \n",
    "$\\begin{bmatrix} 1&-2&1&0 \\\\ 0&2&-8&8 \\\\ 5&0&-5&10 \\end{bmatrix}$  \n",
    "로 나타낼 수 있다. 이렇게 b도 열벡터로 넣은 행렬을 **첨가행렬(Augmented matrix)**이라고 한다.  "
   ]
  },
  {
   "cell_type": "markdown",
   "metadata": {},
   "source": [
    "### Example 6. 다음 연립방정식을 선형결합 형태와 $4\\times3$ 행렬 형태로 나타내보자.\n",
    "\\begin{cases}\n",
    "x_1-5 x_3=1 \\\\\n",
    "x_2+ x_3=4 \\\\\n",
    "\\end{cases}"
   ]
  },
  {
   "cell_type": "markdown",
   "metadata": {},
   "source": [
    "## 1.7 Linearly Independence\n",
    "## (선형독립)  \n",
    "(이젠 슬슬 질리겠지만) 다음 선형결합에 대해,  \n",
    "  \n",
    "$x_1\\begin{bmatrix} 1 \\\\ 0 \\\\ 5 \\end{bmatrix}+x_2\\begin{bmatrix} -2 \\\\ 2 \\\\ 0 \\end{bmatrix}+x_3\\begin{bmatrix} 1 \\\\ -8 \\\\ -5 \\end{bmatrix}=\\begin{bmatrix} 0 \\\\ 0 \\\\ 0 \\end{bmatrix}$  \n",
    "  \n",
    "변수 $x_1,x_2,x_3$ 값이 전부 0이 될수밖에 없다면, 이 경우 각 벡터에 대해 **선형결합(Linearly independent)**이라고 한다.  \n",
    "만약 그렇지 않다면, 각 벡터에 대해 **선형종속(Linearly dependent)**이라고 한다.<br/><br/>\n",
    "코드로 벡터들이 선형독립인지 아닌지 판별하는 방법은 쉽다. 연립방정식 풀듯이 하면 된다."
   ]
  },
  {
   "cell_type": "markdown",
   "metadata": {},
   "source": [
    "### Example 7. 다음 세 벡터가 주어졌을 때 선형독립인지 확인해보자.\n",
    "$\\begin{bmatrix} 1 \\\\ 0 \\\\ 5 \\end{bmatrix},\n",
    "\\begin{bmatrix} -2 \\\\ 2 \\\\ 0 \\end{bmatrix},\n",
    "\\begin{bmatrix} 1 \\\\ -8 \\\\ -5 \\end{bmatrix}$"
   ]
  },
  {
   "cell_type": "code",
   "execution_count": null,
   "metadata": {},
   "outputs": [],
   "source": [
    "A = np.array([[1,-2,1],[0,2,-8],[5,0,-5]])\n",
    "B = np.array([0, 0, 0])\n",
    "np.linalg.solve(A, B) # .linalg : 선형대수 연산 전용 메소드"
   ]
  },
  {
   "cell_type": "markdown",
   "metadata": {},
   "source": [
    "n개의 벡터가 선형독립이라면 그 벡터들이 생성하는 부분집합은 정확하게 $\\mathbb{R}^n$이 된다. 만일 선형종속이라면 Span한 공간의 차원은 n보다 작아지게 된다."
   ]
  },
  {
   "cell_type": "markdown",
   "metadata": {},
   "source": [
    "# Chapter 2. Matrix Algebra\n",
    "# (행렬대수학)  "
   ]
  },
  {
   "cell_type": "markdown",
   "metadata": {},
   "source": [
    "## 2.1 Matrix Operations\n",
    "## (행렬 연산)  \n",
    "$A$가 $m\\times n$ 행렬이면, i번째 행과 j번째 열의 성분에 대해 $a_{ij}$라고 쓴다. 즉 A에 대해 다음과 같이 쓸 수 있다.  \n",
    "  \n",
    "$A=\n",
    "\\begin{bmatrix}\n",
    "a_{11} & a_{12} & \\cdots & a_{1n} \\\\\n",
    "a_{21} & a_{22} & \\cdots & a_{2n} \\\\\n",
    "\\vdots &\\vdots &\\ddots &\\vdots\\\\\n",
    "a_{m1} & a_{m2} & \\cdots & a_{mn}\n",
    "\\end{bmatrix}$  \n",
    "  \n",
    "또는 각 열벡터들의 모음 형식으로 나타낼 수도 있다.  \n",
    "  \n",
    "$A=\n",
    "\\begin{bmatrix}\n",
    "a_1 & a_2 & \\cdots & a_n \\\\\n",
    "\\end{bmatrix}$  \n",
    "  \n",
    "행과 열의 개수가 같은 두 행렬은 서로 더하고 뺄 수 있으며, 스칼라곱도 정의된다.\n",
    "<br/><br/>\n",
    "행과 열의 개수가 같은 서로 다른 행렬 A,B,C에 대해, 스칼라 r,s에 대해 다음이 성립한다.  \n",
    "  \n",
    "$\\begin{matrix}\n",
    "1. A+B=B+A & 2.(A+B)+C=A+(B+C) & 3. A+0=0+A=A \\\\\n",
    "4. r(A+B)=rA+rB & 5. (r+s)A=rA+sA & 6. r(sA)=(rs)A\n",
    "\\end{matrix}$\n",
    "  \n",
    "수학적으로 엄밀하게 생각하면 절대 당연하지 않고 증명해야 하는 내용이지만, 증명은 생략하기로 한다.  \n",
    "3번의 0은 그냥 숫자 0이 아닌, 모든 성분이 0인 **영행렬(Zero matrix)**이다. 실수합에서 0의 역할과 똑같다.  \n",
    "<br/><br/> \n",
    "$m \\times n$ 행렬 A와 $n \\times p$ 행렬 B가 있을 때, **행렬곱(Matrix multiplication) AB**는 다음과 같이 정의된다.  \n",
    "  \n",
    "$AB=A\n",
    "\\begin{bmatrix}\n",
    "b_1 & b_2 & \\cdots & b_p \\\\\n",
    "\\end{bmatrix}\n",
    "=\\begin{bmatrix}\n",
    "Ab_1 & Ab_2 & \\cdots & Ab_p \\\\\n",
    "\\end{bmatrix}$  \n",
    "  \n",
    "여기서 $B=\n",
    "\\begin{bmatrix}\n",
    "b_1 & b_2 & \\cdots & b_p \\\\\n",
    "\\end{bmatrix}$이고, 각 $b_1,b_2,...,b_p$에는 n개의 성분이 있으므로 이 성분들과 A의 각 행에 있는 n개의 성분에 대해 순서대로 하나씩 곱하고 그 곱한 값들을 다 더하면 $m \\times p$ 행렬인 AB를 만들 수 있다.  \n",
    "<br/><br/>\n",
    "$m \\times n$ 행렬 A와 각 행렬과 연산 가능한 적당한 행렬 B,C, 스칼라 r이 있을 때 다음이 성립한다.  \n",
    "  \n",
    "$\\begin{matrix}\n",
    "1. A(BC)=(AB)C & 2.A(B+C)=AB+AC & 3. (B+C)A=BA+CA \\\\\n",
    "4. r(AB)=(rA)B=A(rB) & 5. I_mA=A=AI_n & \n",
    "\\end{matrix}$\n",
    "  \n",
    "이번엔 $I_m, I_n$이라는 새로운 행렬이 등장했다. $I_m$처럼 대문자 알파벳 $I$ 오른쪽 아래에 숫자가 붙은 행렬은 $m \\times m$ **단위행렬(Identity matrix)**이라고 하며, 형태는 다음과 같이 대각선에 있는 성분이 전부 1이고 나머지는 전부 0이다. 단위행렬은 실수곱의 1과 같은 역할을 하는 아주 중요한 행렬이다.  \n",
    "\n",
    "$I_m=\\overbrace{ \\begin{bmatrix}\n",
    "1 & 0 & 0 & \\cdots & 0 \\\\\n",
    "0 & 1 & 0 & \\cdots & 0 \\\\\n",
    "0 & 0 & 1 & \\cdots & 0 \\\\\n",
    "\\vdots &\\vdots &\\vdots &\\ddots &\\vdots\\\\\n",
    "0 & 0 & 0 & \\cdots & 1\n",
    "\\end{bmatrix} }^{m\\ columns}$"
   ]
  },
  {
   "cell_type": "markdown",
   "metadata": {},
   "source": [
    "### Example 1. 행렬 연산을 해보자.\n",
    "$A=\n",
    "\\begin{bmatrix}\n",
    "4 & 0 & 5 \\\\\n",
    "-1 & 3 & 2\n",
    "\\end{bmatrix},\n",
    "B=\n",
    "\\begin{bmatrix}\n",
    "1 & 1 & 1 \\\\\n",
    "3 & 5 & 7\n",
    "\\end{bmatrix},\n",
    "C=\n",
    "\\begin{bmatrix}\n",
    "2 & -3 \\\\\n",
    "0 & 1\n",
    "\\end{bmatrix}$  \n",
    "  \n",
    "1. $A+B$  \n",
    "2. $A+C$  \n",
    "3. $CB$  \n",
    "4. $AB$"
   ]
  },
  {
   "cell_type": "code",
   "execution_count": 6,
   "metadata": {},
   "outputs": [
    {
     "name": "stdout",
     "output_type": "stream",
     "text": [
      "[[5 1 6]\n",
      " [2 8 9]]\n",
      "\n",
      "\n",
      "[[11 17 23]\n",
      " [ 3  5  7]]\n",
      "\n",
      "[[ 4  0  5]\n",
      " [-3 15 14]]\n"
     ]
    }
   ],
   "source": [
    "A = np.array([[4,0,5],[-1,3,2]])\n",
    "B = np.array([[1,1,1],[3,5,7]])\n",
    "C = np.array([[2,3],[0,1]])\n",
    "print(A+B) # 1번 답\n",
    "print()\n",
    "#print(A+C) # 2번 답\n",
    "# 행렬수가 달라서 오류\n",
    "print()\n",
    "print(np.dot(C,B)) # 3번 답\n",
    "print()\n",
    "# 그냥 곱해버리면 각 원소끼리의 곱으로 나옴\n",
    "print(A*B) # 4번 답"
   ]
  },
  {
   "cell_type": "markdown",
   "metadata": {},
   "source": [
    "또한 NumPy에서 단순히 C\\*B 형태로 실행하면 덧셈처럼 각 성분에 대해 곱한 값을 행렬 형태로 출력하는데, 이는 컴퓨터 구조상 계산을 용이하게 하는 목적으로 일부러 이렇게 된 것이다.  \n",
    "우리가 배운 행렬곱을 하기 위해서는 .dot()이라는 전용 함수를 써야 한다."
   ]
  },
  {
   "cell_type": "markdown",
   "metadata": {},
   "source": [
    "### Example 2. 행렬 연산을 해보자.\n",
    "$A=\n",
    "\\begin{bmatrix}\n",
    "5 & 1 \\\\\n",
    "3 & -2\n",
    "\\end{bmatrix},\n",
    "B=\n",
    "\\begin{bmatrix}\n",
    "2 & 0 \\\\\n",
    "4 & 3\n",
    "\\end{bmatrix}$  \n",
    "  \n",
    "1. $AB$  \n",
    "2. $BA$  \n",
    "3. $A^2$  \n",
    "4. $B^2$  "
   ]
  },
  {
   "cell_type": "code",
   "execution_count": 7,
   "metadata": {},
   "outputs": [
    {
     "name": "stdout",
     "output_type": "stream",
     "text": [
      "[[14  3]\n",
      " [-2 -6]]\n",
      "\n",
      "[[10  2]\n",
      " [29 -2]]\n",
      "\n",
      "[[28  3]\n",
      " [ 9  7]]\n",
      "\n",
      "[[ 4  0]\n",
      " [20  9]]\n"
     ]
    }
   ],
   "source": [
    "A = np.array([[5,1],[3,-2]])\n",
    "B = np.array([[2,0],[4,3]])\n",
    "print(np.dot(A,B)) # 1번 답\n",
    "print()\n",
    "print(np.dot(B,A)) # 2번 답\n",
    "print()\n",
    "print(np.dot(A,A)) # 3번 답\n",
    "print()\n",
    "print(np.dot(B,B)) # 4번 답"
   ]
  },
  {
   "cell_type": "markdown",
   "metadata": {},
   "source": [
    "행렬의 행과 열을 반대로 뒤집었을 때, 그 행렬을 **전치행렬(Transpose matrix)**라고 부른다.  \n",
    "  \n",
    "$\n",
    "\\begin{bmatrix}\n",
    "a_{11} & a_{12} & \\cdots & a_{1n} \\\\\n",
    "a_{21} & a_{22} & \\cdots & a_{2n} \\\\\n",
    "\\vdots &\\vdots &\\ddots &\\vdots\\\\\n",
    "a_{m1} & a_{m2} & \\cdots & a_{mn}\n",
    "\\end{bmatrix}^{T}\n",
    "= \\begin{bmatrix}\n",
    "a_{11} & a_{21} & \\cdots & a_{n1} \\\\\n",
    "a_{12} & a_{22} & \\cdots & a_{n2} \\\\\n",
    "\\vdots &\\vdots &\\ddots &\\vdots\\\\\n",
    "a_{1m} & a_{2m} & \\cdots & a_{nm}\n",
    "\\end{bmatrix}$  \n",
    "  \n",
    "단순히 행과 열을 바꾼 행렬이 뭐가 쓸모있냐고 할 수 있지만, 벡터 표기를 원하는 형태로 나타낼 수 있고, **원래 행렬과 전치행렬을 곱하면 반드시 정사각행렬이 나온다**는 것을 이용해 나중에 최적 근사정리와 정규 방정식에 쓰이게 된다.  \n",
    "<br/><br/>\n",
    "서로 연산 가능한 적당한 행렬 A,B, 스칼라 r이 있을 때 다음이 성립한다.  \n",
    "  \n",
    "$\\begin{matrix}\n",
    "1. (A^T)^T=A & 2.(A+B)^T=A^T+B^T \\\\\n",
    "3. (rA)^T=rA^T & 4. (AB)^T=B^TA^T \n",
    "\\end{matrix}$  \n",
    "  \n",
    "마찬가지로 증명은 어렵지 않지만 생략한다."
   ]
  },
  {
   "cell_type": "markdown",
   "metadata": {},
   "source": [
    "### Example 3. 전치행렬을 만들어보자.\n",
    "$A=\n",
    "\\begin{bmatrix}\n",
    "5 & 1 \\\\\n",
    "3 & -2\n",
    "\\end{bmatrix},\n",
    "B=\n",
    "\\begin{bmatrix}\n",
    "2 & 0 \\\\\n",
    "4 & 3\n",
    "\\end{bmatrix}$  \n",
    "  \n",
    "1. $A^T$  \n",
    "2. $B^T$  \n",
    "3. $A^TB^T$  \n",
    "4. $(AB)^T$  "
   ]
  },
  {
   "cell_type": "code",
   "execution_count": 8,
   "metadata": {},
   "outputs": [
    {
     "name": "stdout",
     "output_type": "stream",
     "text": [
      "[[ 5  3]\n",
      " [ 1 -2]]\n",
      "\n",
      "[[2 4]\n",
      " [0 3]]\n",
      "\n",
      "[[10 29]\n",
      " [ 2 -2]]\n",
      "\n",
      "[[14 -2]\n",
      " [ 3 -6]]\n"
     ]
    }
   ],
   "source": [
    "A = np.array([[5,1],[3,-2]])\n",
    "B = np.array([[2,0],[4,3]])\n",
    "print(np.transpose(A)) # 1번 답\n",
    "print()\n",
    "print(np.transpose(B)) # 2번 답\n",
    "print()\n",
    "print(np.dot(np.transpose(A),np.transpose(B))) # 3번 답\n",
    "print()\n",
    "print(np.transpose(np.dot(A,B))) # 4번 답 => 3번과 엄연히 다름 BtAt"
   ]
  },
  {
   "cell_type": "markdown",
   "metadata": {},
   "source": [
    "## 2.2 The Inverse of A Matrix\n",
    "## (역행렬)  \n",
    "실수계에서, 어떤 수에 곱해져서 1을 만드는 수를 우리는 역수라고 부르기로 했다. 마찬가지로 어떤 행렬에 대해 왼쪽에 곱하던 오른쪽에 곱하던 항상 단위행렬로 만드는 행렬을 **역행렬(Inverse matrix)**이라고 한다.\n",
    "\n",
    "$BA=AB=I$\n",
    "  \n",
    "이 때 B를 특별히 $A^{-1}$이라고 표기한다. 즉 이렇게 된다.  \n",
    "\n",
    "$A^{-1}A=AA^{-1}=I$\n",
    "\n",
    "양쪽에 곱했을 때 형태가 똑같아야 하므로 A와 A의 역행렬은 반드시 정사각행렬이다.<br/><br/>\n",
    "정사각행렬과 관련된 수식으로 행렬식(Determinant)이라는 것이 있는데, 행렬 A의 행렬식을 기호로 쓰면 이렇다.  \n",
    "  \n",
    "$det(A)$\n",
    "  \n",
    "그리고 $2 \\times 2$ 행렬 $A=\\begin{bmatrix} a & b \\\\ c & d \\end{bmatrix}$의 행렬식은  \n",
    "  \n",
    "$det(A)=ad-bc$\n",
    "  \n",
    "로 잘 알려져 있다. 이 행렬식의 값이 0이 아니면 역행렬이 존재하고, 0이면 역행렬이 존재하지 않는다.  \n",
    "크기가 같은 두 행렬을 곱한 행렬의 행렬식은 각 행렬의 행렬식의 곱과 똑같다. 즉 곱연산이 보존된다. 놀랍게도 앞뒤를 바꿔서 곱하면 행렬의 형태는 서로 다를지언정 행렬식의 값은 똑같다.\n",
    "<br/><br/>\n",
    "역행렬을 구하는 방법으로 가우스-조던 소거법(Gauss-Jordan elimination)이나 여인수(Cofactor)라는 것을 쓰지만, 행렬의 크기가 커질수록 손으로 직접 역행렬을 구하는 것은 많이 귀찮은 일이다. 여인수를 이용해 행렬식과 역행렬을 구하는 방법은 3단원에 자세히 나와있지만 생략하도록 하고, 우리는 역행렬이 있는지, 그렇다면 그 역행렬이 무엇인지 다음과 같은 코드로 간단하게 구하도록 하자."
   ]
  },
  {
   "cell_type": "markdown",
   "metadata": {},
   "source": [
    "### Example 4. 다음 행렬들의 행렬식과 역행렬을 구해보자.\n",
    "$A=\n",
    "\\begin{bmatrix}\n",
    "2 & 5 \\\\\n",
    "-3 & -7\n",
    "\\end{bmatrix},\n",
    "B=\n",
    "\\begin{bmatrix}\n",
    "0 & 1 & 2 \\\\\n",
    "1 & 0 & 3 \\\\\n",
    "4 & -3 & 8 \\\\\n",
    "\\end{bmatrix},\n",
    "C=\n",
    "\\begin{bmatrix}\n",
    "1 & -2 & 1 \\\\\n",
    "4 & 8 & 0 \\\\\n",
    "3 & 6 & 0 \\\\\n",
    "\\end{bmatrix}$  \n"
   ]
  },
  {
   "cell_type": "code",
   "execution_count": 9,
   "metadata": {},
   "outputs": [
    {
     "name": "stdout",
     "output_type": "stream",
     "text": [
      "1.0000000000000009\n",
      "[[-7. -5.]\n",
      " [ 3.  2.]]\n",
      "\n",
      "-2.0\n",
      "[[-4.5  7.  -1.5]\n",
      " [-2.   4.  -1. ]\n",
      " [ 1.5 -2.   0.5]]\n",
      "\n",
      "0.0\n"
     ]
    },
    {
     "ename": "LinAlgError",
     "evalue": "Singular matrix",
     "output_type": "error",
     "traceback": [
      "\u001b[1;31m---------------------------------------------------------------------------\u001b[0m",
      "\u001b[1;31mLinAlgError\u001b[0m                               Traceback (most recent call last)",
      "\u001b[1;32m<ipython-input-9-cc1868b8b0eb>\u001b[0m in \u001b[0;36m<module>\u001b[1;34m\u001b[0m\n\u001b[0;32m      9\u001b[0m \u001b[0mprint\u001b[0m\u001b[1;33m(\u001b[0m\u001b[1;33m)\u001b[0m\u001b[1;33m\u001b[0m\u001b[1;33m\u001b[0m\u001b[0m\n\u001b[0;32m     10\u001b[0m \u001b[0mprint\u001b[0m\u001b[1;33m(\u001b[0m\u001b[0mnp\u001b[0m\u001b[1;33m.\u001b[0m\u001b[0mlinalg\u001b[0m\u001b[1;33m.\u001b[0m\u001b[0mdet\u001b[0m\u001b[1;33m(\u001b[0m\u001b[0mC\u001b[0m\u001b[1;33m)\u001b[0m\u001b[1;33m)\u001b[0m \u001b[1;31m# C의 행렬식\u001b[0m\u001b[1;33m\u001b[0m\u001b[1;33m\u001b[0m\u001b[0m\n\u001b[1;32m---> 11\u001b[1;33m \u001b[0mprint\u001b[0m\u001b[1;33m(\u001b[0m\u001b[0mnp\u001b[0m\u001b[1;33m.\u001b[0m\u001b[0mlinalg\u001b[0m\u001b[1;33m.\u001b[0m\u001b[0minv\u001b[0m\u001b[1;33m(\u001b[0m\u001b[0mC\u001b[0m\u001b[1;33m)\u001b[0m\u001b[1;33m)\u001b[0m \u001b[1;31m# C의 역행렬\u001b[0m\u001b[1;33m\u001b[0m\u001b[1;33m\u001b[0m\u001b[0m\n\u001b[0m",
      "\u001b[1;32m<__array_function__ internals>\u001b[0m in \u001b[0;36minv\u001b[1;34m(*args, **kwargs)\u001b[0m\n",
      "\u001b[1;32m~\\anaconda3\\lib\\site-packages\\numpy\\linalg\\linalg.py\u001b[0m in \u001b[0;36minv\u001b[1;34m(a)\u001b[0m\n\u001b[0;32m    544\u001b[0m     \u001b[0msignature\u001b[0m \u001b[1;33m=\u001b[0m \u001b[1;34m'D->D'\u001b[0m \u001b[1;32mif\u001b[0m \u001b[0misComplexType\u001b[0m\u001b[1;33m(\u001b[0m\u001b[0mt\u001b[0m\u001b[1;33m)\u001b[0m \u001b[1;32melse\u001b[0m \u001b[1;34m'd->d'\u001b[0m\u001b[1;33m\u001b[0m\u001b[1;33m\u001b[0m\u001b[0m\n\u001b[0;32m    545\u001b[0m     \u001b[0mextobj\u001b[0m \u001b[1;33m=\u001b[0m \u001b[0mget_linalg_error_extobj\u001b[0m\u001b[1;33m(\u001b[0m\u001b[0m_raise_linalgerror_singular\u001b[0m\u001b[1;33m)\u001b[0m\u001b[1;33m\u001b[0m\u001b[1;33m\u001b[0m\u001b[0m\n\u001b[1;32m--> 546\u001b[1;33m     \u001b[0mainv\u001b[0m \u001b[1;33m=\u001b[0m \u001b[0m_umath_linalg\u001b[0m\u001b[1;33m.\u001b[0m\u001b[0minv\u001b[0m\u001b[1;33m(\u001b[0m\u001b[0ma\u001b[0m\u001b[1;33m,\u001b[0m \u001b[0msignature\u001b[0m\u001b[1;33m=\u001b[0m\u001b[0msignature\u001b[0m\u001b[1;33m,\u001b[0m \u001b[0mextobj\u001b[0m\u001b[1;33m=\u001b[0m\u001b[0mextobj\u001b[0m\u001b[1;33m)\u001b[0m\u001b[1;33m\u001b[0m\u001b[1;33m\u001b[0m\u001b[0m\n\u001b[0m\u001b[0;32m    547\u001b[0m     \u001b[1;32mreturn\u001b[0m \u001b[0mwrap\u001b[0m\u001b[1;33m(\u001b[0m\u001b[0mainv\u001b[0m\u001b[1;33m.\u001b[0m\u001b[0mastype\u001b[0m\u001b[1;33m(\u001b[0m\u001b[0mresult_t\u001b[0m\u001b[1;33m,\u001b[0m \u001b[0mcopy\u001b[0m\u001b[1;33m=\u001b[0m\u001b[1;32mFalse\u001b[0m\u001b[1;33m)\u001b[0m\u001b[1;33m)\u001b[0m\u001b[1;33m\u001b[0m\u001b[1;33m\u001b[0m\u001b[0m\n\u001b[0;32m    548\u001b[0m \u001b[1;33m\u001b[0m\u001b[0m\n",
      "\u001b[1;32m~\\anaconda3\\lib\\site-packages\\numpy\\linalg\\linalg.py\u001b[0m in \u001b[0;36m_raise_linalgerror_singular\u001b[1;34m(err, flag)\u001b[0m\n\u001b[0;32m     86\u001b[0m \u001b[1;33m\u001b[0m\u001b[0m\n\u001b[0;32m     87\u001b[0m \u001b[1;32mdef\u001b[0m \u001b[0m_raise_linalgerror_singular\u001b[0m\u001b[1;33m(\u001b[0m\u001b[0merr\u001b[0m\u001b[1;33m,\u001b[0m \u001b[0mflag\u001b[0m\u001b[1;33m)\u001b[0m\u001b[1;33m:\u001b[0m\u001b[1;33m\u001b[0m\u001b[1;33m\u001b[0m\u001b[0m\n\u001b[1;32m---> 88\u001b[1;33m     \u001b[1;32mraise\u001b[0m \u001b[0mLinAlgError\u001b[0m\u001b[1;33m(\u001b[0m\u001b[1;34m\"Singular matrix\"\u001b[0m\u001b[1;33m)\u001b[0m\u001b[1;33m\u001b[0m\u001b[1;33m\u001b[0m\u001b[0m\n\u001b[0m\u001b[0;32m     89\u001b[0m \u001b[1;33m\u001b[0m\u001b[0m\n\u001b[0;32m     90\u001b[0m \u001b[1;32mdef\u001b[0m \u001b[0m_raise_linalgerror_nonposdef\u001b[0m\u001b[1;33m(\u001b[0m\u001b[0merr\u001b[0m\u001b[1;33m,\u001b[0m \u001b[0mflag\u001b[0m\u001b[1;33m)\u001b[0m\u001b[1;33m:\u001b[0m\u001b[1;33m\u001b[0m\u001b[1;33m\u001b[0m\u001b[0m\n",
      "\u001b[1;31mLinAlgError\u001b[0m: Singular matrix"
     ]
    }
   ],
   "source": [
    "A = np.array([[2,5],[-3,-7]])\n",
    "B = np.array([[0,1,2],[1,0,3],[4,-3,8]])\n",
    "C = np.array([[1,-2,1],[4,8,0],[3,6,0]])\n",
    "print(np.linalg.det(A)) # A의 행렬식\n",
    "print(np.linalg.inv(A)) # A의 역행렬\n",
    "print()\n",
    "print(np.linalg.det(B)) # B의 행렬식\n",
    "print(np.linalg.inv(B)) # B의 역행렬\n",
    "print()\n",
    "print(np.linalg.det(C)) # C의 행렬식\n",
    "print(np.linalg.inv(C)) # C의 역행렬 => 역행렬이 없으면 오류가 뜬다. 값이 0으로 나옴"
   ]
  },
  {
   "cell_type": "markdown",
   "metadata": {},
   "source": [
    "역행렬이 존재하지 않는 행렬을 **특이행렬(Singular matrix)**라고 하며, 역행렬이 존재하지 않는 행렬을 **비특이행렬 또는 정칙행렬(Noningular matrix)**이라고 하지만 잘 쓰이진 않는다. 행렬이 특이행렬인데 연립방정식을 풀거나 역행렬을 구하려고 하면 언급했던 에러가 출력된다.<br/><br/>\n",
    "그렇다면 이것을 연립방정식에서 어떻게 쓸 수 있을까?"
   ]
  },
  {
   "cell_type": "markdown",
   "metadata": {},
   "source": [
    "### Example 5. 역행렬을 이용해서 연립방정식 풀기  \n",
    "또다시 이 연립방정식을 데려오자.  \n",
    "\\begin{cases}\n",
    "x_1-2 x_2+ x_3=0 \\\\\n",
    "2 x_2-8 x_3=8 \\\\\n",
    "5 x_1-5 x_3=10 \\\\\n",
    "\\end{cases}\n",
    "우리는 이것을 다음과 같은 계수행렬, 미지수 벡터,상수벡터로 나타낼 수 있다는 것을 알고 있다. \n",
    "  \n",
    "$\\begin{bmatrix} 1&-2&1\\\\ 0&2&-8 \\\\ 5&0&-5 \\end{bmatrix}\\begin{bmatrix} x_1 \\\\ x_2 \\\\ x_3 \\end{bmatrix}=\\begin{bmatrix} 0 \\\\ 8 \\\\ 10 \\end{bmatrix}$  \n",
    "  \n",
    "이때 $A=\\begin{bmatrix} 1&-2&1\\\\ 0&2&-8 \\\\ 5&0&-5 \\end{bmatrix}, x=\\begin{bmatrix} x_1 \\\\ x_2 \\\\ x_3 \\end{bmatrix}, b=\\begin{bmatrix} 0 \\\\ 8 \\\\ 10 \\end{bmatrix}$ 라 하자.  \n",
    "  "
   ]
  },
  {
   "cell_type": "code",
   "execution_count": 11,
   "metadata": {},
   "outputs": [
    {
     "name": "stdout",
     "output_type": "stream",
     "text": [
      "[ 1.00000000e+00  2.22044605e-16 -1.00000000e+00]\n"
     ]
    }
   ],
   "source": [
    "A = np.array([[1,-2,1],[0,2,-8],[5,0,-5]])\n",
    "B = np.array([0, 8, 10])\n",
    "# inv를 쓰면 역행렬을 구해줌\n",
    "# C가 역행렬\n",
    "C = np.linalg.inv(A)\n",
    "print(np.dot(C, B))"
   ]
  },
  {
   "cell_type": "markdown",
   "metadata": {},
   "source": [
    "A의 역행렬 코드를 썼는데 에러가 출력되지 않은 것으로 보아 A는 역행렬이 존재함을 알 수 있다.  \n",
    "위 코드를 수식으로 전개하면 다음과 같다.  \n",
    "  \n",
    "$Ax=B$  \n",
    "$A^{-1}Ax=A^{-1}b$  \n",
    "$I_3x=A^{-1}b$  \n",
    "$x=A^{-1}b$  \n",
    "  \n",
    "이 과정을 거쳐서 계산하면 1.1 Example 2에서 나온 답과 이론상 정확히 일치한다. 역행렬 코드로 계산하는 경우에는 분수나 무리수 표기가 불가능하기 때문에 불가피하게 실수 형태로 나타내다보니 두번째 성분에 대한 표기가 저렇게 나오는 것이다. 코드로 연립방정식을 계산할 때는 역행렬 코드를 쓰는 것보다는 그냥 np.linalg.solve(A,B) 형태로 쓰는 것이 낫다.  \n",
    "만일 계수행렬의 행렬식이 0이라면 어느 방법으로든 답을 구할 수 없다."
   ]
  },
  {
   "cell_type": "markdown",
   "metadata": {},
   "source": [
    "## 2.3 Characterizations of Invertible Matrices\n",
    "## (역행렬의 특징)  \n",
    "지금까지 여러 코드를 돌려보면서 알아낸 사실은 다음과 같다.\n",
    "<br/><br/>\n",
    "연립방정식의 해가 하나만 존재한다  \n",
    "&hArr; 계수행렬의 각 열벡터가 선형독립이다  \n",
    "&hArr; 계수행렬의 각 열벡터로 Span하면 그 공간의 차원은 열벡터의 개수와 같다   \n",
    "&hArr; 계수행렬의 역행렬이 존재한다  \n",
    "&hArr; 계수행렬의 행렬식이 0이 아니다  "
   ]
  },
  {
   "cell_type": "markdown",
   "metadata": {},
   "source": [
    "## 2.4 LU Factorization\n",
    "## (LU 분해)  \n",
    "주어진 행렬에 대해 컴퓨터가 계산하기 쉽도록 여러 행렬의 곱으로 나타내는 여러 방법이 존재하는데, 그 중 가장 기본적인 방법이 바로 **LU 분해(LU factorization)**이다. 임의의 $4 \\times 5$ 행렬 A를 L과 U라는 행렬로 나타내보면 대략 다음과 같다.  \n",
    "  \n",
    "$A=LU=\\begin{bmatrix} 1&0&0&0\\\\ *&1&0&0 \\\\ *&*&1&0 \\\\ *&*&*&1 \\end{bmatrix}\\begin{bmatrix} ■&*&*&*&* \\\\ 0&■&*&*&* \\\\ 0&0&0&■&* \\\\ 0&0&0&0&0\\end{bmatrix}$  \n",
    "  \n",
    "여기서 우변의 왼쪽 행렬이 L, 오른쪽 행렬이 U다. 대각성분을 기준으로 위는 모두 0인 정사각행렬(L)과 적당한 대각선(대각선에 해당되는 성분이 꼭 1이 아니어도 된다) 기준 아래쪽이 모두 0인 행렬(U)로 만드는 것이 LU 분해이다.  \n",
    "이렇게 만들면 컴퓨터 입장에서는 연립방정식을 푸는 속도가 좀 더 빨라진다. 직접 펜을 들고 만들면 굉장히 귀찮겠지만, 당연히 우리는 그러지 않을 것이고, 두 행렬을 만드는 자세한 방법도 아래 링크로 대신하기로 한다.  \n",
    "  \n",
    "https://deep-learning-study.tistory.com/311"
   ]
  },
  {
   "cell_type": "markdown",
   "metadata": {},
   "source": [
    "# Chapter 4. Vector Spaces\n",
    "# (벡터공간)"
   ]
  },
  {
   "cell_type": "markdown",
   "metadata": {},
   "source": [
    "## 4.1 Vector Spaces and Subspaces\n",
    "## (벡터공간과 부분공간)  \n",
    "**벡터공간(Vector Space)**이란 다음을 만족하는 비지 않은 집합을 의미한다.\n",
    "1. 벡터 간 합과 스칼라곱이 잘 정의됨\n",
    "2. 벡터 간 합의 교환법칙과 결합법칙이 성립\n",
    "3. 벡터에 대한 합의 항등원(0)과 역원(더했을때 0이 되는 벡터)이 V에 존재\n",
    "4. 벡터와 스칼라곱의 교환법칙과 결합법칙이 성립\n",
    "5. 벡터와 스칼라곱에 대한 항등원(1)이 존재\n",
    "6. 벡터와 스칼라곱에 대한 분배법칙이 성립  \n",
    "  \n",
    "실제로는 조건 몇몇을 여러개 묶어서 표현하긴 했지만, 어쨌든 이상의 조건들을 모두 만족하는 집합은 모두 벡터공간이고, 그 원소들을 **벡터(Vector)**라고 부른다.  \n",
    "지금까지는 열이 1개인 행렬을 열벡터라고 부르고 그 형태 위주로 설명했지만, 실제로는 위의 조건을 만족하는 집합이 있다면 **그 집합의 원소들은 생김새와는 상관없이 모두 벡터가 될 수 있는 것이다.**  \n",
    "지금까지 알고 있었던 벡터의 정의(크기와 방향이 정해진 물리량)와 $\\vec{v}$ 표기를 수학에서 잘 쓰지 않는 이유는 위처럼 훨씬 일반화된 정의가 있고, 크기와 방향을 정의하기 난감한 경우가 있기 때문이다.  \n",
    "예를 들어 벡터가 행과 열이 2개 이상인 행렬 형태일 때, 화살표 표기를 쓰면 그 크기와 방향을 도대체 어떻게 나타낼 것이란 말인가?\n",
    "<br/><br/>\n",
    "벡터공간 V의 **부분공간(Subspace)**은 다음을 만족하는 V의 부분집합이다.\n",
    "1. 영벡터가 존재  \n",
    "2. 벡터 간 합과 스칼라곱이 잘 정의됨  \n",
    "  \n",
    "벡터공간의 가장 대표적인 예는 $\\mathbb{R}^n$이 있다. 또한 벡터공간 V의 원소인 벡터 $v_1,v_2,...v_p$가 있을 때 앞에서 설명했던 $Span\\{v_1,v_2,...v_p\\}$ 또한 V의 부분공간이다."
   ]
  },
  {
   "cell_type": "markdown",
   "metadata": {},
   "source": [
    "## 4.2 Null Spaces, Column Spaces, and Linear Transformations\n",
    "## (영공간, 열공간, 선형변환)  \n",
    "**영공간(Null space)** 또는 **커널(Kernel)**은 계수행렬과 곱해서 0으로 만드는 해벡터들의 집합이다. 즉 임의의 $m \\times n$ 행렬 A와 n차원 벡터 x가 주어졌을 때, $Ax=0$를 만족하는 모든 x의 집합이 바로 영공간이다.  \n",
    "당연히 영벡터도 영공간에 속하고, Au=0, Av=0을 만드는 벡터 u,v와 임의의 스칼라 c가 있을 때, u+v도 영공간에 속하고 cu도 영공간에 속한다. 따라서 영공간은 부분공간의 성질을 만족한다.\n",
    "<br/><br/>\n",
    "**열공간(Column space)**은 계수행렬의 열벡터의 선형결합으로 이루어진 집합을 의미한다. 계수행렬의 열벡터들로 생성한 Span이 바로 열공간인 것이다. 변수에 따라 영벡터도, 열벡터 간 합도, 스칼라곱도 얼마든지 표현할 수 있으므로 열공간도 부분공간의 성질을 만족한다.     \n",
    "연립방정식을 열벡터와 각각에 대응하는 변수들의 선형방정식으로 나타낼 수 있음을 알고 있다. 만약 Ax=b에 해당하는 x가 존재한다면, b 또한 존재할 것이고, b는 열벡터에 대한 선형결합 형태가 된다. 반대로 b가 열벡터에 대한 선형결합 형태라면 그에 맞는 x도 찾을 수 있다. 따라서 **b가 열공간에 존재해야 x를 구할 수 있다.** \n",
    "헷갈릴 수 있는데, $m \\times n$ 행렬 A의 영공간은 $\\mathbb{R}^n$의 부분공간, 열공간은 $\\mathbb{R}^m$의 부분공간이다."
   ]
  },
  {
   "cell_type": "markdown",
   "metadata": {},
   "source": [
    "**선형변환(Linear transformation)**은 두 벡터공간 사이에 정의된 벡터 간 함수다. 선형변환을 쉽게 말하자면 다른 나라로 여행을 갈 때 그 나라의 언어, 문화, 예절을 배우고 써먹는 것이라 생각하면 된다. 벡터공간 V에서 W로 가는 선형변환 T(x)는 다음을 만족함으로서 정의된다.\n",
    "1. V의 임의의 벡터 u,v에 대해 $T(u+v)=T(u)+T(v)$\n",
    "2. V의 임의의 벡터 u와 모든 스칼라 c에 대해 $T(cu)=cT(u)$  \n",
    "  \n",
    "영벡터를 선형변환시키면 반드시 영벡터가 나온다. 위의 정의만으로 증명을 할 수 있으며 크게 어렵지 않다. 따라서 선형변환이 만드는 공간은 부분공간의 성질을 만족한다.  \n",
    "  \n",
    "선형변환은 크게 세가지로 나눌 수 있는데, V의 모든 원소가 W의 원소와 하나씩 대응되는 경우를 **일대일(One-to-one)**, W의 원소에 대해 V와 대응되는 경우가 단 하나라도 존재할 경우를 **대응(Onto)**, 일대일과 대응의 성질을 모두 갖는 경우를 **일대일 대응(One-to-one correspondence)**이라고 한다."
   ]
  },
  {
   "cell_type": "markdown",
   "metadata": {},
   "source": [
    "## 4.3 Linearly Independent Sets; Bases\n",
    "## (선형독립집합과 기저)  \n",
    "벡터공간 V의 부분공간 H가 있다고 하자. 다음의 두가지 조건을 만족하는 V의 벡터들의 집합 $B=\\{b_1,b_2,... ,b_p\\}$을 H의 **기저(Basis)**라고 한다.  \n",
    "1. $B$의 원소들끼리는 선형독립\n",
    "2. $H=Span\\{b_1,b_2,... ,b_p\\}$  \n",
    "  \n",
    "쉬운 예로, $\\mathbb{R}^3$ 공간을 만드는 기저는 $\\begin{bmatrix} 1 \\\\ 0 \\\\ 0 \\end{bmatrix},\\begin{bmatrix} 0 \\\\ 1 \\\\ 0 \\end{bmatrix},\\begin{bmatrix} 0 \\\\ 0 \\\\ 1 \\end{bmatrix}$로 잘 알려져 있다. 이렇게 하나의 성분이 1이고 나머지 성분이 0인 벡터들이 기저라면 특별히 **표준기저(Standard basis)**라고 하며, 굳이 표준기저 외에도 각 벡터들이 선형독립이면 마찬가지로 그 벡터들은 벡터들이 만드는 부분공간의 기저가 된다.\n",
    "<br/><br/>\n",
    "만일 각 벡터들이 선형독립이 아니라면, 다른 벡터들의 선형결합으로 만들수 있는 벡터를 지워야 한다. 이 과정을 반복해서 남은 나머지 벡터들이 선형독립이라면, 이제 그 벡터들이 부분공간의 기저가 되며, 이를 **생성집합 정리(Spanning set theorem)**이라고 한다.  \n",
    "열공간을 이루는 열벡터를 찾는 건 너무 쉬우므로 기저를 찾기 위해 생성집합 정리를 그대로 이용하면 그대로 열공간의 기저를 구할 수 있다.  \n",
    "영공간의 기저를 구하려면 그저 연립방정식을 풀면 된다. 만일 연립방정식의 계수행렬에 대해 열벡터가 선형독립을 이룬다면, 영공간은 {0}이 되고 기저는 영벡터 단 하나뿐이다. 하지만 선형독립이 아니라면 어떻게 해야 할까?"
   ]
  },
  {
   "cell_type": "markdown",
   "metadata": {},
   "source": [
    "### Example 1. 다음 행렬의 영공간을 구하고, 기저를 찾아보자.\n",
    "$\\begin{bmatrix} 1&0&-5 \\\\ 0&1&1\\end{bmatrix}$  "
   ]
  },
  {
   "cell_type": "markdown",
   "metadata": {},
   "source": [
    "## 4.4 Coordinate Systems\n",
    "## (좌표계)  \n",
    "벡터공간에는 기본적으로 기저가 존재한다. 그 벡터공간의 임의의 벡터에 대해, 기저에 대한 선형결합으로 나타낼 수 있는데, 이 선형결합 형태는 유일하다. 이것을 **유일표현 정리(Unique representation theorem)**라고 한다.  \n",
    "또한 벡터공간에는 기저의 종류가 하나만 있지 않다. 앞서 말했듯 기저의 정의만 만족하면 상황에 따라 언제든지 다른 형태의 기저를 만들 수 있다. 벡터공간 V의 기저 $\\mathcal{B}=\\{b_1, b_2, \\cdots , b_n\\}$로 같은 공간의 벡터 x를 $x=c_1b_1+c_2b_2+\\cdots +c_nb_n$처럼 선형결합 형태로 나타냈을 때, 각 벡터의 계수 $c_1, c_2,\\cdots ,c_n$만 따로 모은 벡터 $\\begin{bmatrix} c_1\\\\c_2\\\\ \\vdots \\\\ c_n\\end{bmatrix}$를 **기저 $\\mathcal{B}$에 대한 좌표벡터(Coordinate vector relative to basis $\\mathcal{B}$)**라고 한다. 우리가 지금까지 가로세로 반듯한 좌표평면에서 특정 벡터에 대한 위치를 표시한 것은, 표준기저를 바탕으로 한 좌표벡터의 위치를 찍은 것이다. 만약 기저가 다르다면 좌표평면도 그에 맞춰 축의 기울기가 달라지며, 같은 벡터라 해도 점의 위치가 완전히 달라진다."
   ]
  },
  {
   "cell_type": "markdown",
   "metadata": {},
   "source": [
    "### Example 2. 표준기저에서 주어진 벡터를 새로운 기저에 대한 선형변환으로 나타내고 좌표벡터를 구해보자.\n",
    "$x=\\begin{bmatrix} 4\\\\5\\end{bmatrix}, \\mathcal{B}=\\{\\begin{bmatrix} 2\\\\1\\end{bmatrix}, \\begin{bmatrix} -1\\\\1\\end{bmatrix}\\}$"
   ]
  },
  {
   "cell_type": "code",
   "execution_count": null,
   "metadata": {},
   "outputs": [],
   "source": [
    "A = np.array([[2,-1],[1,1]])\n",
    "x = np.array([4,5])\n",
    "np.linalg.solve(A, x)"
   ]
  },
  {
   "cell_type": "markdown",
   "metadata": {},
   "source": [
    "방법은 일반적인 연립방정식 풀때와 똑같다. 다만 지금까지 Ax=b라는 형태에서 x를 구했다면,  \n",
    "여기서는 A가 $\\mathcal{B}$의 기저행렬, x가 x의 $\\mathcal{B}$에 대한 좌표벡터, b가 x로 바뀌었다는 것뿐이다.\n",
    "<br/><br/>\n",
    "이처럼 차원이 같은 벡터공간의 특정 기저에 대한 좌표를 나타내고자 기저들을 모아 하나의 형태로 합친 행렬을 **좌표변환행렬(Change-of-coordinate matrix)**이라고 하며, 표준기저 위의 벡터를 기저 $\\mathcal{B}$ 위의 벡터로 표현하려 한다면 좌표변환행렬을 $P_\\mathcal{B}$라고 표기하면 된다.  \n",
    "위 예제의 경우에는 $P_\\mathcal{B}=\\begin{bmatrix} 2&-1\\\\1&1\\end{bmatrix}$이라 할 수 있다.  \n",
    "실생활을 예시로 들면 다른 나라로 여행갈 때 그 나라의 공용 문자를 써서 이름을 표기하는 것이다.  \n",
    "<br/><br/>\n",
    "벡터공간의 기저들은 선형독립이므로 좌표변환행렬은 역행렬이 존재하며, 특정 벡터에 좌표변환행렬의 역행렬을 곱하면 처음 벡터공간의 좌표벡터로 표현이 된다.  \n",
    "위 예제의 답으로 출력된 벡터를 좌표변환행렬의 역행렬 $P_\\mathcal{B}^{-1}$과 곱하면 다시 표준기저에 대한 좌표벡터 형태로 나오게 된다.  "
   ]
  },
  {
   "cell_type": "markdown",
   "metadata": {},
   "source": [
    "지금까지 이런 형태의 벡터공간만 다뤄서 까먹을 수 있지만, 벡터공간은 정의만 잘 되면 실수로도, 행렬로도, 함수로도, 심지어는 벡터공간 자체를 벡터로 나타낼 수 있다. 그리고 벡터의 형태가 어떻든 두 벡터공간의 기저가 제대로 정의됐고 차원이 동일하다면 마찬가지로 좌표벡터를 바꾸는 선형변환을 만들 수 있다.\n",
    "<br/><br/>\n",
    "(벡터의 형태가 어떻던 간에) 차원이 동일한 두 벡터공간에 대한 일대일 선형사상이 존재하면, 그 선형사상은 일대일 대응사상이 되며, 이 경우 V와 W는 **동형(Isomorphic)**이라고 한다. 그리고 동형인 두 벡터공간에 대한 사상을 **동형사상(Isomorphism)**이라고 한다.  \n",
    "동형사상은 매우 중요한 개념인데, 기저가 잘 정의되어있고 차원의 수가 같다면 **선형변환을 통해 한 벡터공간에서 성립되는 온갖 연산, 정리, 성질들을 다른 벡터공간에서 똑같이 적용할 수 있기 때문이다.** 서든어택이나 카운터 스트라이크같은 FPS 게임을 오래 하던 사람이 베그같은 다른 FPS로 같아탄다 해도 금방 적응하는 것을 떠올리면 쉽다."
   ]
  },
  {
   "cell_type": "markdown",
   "metadata": {},
   "source": [
    "## 4.5 The Dimension of A Vector Space\n",
    "## (벡터공간의 차원)  \n",
    "벡터공간의 **차원(Dimension)**은 그 공간을 이루는 기저의 개수이다. 그 기저의 개수가 유한하다면 **유한차원 공간(Finite-dimensional space)**이 되고, 기저의 개수가 무한하다면 **무한차원 공간(Ininite-dimensional space)**이 된다. 부분공간의 차원은 당연히 그 부분공간을 포함하는 벡터공간의 차원보다 작거나 같다.\n",
    "<br/><br/>\n",
    "또한 p차원 벡터공간 V에 대해 p개의 벡터가 선형독립을 이룬다면 그 p개의 벡터들은 자동으로 V의 기저가 되며, 그 p개의 벡터들로 생성된 공간이 바로 V가 된다는 것이 바로 **기저 정리(Basis theorem)**이다.  \n",
    "이 정리가 중요한 이유는 계수행렬의 열벡터로 만든 열공간의 기저를 찾는 것만으로 **그 연립방정식을 풀 수 있는지 없는지 여부를 알 수 있고**, 영공간의 기저를 찾는 것만으로 **그 연립방정식의 모든 해의 형태를 일반화할 수 있기 때문이다.**"
   ]
  },
  {
   "cell_type": "markdown",
   "metadata": {},
   "source": [
    "## 4.6 Rank\n",
    "## (랭크)\n",
    "**랭크(Rank)**는 열공간의 차원을 의미한다. $m \\times n$ 행렬 A에 대해 랭크 개념과 차원 개념을 이용해 $rankA+dimNulA=n$이라는 식을 만들 수 있는데, 이것이 바로 **랭크 정리(Rank theorem)**이다.  \n",
    "말로 간단히 설명하면 **열공간의 차원($rankA$)과 영공간의 차원($dimNulA$)을 더하면 그게 행렬의 열의 개수(n)**라는 것이다.\n",
    "<br/><br/>\n",
    "우리는 이 정리를 이용해 영공간의 차원을 알기 위해 영공간을 직접 찾는 귀찮은 짓을 하는 대신 A의 랭크를 찾음으로서 영공간의 차원을 바로 알 수 있다."
   ]
  },
  {
   "cell_type": "markdown",
   "metadata": {},
   "source": [
    "지금까지 배운 내용을 바탕으로 연립방정식의 해가 하나만 존재하는 조건을 정리하면 다음과 같다.  \n",
    "<br/><br/>\n",
    "변수가 n개인 선형연립방정식의 해가 하나만 존재한다  \n",
    "&hArr; 계수행렬의 각 열벡터가 선형독립이다  \n",
    "&hArr; 계수행렬의 각 열벡터로 Span하면 그 공간의 차원은 열벡터의 개수와 같다 **(&hArr; 계수행렬의 랭크가 n이다 &hArr; 계수행렬의 열공간의 기저는 계수행렬의 모든 열벡터들이다 &hArr; 계수행렬의 열공간은 $\\mathbb{R}^n$이다)  \n",
    "&hArr; 계수행렬의 역행렬이 존재한다  \n",
    "&hArr; 계수행렬의 행렬식이 0이 아니다  \n",
    "&hArr; 계수행렬의 영공간의 차원이 0이다 (&hArr; 계수행렬의 영공간의 기저는 영벡터 하나뿐이다)**  \n"
   ]
  },
  {
   "cell_type": "markdown",
   "metadata": {},
   "source": [
    "# 5. Eigenvalues and Eigenvectors\n",
    "# (고유값과 고유벡터)"
   ]
  },
  {
   "cell_type": "markdown",
   "metadata": {},
   "source": [
    "## 5.1 Eigenvalues and Eigenvectors\n",
    "## (고유벡터와 고유값)\n",
    "어떤 행렬과 어떤 벡터를 곱했는데 신기하게도 그 결과가 곱한 벡터의 스칼라배로 나오는 경우가 있다.  \n",
    "  \n",
    "예를 들어 $A=\\begin{bmatrix} 3&-2\\\\1&0\\end{bmatrix}$, $v=\\begin{bmatrix} 2\\\\1\\end{bmatrix}$로 주어졌을 때, 둘을 곱한 $Av$는 $\\begin{bmatrix} 3&-2\\\\1&0\\end{bmatrix}\\begin{bmatrix} 2\\\\1\\end{bmatrix}=\\begin{bmatrix} 4\\\\2\\end{bmatrix}$가 되는데, 이 값은 v에 2를 곱한 결과와 같다.  \n",
    "  \n",
    "이렇게 행렬 A와 벡터 x에 대해 Ax가 x의 스칼라배 형태로 나오는 경우, 그 벡터를 **고유벡터(Eigenvector)**라 하며, 해당 스칼라를 **고유값(Eigenvalue)**라고 한다. 고유값은 각 고유벡터와 대응하며, 보통 람다($\\lambda$, lambda)로 표기한다.  \n",
    "이때 A는 기본적으로 정사각행렬이다. 만일 정사각행렬이 아니면 처음 벡터와 행렬을 곱하고 나온 벡터 간 성분의 개수가 다르므로 고유벡터와 고유값의 정의 자체가 불가능하기 때문이다.  \n",
    "만약 어떤 행렬에 대해 고유벡터와 이에 해당하는 고유값이 존재한다면, 귀찮게 행렬을 일일이 계산할 필요없이 고유값의 몇 배에 해당하는 값만 곱하면 그만이므로 계산이 상당히 편해진다."
   ]
  },
  {
   "cell_type": "markdown",
   "metadata": {},
   "source": [
    "### Example 1. 고유벡터 판정하기\n",
    "다음 행렬들의 고유값과 고유벡터를 확인해보자.  \n",
    "  \n",
    "1. $A=\\begin{bmatrix} 1&6\\\\5&2\\end{bmatrix}$  \n",
    "<br/><br/>\n",
    "2. $B=\\begin{bmatrix} 4&-1&6\\\\2&1&6\\\\2&-1&8\\end{bmatrix}$"
   ]
  },
  {
   "cell_type": "code",
   "execution_count": null,
   "metadata": {},
   "outputs": [],
   "source": [
    "A = np.array([[1,6],[5,2]])\n",
    "lam, lamvec = np.linalg.eig(A) # np.linalg.eig(A) : A의 고유값과 이에 대한 고유벡터 출력\n",
    "print(lam)\n",
    "print()\n",
    "print(lamvec)"
   ]
  },
  {
   "cell_type": "code",
   "execution_count": null,
   "metadata": {},
   "outputs": [],
   "source": [
    "A = np.array([[1,6],[5,2]])\n",
    "lam, lamvec = np.linalg.eig(A) # np.linalg.eig(A) : A의 고유값과 이에 대한 고유벡터 출력\n",
    "print(lamvec[:, 0]) # lam = -4일 때의 고유벡터 출력\n",
    "print()\n",
    "print(lamvec[:, 1]) # lam = 7일 때의 고유벡터 출력"
   ]
  },
  {
   "cell_type": "code",
   "execution_count": null,
   "metadata": {},
   "outputs": [],
   "source": [
    "B = np.array([[4,-1,6],[2,1,6],[2,-1,8]])\n",
    "lam, lamvec = np.linalg.eig(B)\n",
    "print(lam)\n",
    "print()\n",
    "print(lamvec)"
   ]
  },
  {
   "cell_type": "code",
   "execution_count": null,
   "metadata": {},
   "outputs": [],
   "source": [
    "print(lamvec[:, 0])\n",
    "print()\n",
    "print(lamvec[:, 1])\n",
    "print()\n",
    "print(lamvec[:, 2])"
   ]
  },
  {
   "cell_type": "markdown",
   "metadata": {},
   "source": [
    "행렬 B의 고유값 $\\lambda$에 대응하는 고유벡터가 이루는 공간을 **$\\lambda$에 대응하는 B의 고유공간(Eigenspace of B corresponding $\\lambda$)**라고 한다.  \n",
    "고유공간을 구할 때 $Ax=\\lambda x$에 벡터 하나하나를 일일이 대입하면서 직접 계산하는 것은 심각한 노가다를 요구할 뿐더러 행렬의 크기가 커지면 이 방식으로 구하는 것은 불가능에 가깝다. 때문에 이보다는 $Ax=\\lambda x$ &hArr; $(A-\\lambda I)x=0$임을 이용해 계산하는 것이 훨씬 낫다. \n",
    "<br/><br/>\n",
    "만일 **행렬의 고유값 개수가 딱 그 행렬의 행(열) 개수와 같다면, 그 행렬의 열벡터들은 선형독립이다.** 증명은 선형독립이 아니라는 가정 하에 모순을 보이는 식(귀류법)으로 보일 수 있는데, 자세한 설명은 생략한다.  \n",
    "Example 1의 행렬 A는 고유값 개수와 행(열) 개수가 일치하므로 A의 열벡터들은 선형독립이며, 즉 역행렬이 존재한다."
   ]
  },
  {
   "cell_type": "markdown",
   "metadata": {},
   "source": [
    "## 5.2 Characteristic Equation\n",
    "## (특성방정식)  \n",
    "행렬 A에 대해 $\\lambda$라는 고유값과 그에 대응하는 x라는 고유벡터가 존재한다면, $(A-\\lambda I)x=0$라는 방정식은 0뿐만 아니라 그 고유벡터도 해가 될 수 있기 때문에 $A-\\lambda I$ 는 기본적으로 행렬식이 0이다. 이 개념을 이용해 임의의 고유값에 대한 다항방정식을 세울 수 있는데, 이 방정식을 **특성방정식(Characteristic equation)**이라 한다."
   ]
  },
  {
   "cell_type": "markdown",
   "metadata": {},
   "source": [
    "### Example 2. 다음 행렬의 특성방정식과 고유값을 구해보자.\n",
    "$A=\\begin{bmatrix} 3&-2\\\\1&0\\end{bmatrix}$"
   ]
  },
  {
   "cell_type": "markdown",
   "metadata": {},
   "source": [
    "같은 크기의 A, B에 대해 역행렬이 존재하는 어떤 행렬 P가 있어 $A=P^{-1}BP$ 형태로 나타낼 수 있다면, 두 행렬은 서로 **유사행렬(Similar matrix)**이라고 하며, 두 행렬의 특성을 **유사성(Similarity)**이라 한다. 두 행렬이 서로 유사하다면 두 행렬의 특성방정식은 똑같다. 하지만 역으로 특성방정식이 똑같은 두 행렬이 서로 유사하다는 보장은 없다."
   ]
  },
  {
   "cell_type": "markdown",
   "metadata": {},
   "source": [
    "## 5.3 Diagonalization\n",
    "## (대각화)  \n",
    "다음 예제를 먼저 풀어보자."
   ]
  },
  {
   "cell_type": "markdown",
   "metadata": {},
   "source": [
    "###  Example 3. 다음 행렬을 두번, 세번, 원하는 횟수만큼 거듭제곱해보자.  \n",
    "$D=\\begin{bmatrix} 5&0\\\\0&3\\end{bmatrix}$"
   ]
  },
  {
   "cell_type": "code",
   "execution_count": null,
   "metadata": {},
   "outputs": [],
   "source": [
    "D = np.array([[5,0],[0,3]])\n",
    "print(np.dot(D,D)) # D를 제곱\n",
    "print()\n",
    "D2 = np.dot(D,D)\n",
    "print(np.dot(D2,D)) # D를 세제곱\n",
    "print()\n",
    "\n",
    "n=int(input()) # 입력받은 수만큼 행렬을 거듭제곱해보자\n",
    "F = D\n",
    "for i in range(n):\n",
    "    F = np.dot(D,F)\n",
    "print(F) # D를 n번 거듭제곱한 행렬"
   ]
  },
  {
   "cell_type": "markdown",
   "metadata": {},
   "source": [
    "그렇다면 이것이 방금 전에 배운 유사성과 무슨 연관이 있을까?"
   ]
  },
  {
   "cell_type": "markdown",
   "metadata": {},
   "source": [
    "서로 유사한 A, D가 있다고 하자. 여기서 D는 대각행렬이다. 그러면 역행렬이 존재하는 어떤 행렬 P가 있어 $A=P^{-1}DP$ 형태로 나타낼 수 있고, 이를 k번 거듭제곱하면  \n",
    "$A^k = \\underbrace{(P^{-1}DP)(P^{-1}DP)\\cdots(P^{-1}DP)}_{k}=P^{-1}DPP^{-1}DP \\cdots P^{-1}DP=P^{-1}\\underbrace{DD \\cdots D}_{k}P=P^{-1} D^k P$  \n",
    "이 된다. 즉 A와 유사한 대각행렬이 존재한다면, A를 직접 거듭제곱하는 것보다 유사행렬을 거듭제곱하는 것이 훨씬 편리할 것이다. 이렇게 A의 유사행렬이 대각행렬이라면, A는 **대각화 가능 행렬(Diagonalizable matrix)**이라고 한다.  \n",
    "대각화 가능 행렬은 열벡터 개수만큼의 고유벡터를 가지며, 고유벡터들은 모두 선형독립이다. 역으로 어떤 행렬의 고유벡터들이 모두 선형독립이면 그 행렬은 대각화 가능 행렬이다. 이를 **대각화 정리(Diagonalization theorem)**라고 한다. 고유벡터가 모두 선형독립이므로 고유공간의 차원은 고유벡터(열벡터)의 개수가 된다."
   ]
  },
  {
   "cell_type": "markdown",
   "metadata": {},
   "source": [
    "대각화 행렬의 P와 대각행렬 D를 구하려면 먼저 A의 특성방정식을 세우고 고유값과 그에 대응하는 고유벡터들을 구한 다음 고유값의 개수가 A의 열벡터 개수와 같은지 확인해야 한다. 만일 개수가 서로 다르다면 그 행렬은 대각화가 불가능하다.  \n",
    "다행히 개수가 서로 똑같다면 그 고유벡터들을 한데 모아 이은 행렬이 P가 되며, 그 고유벡터에 대응하는 순서대로 대각성분에 고유값을 넣은 대각행렬이 D가 된다.  \n",
    "이 부분은 교재를 참고하길 바라며, 자세한 예시는 생략한다."
   ]
  },
  {
   "cell_type": "markdown",
   "metadata": {},
   "source": [
    "## 5.4 Eigenvectors and Linear Transformations\n",
    "## (고유벡터와 선형변환)  \n",
    "4.2에서 어떤 벡터공간의 벡터 x를 선형변환을 통해 다른 벡터공간에 알맞는 형태로 바꿀 수 있었다.  \n",
    "또한 4.4에서 어떤 x에 대해 좌표변환행렬을 곱해서 다른 벡터공간의 기저에 대한 좌표로 표현하고, 그 반대로 할 수 있는 것을 배웠다.\n",
    "<br/><br/>\n",
    "그렇다면 이 두 과정을 합쳐서, 어떤 벡터공간의 x를 다른 벡터공간의 선형변환을 한 뒤 그에 맞는 좌표벡터만 출력하게 하는 것이 가능할 것이다. 순서를 바꿔서 x가 있던 벡터공간에 대한 좌표벡터를 먼저 찾은 다음 선형변환을 해서 다른 벡터공간에서의 좌표가 나오게 하는 것도 가능하다.  \n",
    "후자의 경우 원래 벡터공간의 기저를 다른 벡터공간의 기저에 대한 선형변환으로 만들고, 이에 대한 좌표벡터를 구해서 하나로 합치면 **다른 벡터공간에서의 좌표벡터가 나오게 하는 선형변환**을 만들 수 있으며, 이걸 행렬로 표현할 수 있다. 이 행렬을 **기저변환행렬(Transition matrix)**이라고 한다.  "
   ]
  },
  {
   "cell_type": "markdown",
   "metadata": {},
   "source": [
    "### Example 4. 기저변환행렬을 만들어보자.\n",
    "두 벡터공간 V,W의 기저 $\\mathcal{B}=\\{b_1,b_2\\}$,$\\mathcal{C}=\\{c_1,c_2,c_3\\}$가 있고, V에서 W로 가는 선형변환 $T:V \\rightarrow W$가 있어 다음을 만족한다고 하자.  \n",
    "  \n",
    "$T(b_1)=3c_1-2c_2+5c_3$  \n",
    "  \n",
    "$T(b_2)=4c_1+7c_2-c_3$  \n",
    "  \n",
    "1. V의 기저 $b_1, b_2$의 $\\mathcal{C}$에 대한 좌표벡터를 구하라.\n",
    "2. 두 벡터를 하나의 행렬로 합쳐 기저변환행렬을 만들어라."
   ]
  },
  {
   "cell_type": "markdown",
   "metadata": {},
   "source": [
    "첩보영화에서 자신의 본래 신분을 숨기고 다른 사람으로 위장해서 그 나라에 입국하는 것을 생각해보자. 그 신분을 변경하는 시스템이 바로 기저변환행렬이다.\n",
    "<br/><br/>\n",
    "A와 D가 서로 유사한 행렬이어서 $A=PDP^{-1}$이고, T(x)에서 Ax로 가는 선형변환 $T:x \\rightarrow Ax$가 있다 하자. $\\mathcal{B}$가 P의 열벡터로 이루어진 기저라면 D는 같은 벡터공간에 대한 기저변환행렬이 되는데, 이것을 **대각행렬 표현(Diagonal matrix representation)**이라 한다. 이 정리의 장점은 **어떤 벡터의 형태를 바꾸기 위해서 선형변환을 하려 하는데, 그것을 행렬곱 한번으로 가능하게 만드는 것이다.**"
   ]
  }
 ],
 "metadata": {
  "kernelspec": {
   "display_name": "Python 3",
   "language": "python",
   "name": "python3"
  },
  "language_info": {
   "codemirror_mode": {
    "name": "ipython",
    "version": 3
   },
   "file_extension": ".py",
   "mimetype": "text/x-python",
   "name": "python",
   "nbconvert_exporter": "python",
   "pygments_lexer": "ipython3",
   "version": "3.8.5"
  }
 },
 "nbformat": 4,
 "nbformat_minor": 4
}
