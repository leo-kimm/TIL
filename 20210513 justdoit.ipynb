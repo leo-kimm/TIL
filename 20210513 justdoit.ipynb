{
 "cells": [
  {
   "cell_type": "code",
   "execution_count": null,
   "metadata": {},
   "outputs": [],
   "source": [
    "def solution(n):\n",
    "    if n==1:\n",
    "        return 4\n",
    "    for i in range(1,n):\n",
    "        if n/i == i:\n",
    "            return (i+1)*(i+1)\n",
    "        elif i==n-1:\n",
    "            return -1\n",
    "        "
   ]
  },
  {
   "cell_type": "code",
   "execution_count": 14,
   "metadata": {},
   "outputs": [
    {
     "name": "stdout",
     "output_type": "stream",
     "text": [
      "time : 0.10798859596252441\n"
     ]
    },
    {
     "data": {
      "text/plain": [
       "191"
      ]
     },
     "execution_count": 14,
     "metadata": {},
     "output_type": "execute_result"
    }
   ],
   "source": [
    "import time\n",
    "start = time.time()  # 시작 시간 저장\n",
    "\n",
    "def solution(n):\n",
    "    answer = []\n",
    "    \n",
    "    for i in range(2,n+1):\n",
    "        cnt = 0\n",
    "        for j in range(1,n+1):\n",
    "            if i%j==0:\n",
    "                cnt+=1\n",
    "        if cnt == 2:\n",
    "            answer.append(i)\n",
    "    print(\"time :\", time.time() - start)\n",
    "    return len(answer)\n",
    "\n",
    "solution(1156)\n"
   ]
  },
  {
   "cell_type": "code",
   "execution_count": 15,
   "metadata": {},
   "outputs": [
    {
     "name": "stdout",
     "output_type": "stream",
     "text": [
      "45\n",
      "time : 0.0029990673065185547\n"
     ]
    }
   ],
   "source": [
    "start = time.time()  # 시작 시간 저장\n",
    "\n",
    "\n",
    "def solution(n):\n",
    "    answer = 0\n",
    "    \n",
    "    for i in range(2,n+1):\n",
    "        cnt = 0\n",
    "        for j in range(1,n+1):\n",
    "            if i%j==0:\n",
    "                cnt+=1\n",
    "        if cnt == 2:\n",
    "            answer+=1\n",
    "    \n",
    "    return answer\n",
    "\n",
    "print(solution(198))\n",
    "print(\"time :\", time.time() - start)"
   ]
  },
  {
   "cell_type": "code",
   "execution_count": 16,
   "metadata": {},
   "outputs": [
    {
     "name": "stdout",
     "output_type": "stream",
     "text": [
      "45\n",
      "time : 0.002034425735473633\n"
     ]
    }
   ],
   "source": [
    "start = time.time()  # 시작 시간 저장\n",
    "\n",
    "\n",
    "def solution(n):\n",
    "    answer = 0\n",
    "    \n",
    "    for i in range(2,n+1):\n",
    "        cnt = 0\n",
    "        if n==2:\n",
    "            return 1\n",
    "        elif n==3:\n",
    "            return 2\n",
    "        else:\n",
    "            \n",
    "            for j in range(1,n+1):\n",
    "                if i%2 == 0:\n",
    "                    break\n",
    "                elif i%j==0:\n",
    "                    cnt+=1\n",
    "                    if cnt > 2:\n",
    "                        break\n",
    "            if cnt == 2:\n",
    "                answer+=1\n",
    "        \n",
    "    return answer+1\n",
    "\n",
    "print(solution(198))\n",
    "print(\"time :\", time.time() - start)"
   ]
  },
  {
   "cell_type": "code",
   "execution_count": 18,
   "metadata": {},
   "outputs": [
    {
     "name": "stdout",
     "output_type": "stream",
     "text": [
      "45\n",
      "time : 0.002000093460083008\n"
     ]
    }
   ],
   "source": [
    "start = time.time()  # 시작 시간 저장\n",
    "\n",
    "\n",
    "def solution(n):\n",
    "    answer = 0\n",
    "    \n",
    "    for i in range(2,n+1):\n",
    "        cnt = 0\n",
    "        if n==2:\n",
    "            return 1\n",
    "        elif n==3:\n",
    "            return 2\n",
    "        else:\n",
    "            \n",
    "            for j in range(1,n+1):\n",
    "                if i%2 == 0:\n",
    "                    break\n",
    "                elif i%j==0:\n",
    "                    cnt+=1\n",
    "                    if cnt > 2:\n",
    "                        break\n",
    "            if cnt == 2:\n",
    "                answer+=1\n",
    "        \n",
    "    return answer+1\n",
    "\n",
    "print(solution(198))\n",
    "print(\"time :\", time.time() - start)"
   ]
  },
  {
   "cell_type": "code",
   "execution_count": 17,
   "metadata": {},
   "outputs": [
    {
     "name": "stdout",
     "output_type": "stream",
     "text": [
      "45\n",
      "time : 0.00099945068359375\n"
     ]
    }
   ],
   "source": [
    "start = time.time()  # 시작 시간 저장\n",
    "\n",
    "\n",
    "def solution(n):\n",
    "    a = [False,False] + [True]*(n-1)\n",
    "    answer=[]\n",
    "\n",
    "    for i in range(2,n+1):\n",
    "        if a[i]:\n",
    "            answer.append(i)\n",
    "        for j in range(2*i, n+1, i):\n",
    "            a[j] = False\n",
    "    return len(answer)\n",
    "\n",
    "print(solution(198))\n",
    "print(\"time :\", time.time() - start)"
   ]
  },
  {
   "cell_type": "code",
   "execution_count": null,
   "metadata": {},
   "outputs": [],
   "source": []
  },
  {
   "cell_type": "code",
   "execution_count": null,
   "metadata": {},
   "outputs": [],
   "source": []
  }
 ],
 "metadata": {
  "kernelspec": {
   "display_name": "Python 3",
   "language": "python",
   "name": "python3"
  },
  "language_info": {
   "codemirror_mode": {
    "name": "ipython",
    "version": 3
   },
   "file_extension": ".py",
   "mimetype": "text/x-python",
   "name": "python",
   "nbconvert_exporter": "python",
   "pygments_lexer": "ipython3",
   "version": "3.8.5"
  }
 },
 "nbformat": 4,
 "nbformat_minor": 4
}
