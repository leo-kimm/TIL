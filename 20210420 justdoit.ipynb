{
 "cells": [
  {
   "cell_type": "code",
   "execution_count": null,
   "metadata": {},
   "outputs": [],
   "source": [
    "#문자열 정수로 만들기\n",
    "\n",
    "def solution(s):\n",
    "    answer = s\n",
    "    result = 0\n",
    "    if s[0] == '+':\n",
    "        result += int(s[1:])\n",
    "        return result\n",
    "    elif s[0] == '-':\n",
    "        result += (0-int(s[1:]))\n",
    "        return result\n",
    "    else:\n",
    "        result += int(answer)\n",
    "        return result"
   ]
  },
  {
   "cell_type": "code",
   "execution_count": 1,
   "metadata": {},
   "outputs": [],
   "source": [
    "#문자열 정수로 만들기\n",
    "\n",
    "def solution(s):\n",
    "    answer = int(s)\n",
    "    return answer"
   ]
  },
  {
   "cell_type": "code",
   "execution_count": 9,
   "metadata": {},
   "outputs": [
    {
     "data": {
      "text/plain": [
       "'bc'"
      ]
     },
     "execution_count": 9,
     "metadata": {},
     "output_type": "execute_result"
    }
   ],
   "source": [
    "#가운데 글자 가져오기\n",
    "\n",
    "def solution(s):\n",
    "    answer = ''\n",
    "    if len(s) %2 == 0:\n",
    "        answer += s[len(s)//2-1]+s[len(s)//2]\n",
    "    else:\n",
    "        answer += s[len(s)//2]\n",
    "    return answer"
   ]
  },
  {
   "cell_type": "code",
   "execution_count": null,
   "metadata": {},
   "outputs": [],
   "source": []
  }
 ],
 "metadata": {
  "kernelspec": {
   "display_name": "Python 3",
   "language": "python",
   "name": "python3"
  },
  "language_info": {
   "codemirror_mode": {
    "name": "ipython",
    "version": 3
   },
   "file_extension": ".py",
   "mimetype": "text/x-python",
   "name": "python",
   "nbconvert_exporter": "python",
   "pygments_lexer": "ipython3",
   "version": "3.8.5"
  }
 },
 "nbformat": 4,
 "nbformat_minor": 4
}
