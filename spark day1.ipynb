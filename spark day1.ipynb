{
 "cells": [
  {
   "cell_type": "code",
   "execution_count": 1,
   "id": "d0999dcd",
   "metadata": {},
   "outputs": [],
   "source": [
    "import numpy as np\n",
    "import time\n",
    "\n",
    "sc = SparkContext.getOrCreate()"
   ]
  },
  {
   "cell_type": "code",
   "execution_count": 2,
   "id": "08365f5a",
   "metadata": {},
   "outputs": [],
   "source": [
    "MAX = 100000\n",
    "\n",
    "rdd = sc.parallelize([i for i in range(3, MAX+1)], 10)\n",
    "\n",
    "def get_prime(num):\n",
    "    \n",
    "    isPrime = True\n",
    "    \n",
    "    for index in range(2,num):\n",
    "        \n",
    "        if num % index == 0:\n",
    "            \n",
    "            isPrime = False\n",
    "            \n",
    "            break\n",
    "            \n",
    "    if isPrime == True:\n",
    "        \n",
    "        return num"
   ]
  },
  {
   "cell_type": "code",
   "execution_count": 3,
   "id": "33409999",
   "metadata": {},
   "outputs": [
    {
     "name": "stdout",
     "output_type": "stream",
     "text": [
      "소요시간 =  18.285500049591064\n"
     ]
    }
   ],
   "source": [
    "start = time.time()\n",
    "\n",
    "prime_list = rdd.map(get_prime).collect()\n",
    "\n",
    "end = time.time()\n",
    "\n",
    "print('소요시간 = ', end-start)"
   ]
  },
  {
   "cell_type": "code",
   "execution_count": 4,
   "id": "7571a182",
   "metadata": {},
   "outputs": [
    {
     "name": "stdout",
     "output_type": "stream",
     "text": [
      "소요시간 =  56.895796060562134\n"
     ]
    }
   ],
   "source": [
    "lst01 = [i for i in range(3, MAX+1)]\n",
    "\n",
    "prime_list = list(map(get_prime, lst01))\n",
    "\n",
    "end = time.time()\n",
    "\n",
    "print('소요시간 = ', end-start)"
   ]
  },
  {
   "cell_type": "code",
   "execution_count": 5,
   "id": "22a7ec9d",
   "metadata": {},
   "outputs": [
    {
     "data": {
      "text/plain": [
       "DataFrame[Outlook: string, Temperature: string, Humidity: string, Wind: string, PlayTennis: string]"
      ]
     },
     "execution_count": 5,
     "metadata": {},
     "output_type": "execute_result"
    }
   ],
   "source": [
    "df = spark.read.csv('playtennis.csv', header = True)\n",
    "df"
   ]
  },
  {
   "cell_type": "code",
   "execution_count": 6,
   "id": "0bc74f54",
   "metadata": {},
   "outputs": [
    {
     "data": {
      "text/plain": [
       "pyspark.sql.dataframe.DataFrame"
      ]
     },
     "execution_count": 6,
     "metadata": {},
     "output_type": "execute_result"
    }
   ],
   "source": [
    "type(df)"
   ]
  },
  {
   "cell_type": "code",
   "execution_count": 7,
   "id": "5d1f93d2",
   "metadata": {},
   "outputs": [],
   "source": [
    "from pyspark.sql import functions as F\n",
    "\n",
    "df = df.withColumn('Outlook', F.when(F.col('Outlook')=='Sunny',0).otherwise(F.col('Outlook')))"
   ]
  },
  {
   "cell_type": "code",
   "execution_count": 8,
   "id": "0031bc59",
   "metadata": {},
   "outputs": [
    {
     "name": "stdout",
     "output_type": "stream",
     "text": [
      "+--------+-----------+--------+------+----------+\n",
      "| Outlook|Temperature|Humidity|  Wind|PlayTennis|\n",
      "+--------+-----------+--------+------+----------+\n",
      "|       0|        Hot|    High|  Weak|        No|\n",
      "|       0|        Hot|    High|Strong|        No|\n",
      "|Overcast|        Hot|    High|  Weak|       Yes|\n",
      "|    Rain|       Mild|    High|  Weak|       Yes|\n",
      "|    Rain|       Cool|  Normal|  Weak|       Yes|\n",
      "|    Rain|       Cool|  Normal|Strong|        No|\n",
      "|Overcast|       Cool|  Normal|Strong|       Yes|\n",
      "|       0|       Mild|    High|  Weak|        No|\n",
      "|       0|       Cool|  Normal|  Weak|       Yes|\n",
      "|    Rain|       Mild|  Normal|  Weak|       Yes|\n",
      "|       0|       Mild|  Normal|Strong|       Yes|\n",
      "|Overcast|       Mild|    High|Strong|       Yes|\n",
      "|Overcast|        Hot|  Normal|  Weak|       Yes|\n",
      "|    Rain|       Mild|    High|Strong|        No|\n",
      "+--------+-----------+--------+------+----------+\n",
      "\n"
     ]
    }
   ],
   "source": [
    "df.show()"
   ]
  },
  {
   "cell_type": "code",
   "execution_count": 9,
   "id": "2bb59cc3",
   "metadata": {},
   "outputs": [
    {
     "data": {
      "text/plain": [
       "pyspark.sql.dataframe.DataFrame"
      ]
     },
     "execution_count": 9,
     "metadata": {},
     "output_type": "execute_result"
    }
   ],
   "source": [
    "from pyspark.mllib.tree import DecisionTree, DecisionTreeModel\n",
    "\n",
    "df = spark.read.csv('playtennis.csv', header = True)\n",
    "\n",
    "type(df)"
   ]
  },
  {
   "cell_type": "code",
   "execution_count": 10,
   "id": "c718e86c",
   "metadata": {},
   "outputs": [
    {
     "name": "stdout",
     "output_type": "stream",
     "text": [
      "+--------+-----------+--------+------+----------+\n",
      "| Outlook|Temperature|Humidity|  Wind|PlayTennis|\n",
      "+--------+-----------+--------+------+----------+\n",
      "|   Sunny|        Hot|    High|  Weak|        No|\n",
      "|   Sunny|        Hot|    High|Strong|        No|\n",
      "|Overcast|        Hot|    High|  Weak|       Yes|\n",
      "|    Rain|       Mild|    High|  Weak|       Yes|\n",
      "|    Rain|       Cool|  Normal|  Weak|       Yes|\n",
      "|    Rain|       Cool|  Normal|Strong|        No|\n",
      "|Overcast|       Cool|  Normal|Strong|       Yes|\n",
      "|   Sunny|       Mild|    High|  Weak|        No|\n",
      "|   Sunny|       Cool|  Normal|  Weak|       Yes|\n",
      "|    Rain|       Mild|  Normal|  Weak|       Yes|\n",
      "|   Sunny|       Mild|  Normal|Strong|       Yes|\n",
      "|Overcast|       Mild|    High|Strong|       Yes|\n",
      "|Overcast|        Hot|  Normal|  Weak|       Yes|\n",
      "|    Rain|       Mild|    High|Strong|        No|\n",
      "+--------+-----------+--------+------+----------+\n",
      "\n"
     ]
    }
   ],
   "source": [
    "df.show()"
   ]
  },
  {
   "cell_type": "code",
   "execution_count": 11,
   "id": "24a185d6",
   "metadata": {},
   "outputs": [],
   "source": [
    "from pyspark.sql import functions as F\n",
    "\n",
    "df = df.withColumn('Outlook', F.when(F.col('Outlook')=='Sunny', 0).otherwise(F.col('Outlook')))"
   ]
  },
  {
   "cell_type": "code",
   "execution_count": 12,
   "id": "e02e56f3",
   "metadata": {},
   "outputs": [
    {
     "name": "stdout",
     "output_type": "stream",
     "text": [
      "+--------+-----------+--------+------+----------+\n",
      "| Outlook|Temperature|Humidity|  Wind|PlayTennis|\n",
      "+--------+-----------+--------+------+----------+\n",
      "|       0|        Hot|    High|  Weak|        No|\n",
      "|       0|        Hot|    High|Strong|        No|\n",
      "|Overcast|        Hot|    High|  Weak|       Yes|\n",
      "|    Rain|       Mild|    High|  Weak|       Yes|\n",
      "|    Rain|       Cool|  Normal|  Weak|       Yes|\n",
      "|    Rain|       Cool|  Normal|Strong|        No|\n",
      "|Overcast|       Cool|  Normal|Strong|       Yes|\n",
      "|       0|       Mild|    High|  Weak|        No|\n",
      "|       0|       Cool|  Normal|  Weak|       Yes|\n",
      "|    Rain|       Mild|  Normal|  Weak|       Yes|\n",
      "|       0|       Mild|  Normal|Strong|       Yes|\n",
      "|Overcast|       Mild|    High|Strong|       Yes|\n",
      "|Overcast|        Hot|  Normal|  Weak|       Yes|\n",
      "|    Rain|       Mild|    High|Strong|        No|\n",
      "+--------+-----------+--------+------+----------+\n",
      "\n"
     ]
    }
   ],
   "source": [
    "df.show()"
   ]
  },
  {
   "cell_type": "code",
   "execution_count": 13,
   "id": "63df03bc",
   "metadata": {},
   "outputs": [
    {
     "name": "stdout",
     "output_type": "stream",
     "text": [
      "+-------+-----------+--------+------+----------+\n",
      "|Outlook|Temperature|Humidity|  Wind|PlayTennis|\n",
      "+-------+-----------+--------+------+----------+\n",
      "|      0|        Hot|    High|  Weak|        No|\n",
      "|      0|        Hot|    High|Strong|        No|\n",
      "|      1|        Hot|    High|  Weak|       Yes|\n",
      "|   Rain|       Mild|    High|  Weak|       Yes|\n",
      "|   Rain|       Cool|  Normal|  Weak|       Yes|\n",
      "|   Rain|       Cool|  Normal|Strong|        No|\n",
      "|      1|       Cool|  Normal|Strong|       Yes|\n",
      "|      0|       Mild|    High|  Weak|        No|\n",
      "|      0|       Cool|  Normal|  Weak|       Yes|\n",
      "|   Rain|       Mild|  Normal|  Weak|       Yes|\n",
      "|      0|       Mild|  Normal|Strong|       Yes|\n",
      "|      1|       Mild|    High|Strong|       Yes|\n",
      "|      1|        Hot|  Normal|  Weak|       Yes|\n",
      "|   Rain|       Mild|    High|Strong|        No|\n",
      "+-------+-----------+--------+------+----------+\n",
      "\n"
     ]
    }
   ],
   "source": [
    "df = df.withColumn('Outlook', F.when(F.col('Outlook')=='Overcast',1).otherwise(F.col('Outlook')))\n",
    "\n",
    "df.show()"
   ]
  },
  {
   "cell_type": "code",
   "execution_count": 14,
   "id": "da566a14",
   "metadata": {},
   "outputs": [
    {
     "name": "stdout",
     "output_type": "stream",
     "text": [
      "+-------+-----------+--------+------+----------+\n",
      "|Outlook|Temperature|Humidity|  Wind|PlayTennis|\n",
      "+-------+-----------+--------+------+----------+\n",
      "|      0|        Hot|    High|  Weak|        No|\n",
      "|      0|        Hot|    High|Strong|        No|\n",
      "|      1|        Hot|    High|  Weak|       Yes|\n",
      "|      2|       Mild|    High|  Weak|       Yes|\n",
      "|      2|       Cool|  Normal|  Weak|       Yes|\n",
      "|      2|       Cool|  Normal|Strong|        No|\n",
      "|      1|       Cool|  Normal|Strong|       Yes|\n",
      "|      0|       Mild|    High|  Weak|        No|\n",
      "|      0|       Cool|  Normal|  Weak|       Yes|\n",
      "|      2|       Mild|  Normal|  Weak|       Yes|\n",
      "|      0|       Mild|  Normal|Strong|       Yes|\n",
      "|      1|       Mild|    High|Strong|       Yes|\n",
      "|      1|        Hot|  Normal|  Weak|       Yes|\n",
      "|      2|       Mild|    High|Strong|        No|\n",
      "+-------+-----------+--------+------+----------+\n",
      "\n"
     ]
    }
   ],
   "source": [
    "df = df.withColumn('Outlook', F.when(F.col('Outlook')=='Rain',2).otherwise(F.col('Outlook')))\n",
    "\n",
    "df.show()"
   ]
  },
  {
   "cell_type": "code",
   "execution_count": 15,
   "id": "f5aa9025",
   "metadata": {},
   "outputs": [
    {
     "name": "stdout",
     "output_type": "stream",
     "text": [
      "+-------+-----------+--------+------+----------+\n",
      "|Outlook|Temperature|Humidity|  Wind|PlayTennis|\n",
      "+-------+-----------+--------+------+----------+\n",
      "|      0|          0|    High|  Weak|        No|\n",
      "|      0|          0|    High|Strong|        No|\n",
      "|      1|          0|    High|  Weak|       Yes|\n",
      "|      2|       Mild|    High|  Weak|       Yes|\n",
      "|      2|       Cool|  Normal|  Weak|       Yes|\n",
      "|      2|       Cool|  Normal|Strong|        No|\n",
      "|      1|       Cool|  Normal|Strong|       Yes|\n",
      "|      0|       Mild|    High|  Weak|        No|\n",
      "|      0|       Cool|  Normal|  Weak|       Yes|\n",
      "|      2|       Mild|  Normal|  Weak|       Yes|\n",
      "|      0|       Mild|  Normal|Strong|       Yes|\n",
      "|      1|       Mild|    High|Strong|       Yes|\n",
      "|      1|          0|  Normal|  Weak|       Yes|\n",
      "|      2|       Mild|    High|Strong|        No|\n",
      "+-------+-----------+--------+------+----------+\n",
      "\n"
     ]
    }
   ],
   "source": [
    "df = df.withColumn('Temperature', F.when(F.col('Temperature')=='Hot', 0).otherwise(F.col('Temperature')))\n",
    "\n",
    "df.show()"
   ]
  },
  {
   "cell_type": "code",
   "execution_count": 16,
   "id": "bacbce14",
   "metadata": {},
   "outputs": [
    {
     "name": "stdout",
     "output_type": "stream",
     "text": [
      "+-------+-----------+--------+------+----------+\n",
      "|Outlook|Temperature|Humidity|  Wind|PlayTennis|\n",
      "+-------+-----------+--------+------+----------+\n",
      "|      0|          0|    High|  Weak|        No|\n",
      "|      0|          0|    High|Strong|        No|\n",
      "|      1|          0|    High|  Weak|       Yes|\n",
      "|      2|          1|    High|  Weak|       Yes|\n",
      "|      2|       Cool|  Normal|  Weak|       Yes|\n",
      "|      2|       Cool|  Normal|Strong|        No|\n",
      "|      1|       Cool|  Normal|Strong|       Yes|\n",
      "|      0|          1|    High|  Weak|        No|\n",
      "|      0|       Cool|  Normal|  Weak|       Yes|\n",
      "|      2|          1|  Normal|  Weak|       Yes|\n",
      "|      0|          1|  Normal|Strong|       Yes|\n",
      "|      1|          1|    High|Strong|       Yes|\n",
      "|      1|          0|  Normal|  Weak|       Yes|\n",
      "|      2|          1|    High|Strong|        No|\n",
      "+-------+-----------+--------+------+----------+\n",
      "\n"
     ]
    }
   ],
   "source": [
    "df = df.withColumn('Temperature', F.when(F.col('Temperature')=='Mild', 1).otherwise(F.col('Temperature')))\n",
    "\n",
    "df.show()"
   ]
  },
  {
   "cell_type": "code",
   "execution_count": 17,
   "id": "e38d667e",
   "metadata": {},
   "outputs": [
    {
     "name": "stdout",
     "output_type": "stream",
     "text": [
      "+-------+-----------+--------+------+----------+\n",
      "|Outlook|Temperature|Humidity|  Wind|PlayTennis|\n",
      "+-------+-----------+--------+------+----------+\n",
      "|      0|          0|    High|  Weak|        No|\n",
      "|      0|          0|    High|Strong|        No|\n",
      "|      1|          0|    High|  Weak|       Yes|\n",
      "|      2|          1|    High|  Weak|       Yes|\n",
      "|      2|          2|  Normal|  Weak|       Yes|\n",
      "|      2|          2|  Normal|Strong|        No|\n",
      "|      1|          2|  Normal|Strong|       Yes|\n",
      "|      0|          1|    High|  Weak|        No|\n",
      "|      0|          2|  Normal|  Weak|       Yes|\n",
      "|      2|          1|  Normal|  Weak|       Yes|\n",
      "|      0|          1|  Normal|Strong|       Yes|\n",
      "|      1|          1|    High|Strong|       Yes|\n",
      "|      1|          0|  Normal|  Weak|       Yes|\n",
      "|      2|          1|    High|Strong|        No|\n",
      "+-------+-----------+--------+------+----------+\n",
      "\n"
     ]
    }
   ],
   "source": [
    "df = df.withColumn('Temperature', F.when(F.col('Temperature')=='Cool', 2).otherwise(F.col('Temperature')))\n",
    "\n",
    "df.show()"
   ]
  },
  {
   "cell_type": "code",
   "execution_count": 18,
   "id": "cbaed5af",
   "metadata": {},
   "outputs": [
    {
     "name": "stdout",
     "output_type": "stream",
     "text": [
      "+-------+-----------+--------+------+----------+\n",
      "|Outlook|Temperature|Humidity|  Wind|PlayTennis|\n",
      "+-------+-----------+--------+------+----------+\n",
      "|      0|          0|       0|  Weak|        No|\n",
      "|      0|          0|       0|Strong|        No|\n",
      "|      1|          0|       0|  Weak|       Yes|\n",
      "|      2|          1|       0|  Weak|       Yes|\n",
      "|      2|          2|  Normal|  Weak|       Yes|\n",
      "|      2|          2|  Normal|Strong|        No|\n",
      "|      1|          2|  Normal|Strong|       Yes|\n",
      "|      0|          1|       0|  Weak|        No|\n",
      "|      0|          2|  Normal|  Weak|       Yes|\n",
      "|      2|          1|  Normal|  Weak|       Yes|\n",
      "|      0|          1|  Normal|Strong|       Yes|\n",
      "|      1|          1|       0|Strong|       Yes|\n",
      "|      1|          0|  Normal|  Weak|       Yes|\n",
      "|      2|          1|       0|Strong|        No|\n",
      "+-------+-----------+--------+------+----------+\n",
      "\n"
     ]
    }
   ],
   "source": [
    "df = df.withColumn('Humidity', F.when(F.col('Humidity')=='High', 0).otherwise(F.col('Humidity')))\n",
    "\n",
    "df.show()"
   ]
  },
  {
   "cell_type": "code",
   "execution_count": 19,
   "id": "af104581",
   "metadata": {},
   "outputs": [
    {
     "name": "stdout",
     "output_type": "stream",
     "text": [
      "+-------+-----------+--------+------+----------+\n",
      "|Outlook|Temperature|Humidity|  Wind|PlayTennis|\n",
      "+-------+-----------+--------+------+----------+\n",
      "|      0|          0|       0|  Weak|        No|\n",
      "|      0|          0|       0|Strong|        No|\n",
      "|      1|          0|       0|  Weak|       Yes|\n",
      "|      2|          1|       0|  Weak|       Yes|\n",
      "|      2|          2|       1|  Weak|       Yes|\n",
      "|      2|          2|       1|Strong|        No|\n",
      "|      1|          2|       1|Strong|       Yes|\n",
      "|      0|          1|       0|  Weak|        No|\n",
      "|      0|          2|       1|  Weak|       Yes|\n",
      "|      2|          1|       1|  Weak|       Yes|\n",
      "|      0|          1|       1|Strong|       Yes|\n",
      "|      1|          1|       0|Strong|       Yes|\n",
      "|      1|          0|       1|  Weak|       Yes|\n",
      "|      2|          1|       0|Strong|        No|\n",
      "+-------+-----------+--------+------+----------+\n",
      "\n"
     ]
    }
   ],
   "source": [
    "df = df.withColumn('Humidity', F.when(F.col('Humidity')=='Normal', 1).otherwise(F.col('Humidity')))\n",
    "\n",
    "df.show()"
   ]
  },
  {
   "cell_type": "code",
   "execution_count": 20,
   "id": "42ba0992",
   "metadata": {},
   "outputs": [
    {
     "name": "stdout",
     "output_type": "stream",
     "text": [
      "+-------+-----------+--------+------+----------+\n",
      "|Outlook|Temperature|Humidity|  Wind|PlayTennis|\n",
      "+-------+-----------+--------+------+----------+\n",
      "|      0|          0|       0|     0|        No|\n",
      "|      0|          0|       0|Strong|        No|\n",
      "|      1|          0|       0|     0|       Yes|\n",
      "|      2|          1|       0|     0|       Yes|\n",
      "|      2|          2|       1|     0|       Yes|\n",
      "|      2|          2|       1|Strong|        No|\n",
      "|      1|          2|       1|Strong|       Yes|\n",
      "|      0|          1|       0|     0|        No|\n",
      "|      0|          2|       1|     0|       Yes|\n",
      "|      2|          1|       1|     0|       Yes|\n",
      "|      0|          1|       1|Strong|       Yes|\n",
      "|      1|          1|       0|Strong|       Yes|\n",
      "|      1|          0|       1|     0|       Yes|\n",
      "|      2|          1|       0|Strong|        No|\n",
      "+-------+-----------+--------+------+----------+\n",
      "\n"
     ]
    }
   ],
   "source": [
    "df = df.withColumn('Wind', F.when(F.col('Wind')=='Weak', 0).otherwise(F.col('Wind')))\n",
    "\n",
    "df.show()"
   ]
  },
  {
   "cell_type": "code",
   "execution_count": 21,
   "id": "129faff8",
   "metadata": {},
   "outputs": [
    {
     "name": "stdout",
     "output_type": "stream",
     "text": [
      "+-------+-----------+--------+----+----------+\n",
      "|Outlook|Temperature|Humidity|Wind|PlayTennis|\n",
      "+-------+-----------+--------+----+----------+\n",
      "|      0|          0|       0|   0|        No|\n",
      "|      0|          0|       0|   1|        No|\n",
      "|      1|          0|       0|   0|       Yes|\n",
      "|      2|          1|       0|   0|       Yes|\n",
      "|      2|          2|       1|   0|       Yes|\n",
      "|      2|          2|       1|   1|        No|\n",
      "|      1|          2|       1|   1|       Yes|\n",
      "|      0|          1|       0|   0|        No|\n",
      "|      0|          2|       1|   0|       Yes|\n",
      "|      2|          1|       1|   0|       Yes|\n",
      "|      0|          1|       1|   1|       Yes|\n",
      "|      1|          1|       0|   1|       Yes|\n",
      "|      1|          0|       1|   0|       Yes|\n",
      "|      2|          1|       0|   1|        No|\n",
      "+-------+-----------+--------+----+----------+\n",
      "\n"
     ]
    }
   ],
   "source": [
    "df = df.withColumn('Wind', F.when(F.col('Wind')=='Strong', 1).otherwise(F.col('Wind')))\n",
    "\n",
    "df.show()"
   ]
  },
  {
   "cell_type": "code",
   "execution_count": 22,
   "id": "4d404ab2",
   "metadata": {},
   "outputs": [
    {
     "name": "stdout",
     "output_type": "stream",
     "text": [
      "+-------+-----------+--------+----+----------+\n",
      "|Outlook|Temperature|Humidity|Wind|PlayTennis|\n",
      "+-------+-----------+--------+----+----------+\n",
      "|      0|          0|       0|   0|         0|\n",
      "|      0|          0|       0|   1|         0|\n",
      "|      1|          0|       0|   0|       Yes|\n",
      "|      2|          1|       0|   0|       Yes|\n",
      "|      2|          2|       1|   0|       Yes|\n",
      "|      2|          2|       1|   1|         0|\n",
      "|      1|          2|       1|   1|       Yes|\n",
      "|      0|          1|       0|   0|         0|\n",
      "|      0|          2|       1|   0|       Yes|\n",
      "|      2|          1|       1|   0|       Yes|\n",
      "|      0|          1|       1|   1|       Yes|\n",
      "|      1|          1|       0|   1|       Yes|\n",
      "|      1|          0|       1|   0|       Yes|\n",
      "|      2|          1|       0|   1|         0|\n",
      "+-------+-----------+--------+----+----------+\n",
      "\n"
     ]
    }
   ],
   "source": [
    "df = df.withColumn('PlayTennis', F.when(F.col('PlayTennis')=='No', 0).otherwise(F.col('PlayTennis')))\n",
    "\n",
    "df.show()"
   ]
  },
  {
   "cell_type": "code",
   "execution_count": 23,
   "id": "cb01b7fb",
   "metadata": {},
   "outputs": [
    {
     "name": "stdout",
     "output_type": "stream",
     "text": [
      "+-------+-----------+--------+----+----------+\n",
      "|Outlook|Temperature|Humidity|Wind|PlayTennis|\n",
      "+-------+-----------+--------+----+----------+\n",
      "|      0|          0|       0|   0|         0|\n",
      "|      0|          0|       0|   1|         0|\n",
      "|      1|          0|       0|   0|         1|\n",
      "|      2|          1|       0|   0|         1|\n",
      "|      2|          2|       1|   0|         1|\n",
      "|      2|          2|       1|   1|         0|\n",
      "|      1|          2|       1|   1|         1|\n",
      "|      0|          1|       0|   0|         0|\n",
      "|      0|          2|       1|   0|         1|\n",
      "|      2|          1|       1|   0|         1|\n",
      "|      0|          1|       1|   1|         1|\n",
      "|      1|          1|       0|   1|         1|\n",
      "|      1|          0|       1|   0|         1|\n",
      "|      2|          1|       0|   1|         0|\n",
      "+-------+-----------+--------+----+----------+\n",
      "\n"
     ]
    }
   ],
   "source": [
    "df = df.withColumn('PlayTennis', F.when(F.col('PlayTennis')=='Yes', 1).otherwise(F.col('PlayTennis')))\n",
    "\n",
    "df.show()"
   ]
  },
  {
   "cell_type": "code",
   "execution_count": 24,
   "id": "87d94c4d",
   "metadata": {},
   "outputs": [
    {
     "data": {
      "text/plain": [
       "StructType(List(StructField(Outlook,StringType,true),StructField(Temperature,StringType,true),StructField(Humidity,StringType,true),StructField(Wind,StringType,true),StructField(PlayTennis,StringType,true)))"
      ]
     },
     "execution_count": 24,
     "metadata": {},
     "output_type": "execute_result"
    }
   ],
   "source": [
    "df.schema"
   ]
  },
  {
   "cell_type": "code",
   "execution_count": 25,
   "id": "e5bf1ec5",
   "metadata": {},
   "outputs": [
    {
     "data": {
      "text/plain": [
       "StructType(List(StructField(Outlook,IntegerType,true),StructField(Temperature,StringType,true),StructField(Humidity,StringType,true),StructField(Wind,StringType,true),StructField(PlayTennis,StringType,true)))"
      ]
     },
     "execution_count": 25,
     "metadata": {},
     "output_type": "execute_result"
    }
   ],
   "source": [
    "df = df.withColumn('Outlook', df['Outlook'].cast('int'))\n",
    "\n",
    "df.schema"
   ]
  },
  {
   "cell_type": "code",
   "execution_count": 26,
   "id": "e25a52fe",
   "metadata": {},
   "outputs": [
    {
     "data": {
      "text/plain": [
       "StructType(List(StructField(Outlook,IntegerType,true),StructField(Temperature,IntegerType,true),StructField(Humidity,StringType,true),StructField(Wind,StringType,true),StructField(PlayTennis,StringType,true)))"
      ]
     },
     "execution_count": 26,
     "metadata": {},
     "output_type": "execute_result"
    }
   ],
   "source": [
    "df = df.withColumn('Temperature', df['Temperature'].cast('int'))\n",
    "\n",
    "df.schema"
   ]
  },
  {
   "cell_type": "code",
   "execution_count": 27,
   "id": "eba26b84",
   "metadata": {},
   "outputs": [
    {
     "data": {
      "text/plain": [
       "StructType(List(StructField(Outlook,IntegerType,true),StructField(Temperature,IntegerType,true),StructField(Humidity,IntegerType,true),StructField(Wind,StringType,true),StructField(PlayTennis,StringType,true)))"
      ]
     },
     "execution_count": 27,
     "metadata": {},
     "output_type": "execute_result"
    }
   ],
   "source": [
    "df = df.withColumn('Humidity', df['Humidity'].cast('int'))\n",
    "\n",
    "df.schema"
   ]
  },
  {
   "cell_type": "code",
   "execution_count": 28,
   "id": "31607da9",
   "metadata": {},
   "outputs": [
    {
     "data": {
      "text/plain": [
       "StructType(List(StructField(Outlook,IntegerType,true),StructField(Temperature,IntegerType,true),StructField(Humidity,IntegerType,true),StructField(Wind,IntegerType,true),StructField(PlayTennis,StringType,true)))"
      ]
     },
     "execution_count": 28,
     "metadata": {},
     "output_type": "execute_result"
    }
   ],
   "source": [
    "df = df.withColumn('Wind', df['Wind'].cast('int'))\n",
    "\n",
    "df.schema"
   ]
  },
  {
   "cell_type": "code",
   "execution_count": 29,
   "id": "e49bfa05",
   "metadata": {},
   "outputs": [],
   "source": [
    "from pyspark.ml.feature import VectorAssembler\n",
    "\n",
    "assembler = VectorAssembler(inputCols=['Outlook','Temperature','Humidity','Wind'], outputCol = 'features')\n",
    "\n",
    "asembler_df = assembler.transform(df)"
   ]
  },
  {
   "cell_type": "code",
   "execution_count": 30,
   "id": "bf298e88",
   "metadata": {},
   "outputs": [
    {
     "name": "stdout",
     "output_type": "stream",
     "text": [
      "+-------+-----------+--------+----+----------+-----------------+\n",
      "|Outlook|Temperature|Humidity|Wind|PlayTennis|         features|\n",
      "+-------+-----------+--------+----+----------+-----------------+\n",
      "|      0|          0|       0|   0|         0|        (4,[],[])|\n",
      "|      0|          0|       0|   1|         0|    (4,[3],[1.0])|\n",
      "|      1|          0|       0|   0|         1|    (4,[0],[1.0])|\n",
      "|      2|          1|       0|   0|         1|[2.0,1.0,0.0,0.0]|\n",
      "|      2|          2|       1|   0|         1|[2.0,2.0,1.0,0.0]|\n",
      "|      2|          2|       1|   1|         0|[2.0,2.0,1.0,1.0]|\n",
      "|      1|          2|       1|   1|         1|[1.0,2.0,1.0,1.0]|\n",
      "|      0|          1|       0|   0|         0|    (4,[1],[1.0])|\n",
      "|      0|          2|       1|   0|         1|[0.0,2.0,1.0,0.0]|\n",
      "|      2|          1|       1|   0|         1|[2.0,1.0,1.0,0.0]|\n",
      "|      0|          1|       1|   1|         1|[0.0,1.0,1.0,1.0]|\n",
      "|      1|          1|       0|   1|         1|[1.0,1.0,0.0,1.0]|\n",
      "|      1|          0|       1|   0|         1|[1.0,0.0,1.0,0.0]|\n",
      "|      2|          1|       0|   1|         0|[2.0,1.0,0.0,1.0]|\n",
      "+-------+-----------+--------+----+----------+-----------------+\n",
      "\n"
     ]
    }
   ],
   "source": [
    "asembler_df.show()"
   ]
  },
  {
   "cell_type": "code",
   "execution_count": 35,
   "id": "62876a31",
   "metadata": {},
   "outputs": [
    {
     "name": "stdout",
     "output_type": "stream",
     "text": [
      "+-------+-----------+--------+----+----------+-----------------+\n",
      "|Outlook|Temperature|Humidity|Wind|PlayTennis|         features|\n",
      "+-------+-----------+--------+----+----------+-----------------+\n",
      "|      0|          0|       0|   1|         0|    (4,[3],[1.0])|\n",
      "|      0|          1|       0|   0|         0|    (4,[1],[1.0])|\n",
      "|      0|          2|       1|   0|         1|[0.0,2.0,1.0,0.0]|\n",
      "|      1|          0|       0|   0|         1|    (4,[0],[1.0])|\n",
      "|      1|          0|       1|   0|         1|[1.0,0.0,1.0,0.0]|\n",
      "|      1|          1|       0|   1|         1|[1.0,1.0,0.0,1.0]|\n",
      "|      2|          1|       0|   0|         1|[2.0,1.0,0.0,0.0]|\n",
      "|      2|          2|       1|   1|         0|[2.0,2.0,1.0,1.0]|\n",
      "+-------+-----------+--------+----+----------+-----------------+\n",
      "\n"
     ]
    }
   ],
   "source": [
    "(trainingData, testData) = asembler_df.randomSplit([0.6, 0.4])\n",
    "\n",
    "trainingData.show()"
   ]
  },
  {
   "cell_type": "code",
   "execution_count": 36,
   "id": "6c0e9c82",
   "metadata": {},
   "outputs": [
    {
     "name": "stdout",
     "output_type": "stream",
     "text": [
      "+-------+-----------+--------+----+----------+-----------------+\n",
      "|Outlook|Temperature|Humidity|Wind|PlayTennis|         features|\n",
      "+-------+-----------+--------+----+----------+-----------------+\n",
      "|      0|          0|       0|   0|         0|        (4,[],[])|\n",
      "|      0|          1|       1|   1|         1|[0.0,1.0,1.0,1.0]|\n",
      "|      1|          2|       1|   1|         1|[1.0,2.0,1.0,1.0]|\n",
      "|      2|          1|       0|   1|         0|[2.0,1.0,0.0,1.0]|\n",
      "|      2|          1|       1|   0|         1|[2.0,1.0,1.0,0.0]|\n",
      "|      2|          2|       1|   0|         1|[2.0,2.0,1.0,0.0]|\n",
      "+-------+-----------+--------+----+----------+-----------------+\n",
      "\n"
     ]
    }
   ],
   "source": [
    "testData.show()"
   ]
  },
  {
   "cell_type": "code",
   "execution_count": 33,
   "id": "bae2a30d",
   "metadata": {},
   "outputs": [
    {
     "ename": "IllegalArgumentException",
     "evalue": "'requirement failed: Column PlayTennis must be of type numeric but was actually of type string.'",
     "output_type": "error",
     "traceback": [
      "\u001b[1;31m---------------------------------------------------------------------------\u001b[0m",
      "\u001b[1;31mPy4JJavaError\u001b[0m                             Traceback (most recent call last)",
      "\u001b[1;32mC:\\bigdata\\spark\\python\\pyspark\\sql\\utils.py\u001b[0m in \u001b[0;36mdeco\u001b[1;34m(*a, **kw)\u001b[0m\n\u001b[0;32m     62\u001b[0m         \u001b[1;32mtry\u001b[0m\u001b[1;33m:\u001b[0m\u001b[1;33m\u001b[0m\u001b[1;33m\u001b[0m\u001b[0m\n\u001b[1;32m---> 63\u001b[1;33m             \u001b[1;32mreturn\u001b[0m \u001b[0mf\u001b[0m\u001b[1;33m(\u001b[0m\u001b[1;33m*\u001b[0m\u001b[0ma\u001b[0m\u001b[1;33m,\u001b[0m \u001b[1;33m**\u001b[0m\u001b[0mkw\u001b[0m\u001b[1;33m)\u001b[0m\u001b[1;33m\u001b[0m\u001b[1;33m\u001b[0m\u001b[0m\n\u001b[0m\u001b[0;32m     64\u001b[0m         \u001b[1;32mexcept\u001b[0m \u001b[0mpy4j\u001b[0m\u001b[1;33m.\u001b[0m\u001b[0mprotocol\u001b[0m\u001b[1;33m.\u001b[0m\u001b[0mPy4JJavaError\u001b[0m \u001b[1;32mas\u001b[0m \u001b[0me\u001b[0m\u001b[1;33m:\u001b[0m\u001b[1;33m\u001b[0m\u001b[1;33m\u001b[0m\u001b[0m\n",
      "\u001b[1;32m~\\anaconda3\\envs\\spark_env\\lib\\site-packages\\py4j\\protocol.py\u001b[0m in \u001b[0;36mget_return_value\u001b[1;34m(answer, gateway_client, target_id, name)\u001b[0m\n\u001b[0;32m    327\u001b[0m                     \u001b[1;34m\"An error occurred while calling {0}{1}{2}.\\n\"\u001b[0m\u001b[1;33m.\u001b[0m\u001b[1;33m\u001b[0m\u001b[1;33m\u001b[0m\u001b[0m\n\u001b[1;32m--> 328\u001b[1;33m                     format(target_id, \".\", name), value)\n\u001b[0m\u001b[0;32m    329\u001b[0m             \u001b[1;32melse\u001b[0m\u001b[1;33m:\u001b[0m\u001b[1;33m\u001b[0m\u001b[1;33m\u001b[0m\u001b[0m\n",
      "\u001b[1;31mPy4JJavaError\u001b[0m: An error occurred while calling o172.fit.\n: java.lang.IllegalArgumentException: requirement failed: Column PlayTennis must be of type numeric but was actually of type string.\r\n\tat scala.Predef$.require(Predef.scala:224)\r\n\tat org.apache.spark.ml.util.SchemaUtils$.checkNumericType(SchemaUtils.scala:76)\r\n\tat org.apache.spark.ml.PredictorParams$class.validateAndTransformSchema(Predictor.scala:53)\r\n\tat org.apache.spark.ml.classification.Classifier.org$apache$spark$ml$classification$ClassifierParams$$super$validateAndTransformSchema(Classifier.scala:58)\r\n\tat org.apache.spark.ml.classification.ClassifierParams$class.validateAndTransformSchema(Classifier.scala:42)\r\n\tat org.apache.spark.ml.classification.ProbabilisticClassifier.org$apache$spark$ml$classification$ProbabilisticClassifierParams$$super$validateAndTransformSchema(ProbabilisticClassifier.scala:53)\r\n\tat org.apache.spark.ml.classification.ProbabilisticClassifierParams$class.validateAndTransformSchema(ProbabilisticClassifier.scala:37)\r\n\tat org.apache.spark.ml.classification.ProbabilisticClassifier.validateAndTransformSchema(ProbabilisticClassifier.scala:53)\r\n\tat org.apache.spark.ml.Predictor.transformSchema(Predictor.scala:144)\r\n\tat org.apache.spark.ml.PipelineStage.transformSchema(Pipeline.scala:74)\r\n\tat org.apache.spark.ml.Predictor.fit(Predictor.scala:100)\r\n\tat org.apache.spark.ml.Predictor.fit(Predictor.scala:82)\r\n\tat sun.reflect.NativeMethodAccessorImpl.invoke0(Native Method)\r\n\tat sun.reflect.NativeMethodAccessorImpl.invoke(NativeMethodAccessorImpl.java:62)\r\n\tat sun.reflect.DelegatingMethodAccessorImpl.invoke(DelegatingMethodAccessorImpl.java:43)\r\n\tat java.lang.reflect.Method.invoke(Method.java:498)\r\n\tat py4j.reflection.MethodInvoker.invoke(MethodInvoker.java:244)\r\n\tat py4j.reflection.ReflectionEngine.invoke(ReflectionEngine.java:357)\r\n\tat py4j.Gateway.invoke(Gateway.java:282)\r\n\tat py4j.commands.AbstractCommand.invokeMethod(AbstractCommand.java:132)\r\n\tat py4j.commands.CallCommand.execute(CallCommand.java:79)\r\n\tat py4j.GatewayConnection.run(GatewayConnection.java:238)\r\n\tat java.lang.Thread.run(Thread.java:748)\r\n",
      "\nDuring handling of the above exception, another exception occurred:\n",
      "\u001b[1;31mIllegalArgumentException\u001b[0m                  Traceback (most recent call last)",
      "\u001b[1;32m<ipython-input-33-9adb41546a95>\u001b[0m in \u001b[0;36m<module>\u001b[1;34m\u001b[0m\n\u001b[0;32m      3\u001b[0m \u001b[0mdt\u001b[0m \u001b[1;33m=\u001b[0m \u001b[0mDecisionTreeClassifier\u001b[0m\u001b[1;33m(\u001b[0m\u001b[0mfeaturesCol\u001b[0m \u001b[1;33m=\u001b[0m \u001b[1;34m'features'\u001b[0m\u001b[1;33m,\u001b[0m \u001b[0mlabelCol\u001b[0m \u001b[1;33m=\u001b[0m \u001b[1;34m'PlayTennis'\u001b[0m\u001b[1;33m)\u001b[0m\u001b[1;33m\u001b[0m\u001b[1;33m\u001b[0m\u001b[0m\n\u001b[0;32m      4\u001b[0m \u001b[1;33m\u001b[0m\u001b[0m\n\u001b[1;32m----> 5\u001b[1;33m \u001b[0mdtModel\u001b[0m \u001b[1;33m=\u001b[0m \u001b[0mdt\u001b[0m\u001b[1;33m.\u001b[0m\u001b[0mfit\u001b[0m\u001b[1;33m(\u001b[0m\u001b[0mtrainingData\u001b[0m\u001b[1;33m)\u001b[0m\u001b[1;33m\u001b[0m\u001b[1;33m\u001b[0m\u001b[0m\n\u001b[0m\u001b[0;32m      6\u001b[0m \u001b[1;33m\u001b[0m\u001b[0m\n\u001b[0;32m      7\u001b[0m \u001b[0mdtModel\u001b[0m\u001b[1;33m\u001b[0m\u001b[1;33m\u001b[0m\u001b[0m\n",
      "\u001b[1;32mC:\\bigdata\\spark\\python\\pyspark\\ml\\base.py\u001b[0m in \u001b[0;36mfit\u001b[1;34m(self, dataset, params)\u001b[0m\n\u001b[0;32m    130\u001b[0m                 \u001b[1;32mreturn\u001b[0m \u001b[0mself\u001b[0m\u001b[1;33m.\u001b[0m\u001b[0mcopy\u001b[0m\u001b[1;33m(\u001b[0m\u001b[0mparams\u001b[0m\u001b[1;33m)\u001b[0m\u001b[1;33m.\u001b[0m\u001b[0m_fit\u001b[0m\u001b[1;33m(\u001b[0m\u001b[0mdataset\u001b[0m\u001b[1;33m)\u001b[0m\u001b[1;33m\u001b[0m\u001b[1;33m\u001b[0m\u001b[0m\n\u001b[0;32m    131\u001b[0m             \u001b[1;32melse\u001b[0m\u001b[1;33m:\u001b[0m\u001b[1;33m\u001b[0m\u001b[1;33m\u001b[0m\u001b[0m\n\u001b[1;32m--> 132\u001b[1;33m                 \u001b[1;32mreturn\u001b[0m \u001b[0mself\u001b[0m\u001b[1;33m.\u001b[0m\u001b[0m_fit\u001b[0m\u001b[1;33m(\u001b[0m\u001b[0mdataset\u001b[0m\u001b[1;33m)\u001b[0m\u001b[1;33m\u001b[0m\u001b[1;33m\u001b[0m\u001b[0m\n\u001b[0m\u001b[0;32m    133\u001b[0m         \u001b[1;32melse\u001b[0m\u001b[1;33m:\u001b[0m\u001b[1;33m\u001b[0m\u001b[1;33m\u001b[0m\u001b[0m\n\u001b[0;32m    134\u001b[0m             raise ValueError(\"Params must be either a param map or a list/tuple of param maps, \"\n",
      "\u001b[1;32mC:\\bigdata\\spark\\python\\pyspark\\ml\\wrapper.py\u001b[0m in \u001b[0;36m_fit\u001b[1;34m(self, dataset)\u001b[0m\n\u001b[0;32m    293\u001b[0m \u001b[1;33m\u001b[0m\u001b[0m\n\u001b[0;32m    294\u001b[0m     \u001b[1;32mdef\u001b[0m \u001b[0m_fit\u001b[0m\u001b[1;33m(\u001b[0m\u001b[0mself\u001b[0m\u001b[1;33m,\u001b[0m \u001b[0mdataset\u001b[0m\u001b[1;33m)\u001b[0m\u001b[1;33m:\u001b[0m\u001b[1;33m\u001b[0m\u001b[1;33m\u001b[0m\u001b[0m\n\u001b[1;32m--> 295\u001b[1;33m         \u001b[0mjava_model\u001b[0m \u001b[1;33m=\u001b[0m \u001b[0mself\u001b[0m\u001b[1;33m.\u001b[0m\u001b[0m_fit_java\u001b[0m\u001b[1;33m(\u001b[0m\u001b[0mdataset\u001b[0m\u001b[1;33m)\u001b[0m\u001b[1;33m\u001b[0m\u001b[1;33m\u001b[0m\u001b[0m\n\u001b[0m\u001b[0;32m    296\u001b[0m         \u001b[0mmodel\u001b[0m \u001b[1;33m=\u001b[0m \u001b[0mself\u001b[0m\u001b[1;33m.\u001b[0m\u001b[0m_create_model\u001b[0m\u001b[1;33m(\u001b[0m\u001b[0mjava_model\u001b[0m\u001b[1;33m)\u001b[0m\u001b[1;33m\u001b[0m\u001b[1;33m\u001b[0m\u001b[0m\n\u001b[0;32m    297\u001b[0m         \u001b[1;32mreturn\u001b[0m \u001b[0mself\u001b[0m\u001b[1;33m.\u001b[0m\u001b[0m_copyValues\u001b[0m\u001b[1;33m(\u001b[0m\u001b[0mmodel\u001b[0m\u001b[1;33m)\u001b[0m\u001b[1;33m\u001b[0m\u001b[1;33m\u001b[0m\u001b[0m\n",
      "\u001b[1;32mC:\\bigdata\\spark\\python\\pyspark\\ml\\wrapper.py\u001b[0m in \u001b[0;36m_fit_java\u001b[1;34m(self, dataset)\u001b[0m\n\u001b[0;32m    290\u001b[0m         \"\"\"\n\u001b[0;32m    291\u001b[0m         \u001b[0mself\u001b[0m\u001b[1;33m.\u001b[0m\u001b[0m_transfer_params_to_java\u001b[0m\u001b[1;33m(\u001b[0m\u001b[1;33m)\u001b[0m\u001b[1;33m\u001b[0m\u001b[1;33m\u001b[0m\u001b[0m\n\u001b[1;32m--> 292\u001b[1;33m         \u001b[1;32mreturn\u001b[0m \u001b[0mself\u001b[0m\u001b[1;33m.\u001b[0m\u001b[0m_java_obj\u001b[0m\u001b[1;33m.\u001b[0m\u001b[0mfit\u001b[0m\u001b[1;33m(\u001b[0m\u001b[0mdataset\u001b[0m\u001b[1;33m.\u001b[0m\u001b[0m_jdf\u001b[0m\u001b[1;33m)\u001b[0m\u001b[1;33m\u001b[0m\u001b[1;33m\u001b[0m\u001b[0m\n\u001b[0m\u001b[0;32m    293\u001b[0m \u001b[1;33m\u001b[0m\u001b[0m\n\u001b[0;32m    294\u001b[0m     \u001b[1;32mdef\u001b[0m \u001b[0m_fit\u001b[0m\u001b[1;33m(\u001b[0m\u001b[0mself\u001b[0m\u001b[1;33m,\u001b[0m \u001b[0mdataset\u001b[0m\u001b[1;33m)\u001b[0m\u001b[1;33m:\u001b[0m\u001b[1;33m\u001b[0m\u001b[1;33m\u001b[0m\u001b[0m\n",
      "\u001b[1;32m~\\anaconda3\\envs\\spark_env\\lib\\site-packages\\py4j\\java_gateway.py\u001b[0m in \u001b[0;36m__call__\u001b[1;34m(self, *args)\u001b[0m\n\u001b[0;32m   1303\u001b[0m         \u001b[0manswer\u001b[0m \u001b[1;33m=\u001b[0m \u001b[0mself\u001b[0m\u001b[1;33m.\u001b[0m\u001b[0mgateway_client\u001b[0m\u001b[1;33m.\u001b[0m\u001b[0msend_command\u001b[0m\u001b[1;33m(\u001b[0m\u001b[0mcommand\u001b[0m\u001b[1;33m)\u001b[0m\u001b[1;33m\u001b[0m\u001b[1;33m\u001b[0m\u001b[0m\n\u001b[0;32m   1304\u001b[0m         return_value = get_return_value(\n\u001b[1;32m-> 1305\u001b[1;33m             answer, self.gateway_client, self.target_id, self.name)\n\u001b[0m\u001b[0;32m   1306\u001b[0m \u001b[1;33m\u001b[0m\u001b[0m\n\u001b[0;32m   1307\u001b[0m         \u001b[1;32mfor\u001b[0m \u001b[0mtemp_arg\u001b[0m \u001b[1;32min\u001b[0m \u001b[0mtemp_args\u001b[0m\u001b[1;33m:\u001b[0m\u001b[1;33m\u001b[0m\u001b[1;33m\u001b[0m\u001b[0m\n",
      "\u001b[1;32mC:\\bigdata\\spark\\python\\pyspark\\sql\\utils.py\u001b[0m in \u001b[0;36mdeco\u001b[1;34m(*a, **kw)\u001b[0m\n\u001b[0;32m     77\u001b[0m                 \u001b[1;32mraise\u001b[0m \u001b[0mQueryExecutionException\u001b[0m\u001b[1;33m(\u001b[0m\u001b[0ms\u001b[0m\u001b[1;33m.\u001b[0m\u001b[0msplit\u001b[0m\u001b[1;33m(\u001b[0m\u001b[1;34m': '\u001b[0m\u001b[1;33m,\u001b[0m \u001b[1;36m1\u001b[0m\u001b[1;33m)\u001b[0m\u001b[1;33m[\u001b[0m\u001b[1;36m1\u001b[0m\u001b[1;33m]\u001b[0m\u001b[1;33m,\u001b[0m \u001b[0mstackTrace\u001b[0m\u001b[1;33m)\u001b[0m\u001b[1;33m\u001b[0m\u001b[1;33m\u001b[0m\u001b[0m\n\u001b[0;32m     78\u001b[0m             \u001b[1;32mif\u001b[0m \u001b[0ms\u001b[0m\u001b[1;33m.\u001b[0m\u001b[0mstartswith\u001b[0m\u001b[1;33m(\u001b[0m\u001b[1;34m'java.lang.IllegalArgumentException: '\u001b[0m\u001b[1;33m)\u001b[0m\u001b[1;33m:\u001b[0m\u001b[1;33m\u001b[0m\u001b[1;33m\u001b[0m\u001b[0m\n\u001b[1;32m---> 79\u001b[1;33m                 \u001b[1;32mraise\u001b[0m \u001b[0mIllegalArgumentException\u001b[0m\u001b[1;33m(\u001b[0m\u001b[0ms\u001b[0m\u001b[1;33m.\u001b[0m\u001b[0msplit\u001b[0m\u001b[1;33m(\u001b[0m\u001b[1;34m': '\u001b[0m\u001b[1;33m,\u001b[0m \u001b[1;36m1\u001b[0m\u001b[1;33m)\u001b[0m\u001b[1;33m[\u001b[0m\u001b[1;36m1\u001b[0m\u001b[1;33m]\u001b[0m\u001b[1;33m,\u001b[0m \u001b[0mstackTrace\u001b[0m\u001b[1;33m)\u001b[0m\u001b[1;33m\u001b[0m\u001b[1;33m\u001b[0m\u001b[0m\n\u001b[0m\u001b[0;32m     80\u001b[0m             \u001b[1;32mraise\u001b[0m\u001b[1;33m\u001b[0m\u001b[1;33m\u001b[0m\u001b[0m\n\u001b[0;32m     81\u001b[0m     \u001b[1;32mreturn\u001b[0m \u001b[0mdeco\u001b[0m\u001b[1;33m\u001b[0m\u001b[1;33m\u001b[0m\u001b[0m\n",
      "\u001b[1;31mIllegalArgumentException\u001b[0m: 'requirement failed: Column PlayTennis must be of type numeric but was actually of type string.'"
     ]
    }
   ],
   "source": [
    "from pyspark.ml.classification import DecisionTreeClassifier\n",
    "\n",
    "dt = DecisionTreeClassifier(featuresCol = 'features', labelCol = 'PlayTennis')\n",
    "\n",
    "dtModel = dt.fit(trainingData)\n",
    "\n",
    "dtModel"
   ]
  },
  {
   "cell_type": "code",
   "execution_count": null,
   "id": "e110abc7",
   "metadata": {},
   "outputs": [],
   "source": []
  }
 ],
 "metadata": {
  "kernelspec": {
   "display_name": "Python 3",
   "language": "python",
   "name": "python3"
  },
  "language_info": {
   "codemirror_mode": {
    "name": "ipython",
    "version": 3
   },
   "file_extension": ".py",
   "mimetype": "text/x-python",
   "name": "python",
   "nbconvert_exporter": "python",
   "pygments_lexer": "ipython3",
   "version": "3.6.13"
  }
 },
 "nbformat": 4,
 "nbformat_minor": 5
}
