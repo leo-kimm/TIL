{
 "cells": [
  {
   "cell_type": "code",
   "execution_count": 1,
   "metadata": {},
   "outputs": [
    {
     "data": {
      "text/plain": [
       "'c'"
      ]
     },
     "execution_count": 1,
     "metadata": {},
     "output_type": "execute_result"
    }
   ],
   "source": [
    "# 가운데 글자 가져오기 => 성공\n",
    "\n",
    "def solution(s):\n",
    "    answer = ''\n",
    "    if len(s) %2 == 0:\n",
    "        answer += s[len(s)//2-1]+s[len(s)//2]\n",
    "    else:\n",
    "        answer += s[len(s)//2]\n",
    "    return answer\n",
    "\n",
    "\n",
    "solution(\"abcde\")"
   ]
  },
  {
   "cell_type": "code",
   "execution_count": 25,
   "metadata": {},
   "outputs": [
    {
     "data": {
      "text/plain": [
       "[3, 4, 5, 6, 7, 8, 9]"
      ]
     },
     "execution_count": 25,
     "metadata": {},
     "output_type": "execute_result"
    }
   ],
   "source": [
    "# 두개 뽑아서 더하기 ver.1 => 성공\n",
    "\n",
    "def solution(numbers):\n",
    "    answer = []\n",
    "    for i in range(len(numbers)):\n",
    "        for j in range(len(numbers)):\n",
    "            if i != j:\n",
    "                answer.append(numbers[i]+numbers[j])\n",
    "    answer = sorted(list(set(answer)))\n",
    "    return answer\n",
    "\n",
    "\n",
    "solution([1,2,3,4,5])"
   ]
  },
  {
   "cell_type": "code",
   "execution_count": 38,
   "metadata": {},
   "outputs": [
    {
     "data": {
      "text/plain": [
       "[3, 4, 5, 6, 7, 8, 9]"
      ]
     },
     "execution_count": 38,
     "metadata": {},
     "output_type": "execute_result"
    }
   ],
   "source": [
    "# 두개 뽑아서 더하기 ver.2 => 성공\n",
    "\n",
    "def solution(numbers):\n",
    "    answer = []\n",
    "    n=0\n",
    "    for i in numbers:        \n",
    "        for j in numbers[n+1:]:\n",
    "            answer.append(i+j)\n",
    "        n+=1\n",
    "    answer = sorted(list(set(answer)))\n",
    "    return answer\n",
    "\n",
    "\n",
    "solution([1,2,3,4,5])"
   ]
  },
  {
   "cell_type": "code",
   "execution_count": 44,
   "metadata": {},
   "outputs": [
    {
     "data": {
      "text/plain": [
       "[-1]"
      ]
     },
     "execution_count": 44,
     "metadata": {},
     "output_type": "execute_result"
    }
   ],
   "source": [
    "# 제일 작은 수 제거하기 ver.1\n",
    "\n",
    "def solution(arr):\n",
    "    if len(arr) > 1:\n",
    "        return list(reversed(sorted(arr)))[:-1]\n",
    "    else:\n",
    "        return [-1]\n",
    "\n",
    "solution([10])\n",
    "\n"
   ]
  },
  {
   "cell_type": "code",
   "execution_count": 47,
   "metadata": {},
   "outputs": [
    {
     "data": {
      "text/plain": [
       "[2, 3, 4, 5]"
      ]
     },
     "execution_count": 47,
     "metadata": {},
     "output_type": "execute_result"
    }
   ],
   "source": [
    "# 제일 작은 수 제거하기 ver.2 => 성공\n",
    "\n",
    "\n",
    "def solution(arr):\n",
    "    if len(arr) > 1:\n",
    "        arr.remove(min(arr))\n",
    "        return arr\n",
    "    else:\n",
    "        return [-1]\n",
    "    \n",
    "solution([1,2,3,4,5])"
   ]
  }
 ],
 "metadata": {
  "kernelspec": {
   "display_name": "Python 3",
   "language": "python",
   "name": "python3"
  },
  "language_info": {
   "codemirror_mode": {
    "name": "ipython",
    "version": 3
   },
   "file_extension": ".py",
   "mimetype": "text/x-python",
   "name": "python",
   "nbconvert_exporter": "python",
   "pygments_lexer": "ipython3",
   "version": "3.8.5"
  }
 },
 "nbformat": 4,
 "nbformat_minor": 4
}
