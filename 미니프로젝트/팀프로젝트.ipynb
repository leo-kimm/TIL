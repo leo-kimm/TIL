{
 "cells": [
  {
   "cell_type": "code",
   "execution_count": null,
   "metadata": {},
   "outputs": [
    {
     "name": "stdout",
     "output_type": "stream",
     "text": [
      "★★★★★★★★★★★★★★★★★★★\n",
      " 안녕하세요! 맛있는 음식을 주문하세요 \n",
      "★★★★★★★★★★★★★★★★★★★\n",
      "\n",
      "주문하시려면 1, 추천받으시려면 2 :  1\n",
      "\n",
      "-------------------종류를 선택하세요-------------------\n",
      "korea\n",
      "china\n",
      "west\n",
      "japan\n",
      "\n",
      "어떤 것을 드시겠습니까 : korea\n",
      "\n",
      "-------------------------------------------------------\n",
      "곰작골나주곰탕\n",
      "엽기떡볶이\n",
      "\n",
      "--------------원하는 가게명을 적어주세요---------------\n",
      "곰작골나주곰탕\n",
      "주문하신 메뉴는 <<<곰작골나주곰탕>>>입니다.\n",
      "가격 : (10000,)원\n",
      "총액 : 10000\n",
      "주문이 완료되었습니다. ^^\n"
     ]
    }
   ],
   "source": [
    "total = 0\n",
    "import random\n",
    "import pymysql\n",
    "print(\"★★★★★★★★★★★★★★★★★★★\\n 안녕하세요! 맛있는 음식을 주문하세요 \\n★★★★★★★★★★★★★★★★★★★\")\n",
    "\n",
    "    \n",
    "while True:\n",
    "\n",
    "    \n",
    "\n",
    "    conn = pymysql.connect(\n",
    "        host='localhost',\n",
    "        port=3306,\n",
    "        user='root',\n",
    "        passwd='root',\n",
    "        db='master'\n",
    "    )\n",
    "    conn\n",
    "\n",
    "\n",
    "    order = int(input('\\n주문하시려면 1, 추천받으시려면 2 :  '))\n",
    "\n",
    "    if order == 1:\n",
    "\n",
    "\n",
    "        sql = \"select distinct kind from restaurant\"\n",
    "        cursor = conn.cursor()\n",
    "        cursor.execute(sql)\n",
    "        print('\\n-------------------종류를 선택하세요-------------------')\n",
    "\n",
    "        for restaurant in cursor:\n",
    "            co = list(restaurant)\n",
    "            print(co[0])\n",
    "\n",
    "        S_kind = input('\\n어떤 것을 드시겠습니까 : ')\n",
    "        print('\\n-------------------------------------------------------')\n",
    "        sql1 = \"select name from restaurant where kind = '\"+S_kind+\"'\"\n",
    "\n",
    "        cursor = conn.cursor()\n",
    "        cursor.execute(sql1)\n",
    "\n",
    "        for restaurant in cursor:\n",
    "            bo = list(restaurant)\n",
    "            print(bo[0])\n",
    "\n",
    "\n",
    "        C_kind = input('\\n--------------원하는 가게명을 적어주세요---------------\\n')\n",
    "\n",
    "        sql2 = \"select price from restaurant where name like '\"+C_kind+\"'\"\n",
    "        cursor = conn.cursor()\n",
    "        cursor.execute(sql2)\n",
    "        a = cursor.fetchone()\n",
    "        b = list(a)\n",
    "\n",
    "        \n",
    "        total += b[0]\n",
    "        print(f'주문하신 메뉴는 <<<{C_kind}>>>입니다.\\n가격 : {a}원\\n총액 : {total}\\n주문이 완료되었습니다. ^^')\n",
    "        reorder = input('추가로 주문하시겠습니까?  (y/n)')\n",
    "        if reorder == 'y':\n",
    "            continue\n",
    "        else:\n",
    "            print('주문해주셔서 감사합니다 ^^')\n",
    "            break\n",
    "            \n",
    "            \n",
    "    elif order == 2:\n",
    "            \n",
    "        \n",
    "            \n",
    "        sql3 = \"select * from menu\"\n",
    "        cursor = conn.cursor()\n",
    "        cursor.execute(sql3)\n",
    "        result = cursor.fetchall()\n",
    "\n",
    "        a = random.randint(0, 21)\n",
    "        print(\"★★★★★★★★★★★★★★★★★★★\\n          오늘의 추천메뉴는! \\n★★★★★★★★★★★★★★★★★★★\")\n",
    "        print(f'식당명 : {result[a][0]}\\n메뉴 : {result[a][1]}\\n평점 : {result[a][2]}')\n",
    "        \n",
    "        \n",
    "\n",
    "    "
   ]
  },
  {
   "cell_type": "code",
   "execution_count": 6,
   "metadata": {},
   "outputs": [
    {
     "name": "stdout",
     "output_type": "stream",
     "text": [
      "20\n"
     ]
    },
    {
     "data": {
      "text/plain": [
       "('용손짜장', '군만두', 5)"
      ]
     },
     "execution_count": 6,
     "metadata": {},
     "output_type": "execute_result"
    }
   ],
   "source": [
    "sql3 = \"select * from menu\"\n",
    "cursor = conn.cursor()\n",
    "cursor.execute(sql3)\n",
    "result = cursor.fetchall()\n",
    "print(len(result))\n",
    "a = 1\n",
    "result[a]"
   ]
  },
  {
   "cell_type": "code",
   "execution_count": null,
   "metadata": {},
   "outputs": [],
   "source": []
  }
 ],
 "metadata": {
  "kernelspec": {
   "display_name": "Python 3",
   "language": "python",
   "name": "python3"
  },
  "language_info": {
   "codemirror_mode": {
    "name": "ipython",
    "version": 3
   },
   "file_extension": ".py",
   "mimetype": "text/x-python",
   "name": "python",
   "nbconvert_exporter": "python",
   "pygments_lexer": "ipython3",
   "version": "3.8.5"
  }
 },
 "nbformat": 4,
 "nbformat_minor": 4
}
