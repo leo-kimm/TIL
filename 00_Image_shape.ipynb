{
 "cells": [
  {
   "cell_type": "markdown",
   "metadata": {
    "id": "fOYzxftOXmAX"
   },
   "source": [
    "## 준비 실습. Image 살펴보기"
   ]
  },
  {
   "cell_type": "code",
   "execution_count": null,
   "metadata": {
    "id": "nLeoB-14XmAa"
   },
   "outputs": [],
   "source": [
    "# 1. package 가져오기\n",
    "from PIL import Image\n",
    "import numpy as np"
   ]
  },
  {
   "cell_type": "code",
   "execution_count": null,
   "metadata": {
    "id": "te5YH6NZXmAv"
   },
   "outputs": [],
   "source": [
    "# 2. 이미지 가져오기\n",
    "image_9 = Image.open('01image.png')"
   ]
  },
  {
   "cell_type": "code",
   "execution_count": null,
   "metadata": {
    "id": "UpGe4Vf6XmA8"
   },
   "outputs": [],
   "source": [
    "# 3. 이미지 array로 변환하기\n",
    "array_9 = np.array(image_9)\n",
    "print(array_9)"
   ]
  },
  {
   "cell_type": "code",
   "execution_count": null,
   "metadata": {
    "id": "_S9RVAejXmBG"
   },
   "outputs": [],
   "source": [
    "# 4. 이미지 살펴보기\n",
    "print(array_9.shape)"
   ]
  },
  {
   "cell_type": "code",
   "execution_count": null,
   "metadata": {
    "id": "D9OH-C_-XmBP"
   },
   "outputs": [],
   "source": [
    "# 5. 이미지 3차원 reshape\n",
    "array_9_3d = array_9.reshape(28,28,1)\n",
    "print(array_9_3d)"
   ]
  },
  {
   "cell_type": "code",
   "execution_count": null,
   "metadata": {
    "id": "r7RZi5z2XmBV"
   },
   "outputs": [],
   "source": [
    "# 6. 이미지 1차원 reshape\n",
    "array_9_1d = array_9.reshape(-1,)\n",
    "print(array_9_1d)"
   ]
  },
  {
   "cell_type": "code",
   "execution_count": null,
   "metadata": {},
   "outputs": [],
   "source": [
    "# 이미지 시각화\n",
    "\n",
    "import matplotlib.pyplot as plt\n",
    "\n",
    "plt.imshow(array_9, cmap=plt.cm.BuGn_r)"
   ]
  },
  {
   "cell_type": "code",
   "execution_count": null,
   "metadata": {
    "id": "3ciUF7WKXmBY"
   },
   "outputs": [],
   "source": [
    "# 7. 이미지 resize 픽셀쪼개기\n",
    "\n",
    "import cv2\n",
    "\n",
    "image_9_cv = cv2. imread('01image.png')\n",
    "image_9_cv.resize(10,10) \n",
    "print(image_9_cv.shape)"
   ]
  },
  {
   "cell_type": "code",
   "execution_count": null,
   "metadata": {},
   "outputs": [],
   "source": [
    "print(image_9_cv)\n",
    "plt.imshow(image_9_cv, cmap=plt.cm.BuGn_r)"
   ]
  },
  {
   "cell_type": "code",
   "execution_count": null,
   "metadata": {},
   "outputs": [],
   "source": [
    "# 고양이 가져오기\n",
    "\n",
    "image_cat = Image.open('02image.png')\n",
    "\n",
    "image_cat_cv = cv2. imread('02image.png')\n",
    "print(image_cat_cv.shape)\n",
    "\n",
    "plt.imshow(image_cat_cv)"
   ]
  },
  {
   "cell_type": "code",
   "execution_count": null,
   "metadata": {},
   "outputs": [],
   "source": [
    "image_chicken = Image.open('chi.png')\n",
    "\n",
    "\n",
    "plt.imshow(image_chicken)"
   ]
  },
  {
   "cell_type": "code",
   "execution_count": null,
   "metadata": {},
   "outputs": [],
   "source": [
    "image_chicken_cv = cv2.imread('chi.png')\n",
    "plt.imshow(image_chicken_cv)"
   ]
  },
  {
   "cell_type": "code",
   "execution_count": null,
   "metadata": {},
   "outputs": [],
   "source": [
    "image_chicken_cv = cv2.imread('chi.png',cv2.IMREAD_GRAYSCALE)\n",
    "plt.imshow(image_chicken_cv)"
   ]
  },
  {
   "cell_type": "code",
   "execution_count": null,
   "metadata": {},
   "outputs": [],
   "source": [
    "image_chicken2 = Image.open('chic.jpg')\n",
    "\n",
    "plt.imshow(image_chicken2)"
   ]
  },
  {
   "cell_type": "code",
   "execution_count": null,
   "metadata": {},
   "outputs": [],
   "source": [
    "image_chicken2 = Image.open('chic.jpg')\n",
    "chi2_array = np.array(image_chicken2)\n",
    "print(chi2_array.shape)"
   ]
  },
  {
   "cell_type": "code",
   "execution_count": null,
   "metadata": {},
   "outputs": [],
   "source": [
    "image_chicken2_cv = cv2.imread('chic.jpg',cv2.IMREAD_GRAYSCALE)\n",
    "plt.imshow(image_chicken2_cv)"
   ]
  }
 ],
 "metadata": {
  "colab": {
   "name": "00.Image_shape.ipynb",
   "provenance": []
  },
  "kernelspec": {
   "display_name": "Python 3",
   "language": "python",
   "name": "python3"
  },
  "language_info": {
   "codemirror_mode": {
    "name": "ipython",
    "version": 3
   },
   "file_extension": ".py",
   "mimetype": "text/x-python",
   "name": "python",
   "nbconvert_exporter": "python",
   "pygments_lexer": "ipython3",
   "version": "3.8.5"
  }
 },
 "nbformat": 4,
 "nbformat_minor": 1
}
